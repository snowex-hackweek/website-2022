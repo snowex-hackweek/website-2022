{
 "cells": [
  {
   "cell_type": "markdown",
   "id": "b14e2639-5204-4860-b829-81d66537dc7b",
   "metadata": {
    "pycharm": {
     "name": "#%% md\n"
    }
   },
   "source": [
    "# SoOp Tutorial"
   ]
  },
  {
   "cell_type": "markdown",
   "id": "b6003f98",
   "metadata": {},
   "source": [
    "**Contributors:** *Xiaolan Xu<sup>1</sup>, Rashmi Shah<sup>1</sup>, Simon Yueh<sup>1</sup>*\n",
    "\n",
    "*<sup>1</sup> Jet Propulsion Lab, California Institude of Technology*"
   ]
  },
  {
   "cell_type": "markdown",
   "id": "48faf182-32b3-4e84-bdf7-fa0ffdc45530",
   "metadata": {},
   "source": [
    "\n",
    "## Learning Objectives\n",
    "\n",
    "- Signals of Opportunity Concept Introduction\n",
    "- P-band Application for Terrestrial Snow\n",
    "- Validation through Tower Measurement\n"
   ]
  },
  {
   "cell_type": "markdown",
   "id": "0b802fb4-c585-44aa-a25e-3d7baca127b9",
   "metadata": {},
   "source": [
    "## Signals of Opportunity (SoOP) Concept\n",
    "<P>\n",
    "Re-utilizing powerful satellite transmissions as illumination sources for bistatic radar. \n",
    "SoOp has some beneficial characteristics of both active and passive microwave techniques, as well as its own unique features.\n",
    "<UL>\n",
    "<LI> High signal-to-noise ratio resulting (forward-scatter configuration)\n",
    "<LI> Direct signal for calibration\n",
    "<LI> Resolution set by the signal bandwidth and T/R configuration\n",
    "<LI> Protected spectral bands can be used for science applications\n",
    "<LI> Significantly cheaper than conventional active microwave sensors\n",
    "<LI> Less impact by the Radio Frequency Interference\n",
    "\n",
    "</UL>\n",
    "\n",
    "<img src=\"./images/config.jpg\" alt=\"Drawing\" style=\"width: 500px;\"/>"
   ]
  },
  {
   "cell_type": "markdown",
   "id": "e42864a9-66a2-4269-a5cc-ad41484dfff2",
   "metadata": {},
   "source": [
    "## Why P-band for Snow?"
   ]
  },
  {
   "cell_type": "markdown",
   "id": "dd569fb0-8b76-4230-94ee-4ec1b1c5ab6d",
   "metadata": {
    "tags": []
   },
   "source": [
    "\n",
    "### P-band Transimited Signals: MUOS\n",
    "<P>\n",
    "<A HREF=\"https://en.wikipedia.org/wiki/Mobile_User_Objective_System\">MUOS</A> is a U.S. Navy communication system, that consists of five geostationary stationary satellites \n",
    "and has almost global coverage.\n",
    "\n",
    "\n",
    "\n",
    "|                        | MUOS\n",
    "| ---------------------- | ---------- \n",
    "| Operator               |  USnavy  \n",
    "| Frequency              |  240-270 MHz/ 360-380 MHz         \n",
    "| Orbit                  |  GEO         \n",
    "| EIRP                   |  27 dBW/ 43dBW        \n",
    "| Polarization           |  RHCP         \n",
    "| Bandwidth              |  5 KHz, 25 KHz/ 5 MHz \n",
    "| Modulation             |  PSK\n",
    "\n",
    "\n",
    "\n",
    "\n",
    "\n",
    "### P-band Penetration suitable for mountainous deep snow\n",
    "\n",
    "The P-band signal of opportunity stands out relative to other available signals for its ability to characterize deep snow that occurs in mountainous environments, and to penetrate through forest canopies. \n",
    "    \n",
    "<img src=\"./images/Penetration.jpg\" alt=\"Drawing\" style=\"width: 800px;\"/>\n",
    "\n",
    "\n",
    "\n",
    "### Phase Measurement vs. SWE\n",
    "\n",
    "We recorded both direct signals and reflected signals and cross-correlation them to estimation of time delay or path delay (Pd). \n",
    "The path delay can be directly related to SWE.\n",
    "\n",
    "$$ \\Delta\\phi = a * f * SWE $$\n",
    "\n",
    "$\\Delta\\phi$ is the phase change between two scenes, $f$ is the frequency, $a$ depends on incidence angle, $SWE$ is the snow water equivalence. \n",
    "\n",
    "<P>\n",
    "The concept is similar to the repeat-pass radar interferometry concept, which is based on phase\n",
    "changes could provide a high-resolution mapping of SWE, but will require a good coherence between two passes,\n",
    "high transmit power and a large antenna, as typically needed for spaceborne SAR based on radar backscattering.\n",
    "Applying the radar “phase-change-detection” concept to\n",
    "reflected SoOp from digital communication satellites, we\n",
    "analyze the phase-SWE relationship and impact of various\n",
    "factors. The difference between SoOp and SAR geometries is\n",
    "that the SoOp concept obtains data from the forward scattering\n",
    "path along the direction of specular reflection as opposed to\n",
    "the backscattering geometry of SAR. However, the physical\n",
    "principle for the phase-SWE relationship remains the same. Therefore, the advantage of the\n",
    "SoOp concept is that the forward scattering coefficients can be\n",
    "much stronger than the radar backscatter at the same elevation\n",
    "angle, and hence will require a smaller antenna for signal\n",
    "detection.\n",
    "\n"
   ]
  },
  {
   "cell_type": "markdown",
   "id": "b8cff12b-a4f8-4094-a9c9-5936204f6ddd",
   "metadata": {},
   "source": [
    "## Ground Tower Experiments at Fraser, CO\n",
    "* Fraser Experimental Forest (FEF) Headquarters, near Fraser, CO, USA (39.847°N, 105.912°W) \n",
    "<img src=\"./images/Fraser.jpg\" alt=\"Drawing\" style=\"width: 600px;\"/>\n",
    "\n",
    "Schematic of the instrument on the field. The P-band antennas and the\n",
    "amplifiers were installed at the top of the 15.2-m tower and the receiver system\n",
    "(USRPB210 and the computer) was installed on the ground in an equipment\n",
    "shed close to the tower. The incidence angle of the reflection geometry is 43°\n",
    "from UFO signal.\n",
    "<img src=\"./images/hardware.jpg\" alt=\"Drawing\" style=\"width: 600px;\"/>\n",
    "\n",
    "P-band retrievals from tower measurements. (First-panel) Retrieved SWE from phase of 260 and 367 MHz vs. in situ SWE  with RMSE of 1.15-1.6 cm from surface with and without tree canopies in dry snow condition. (Second-panel) Retrieved SD from phase of 367 MHz vs. in situ SD  with RMSE of 7.8-8.9 cm from same surfaces in wet snow condition. Diagonal lines in all figures are one-to-one line.\n",
    "\n",
    "<img src=\"./images/SWEvsPhase.jpg\" alt=\"Drawing\" style=\"width: 600px;\"/>\n",
    "\n",
    "Content to be added soon...\n"
   ]
  },
  {
   "cell_type": "markdown",
   "id": "ef9fcf7c-b8b9-4bee-9dd4-38151933465f",
   "metadata": {},
   "source": [
    "## References\n",
    "\n",
    "<OL>\n",
    "<LI> <A HREF=\"https://ieeexplore.ieee.org/abstract/document/8038063\">Yueh, S.H., Xu, X., Shah, R., Kim, Y., Garrison, J.L., Komanduru, A. and Elder, K., 2017. Remote sensing of snow water equivalent using coherent reflection from satellite signals of opportunity: Theoretical modeling. IEEE Journal of Selected Topics in Applied Earth Observations and Remote Sensing, 10(12), pp.5529-5540.\n",
    "</A>    \n",
    "<LI> <A HREF=\"https://ieeexplore.ieee.org/abstract/document/7812647\">Shah, R., Xu, X., Yueh, S., Chae, C.S., Elder, K., Starr, B. and Kim, Y., 2017. Remote sensing of snow water equivalent using P-band coherent reflection. IEEE Geoscience and Remote Sensing Letters, 14(3), pp.309-313.\n",
    "</A>    \n",
    "<LI> <A HREF=\"https://ieeexplore.ieee.org/abstract/document/9357340\"> Yueh, S.H., Shah, R., Xu, X., Stiles, B. and Bosch-Lluis, X., 2021. A satellite synthetic aperture radar concept using P-band signals of opportunity. IEEE Journal of Selected Topics in Applied Earth Observations and Remote Sensing, 14, pp.2796-2816.\n",
    "</A>\n",
    "</OL>"
   ]
  }
 ],
 "metadata": {
  "kernelspec": {
   "display_name": "Python 3 (ipykernel)",
   "language": "python",
   "name": "python3"
  },
  "language_info": {
   "codemirror_mode": {
    "name": "ipython",
    "version": 3
   },
   "file_extension": ".py",
   "mimetype": "text/x-python",
   "name": "python",
   "nbconvert_exporter": "python",
   "pygments_lexer": "ipython3",
   "version": "3.10.5"
  }
 },
 "nbformat": 4,
 "nbformat_minor": 5
}
