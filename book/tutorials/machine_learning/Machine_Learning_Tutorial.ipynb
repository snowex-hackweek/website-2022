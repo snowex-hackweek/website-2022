{
 "cells": [
  {
   "cell_type": "markdown",
   "id": "3c81d7d2",
   "metadata": {},
   "source": [
    "# Introduction to Machine Learning \n",
    "<center> Compiled by: </center>\n",
    "<center> Ibrahim O. Alabi and Evi Ofekeze (Computing PhD, Data Science, Boise State University) </center>"
   ]
  },
  {
   "cell_type": "markdown",
   "id": "fd2c41b2",
   "metadata": {
    "tags": []
   },
   "source": [
    "## Learning Objectives\n",
    "\n",
    "1. Understand the goals and main concepts of a Machine Learning Algorithm\n",
    "2. Prepare a SnowEx dataset for Machine Learning\n",
    "3. Understand the fundamental types of and techniques in Machine Learning\n",
    "4. Implement Machine Learning with a SnowEx dataset\n",
    "5. How to deplo a Machine Learning Model\n",
    "\n",
    "## What is Machine Learning?\n",
    "\n",
    "Machine Learning simply means building algorithms or computer models using data. The goal is to use these \"trained\" computer models to make decisions. \n",
    "\n",
    "Here is a general definition;\n",
    "\n",
    "> Machine Learning is the field of study that gives computers the ability to learn without being explicitly programmed (Arthur Samuel, 1959)\n",
    "\n",
    "Over the years, ML algorithms have achieved great success in a wide variety of fields. Its success stories include disease diagnostics, image recognition, self-driving cars, spam detectors, and handwritten digit recognition. In this tutorial we will train a model using a SnowEx dataset.\n",
    "\n",
    "### Binary Example\n",
    "\n",
    "Suppose we want to build a computer model that returns 1 if the input is a prime number and 0 otherwise. This model may be represented as follows;\n",
    "\n",
    "$$Y = F(X)$$\n",
    "\n",
    "Where:\n",
    "\n",
    "   * $X \\to$ the number entered also called a feature\n",
    "   * $Y \\to$ the outcome we want to predict\n",
    "   * $F \\to$ the model that gets the job done\n",
    "\n",
    "Contrary to classical programming where we the program function, in Machine Learning we learn the function by training the algorithm with data. \n",
    "\n",
    "<img src=\"./images/ml.jpeg\" alt=\"Drawing\" style=\"width: 500px;\"/>\n",
    "\n",
    "\n",
    "$\\qquad \\qquad \\qquad \\qquad \\qquad \\qquad \\qquad \\qquad \\qquad$ image by [Kpaxs on Twitter](https://twitter.com/Kpaxs/status/1163058544402411520)\n",
    "\n",
    "Machine Learning is useful when the function cannot be programmed or the relationship between the features and outcome is unknown. \n",
    "\n",
    "## SnowEx Data\n",
    "\n",
    "Now we will import data from the 2017 SnowEx Airborne Campaign. In Machine Learning terminologies, it contains the following features;\n",
    "\n",
    "- phase\n",
    "- coherence\n",
    "- amplitude\n",
    "- incidence angle\n",
    "\n",
    "and outcome\n",
    "\n",
    "- snow depth\n",
    "\n",
    "The goal is to use the data to learn the computer model $F$ so that\n",
    "\n",
    "snow depth = $F$(phase, coherence, amplitude, incidence angle) \n",
    "\n",
    "Once $F$ is learned, it can be used to predict snow depth given the features."
   ]
  },
  {
   "cell_type": "markdown",
   "id": "3ca5f55a",
   "metadata": {},
   "source": [
    "## Load Dataset\n",
    "\n",
    "Note that this dataset has been cleaned in a separate notebook, and it is available for anyone interested.\n",
    "\n",
    "Load libraries:"
   ]
  },
  {
   "cell_type": "code",
   "execution_count": null,
   "id": "667716e4",
   "metadata": {},
   "outputs": [],
   "source": [
    "import os\n",
    "import time\n",
    "import pickle\n",
    "import numpy as np\n",
    "import pandas as pd\n",
    "import seaborn as sns\n",
    "import matplotlib.pyplot as plt"
   ]
  },
  {
   "cell_type": "code",
   "execution_count": null,
   "id": "a7170953",
   "metadata": {},
   "outputs": [],
   "source": [
    "from sklearn.preprocessing import MinMaxScaler\n",
    "from sklearn.metrics import mean_squared_error, r2_score, mean_absolute_percentage_error, mean_absolute_error"
   ]
  },
  {
   "cell_type": "code",
   "execution_count": null,
   "id": "cf939ccd",
   "metadata": {},
   "outputs": [],
   "source": [
    "dataset = pd.read_csv(\"./data/snow_depth_data.csv\")\n",
    "dataset.info()\n",
    "dataset.head()"
   ]
  },
  {
   "cell_type": "markdown",
   "id": "0ff0fdc0",
   "metadata": {},
   "source": [
    "## Train and Test Sets\n",
    "\n",
    "For the algorithm to learn the relationship pattern between the feature(s) and the outcome variable, it has to be exposed to examples. The dataset containing the examples for training a learning machine is called the *train set* ($\\mathcal{D}^{(tr)}$). \n",
    "\n",
    "On the other hand, the accuracy of an algorithm is measured on how well it predicts the outcome of observations it has not seen before. The dataset containing the observations not used in training the ML algorithm is called the *test set* ($\\mathcal{D}^{(te)}$). \n",
    "\n",
    "In practice, we divide our dataset into train and test sets, train the algorithm on the train set and evaluate its performance on the test set."
   ]
  },
  {
   "cell_type": "code",
   "execution_count": null,
   "id": "8ddf81d5",
   "metadata": {},
   "outputs": [],
   "source": [
    "train_dataset = dataset.sample(frac=0.8, random_state=0)\n",
    "test_dataset = dataset.drop(train_dataset.index)"
   ]
  },
  {
   "cell_type": "markdown",
   "id": "c2b133df",
   "metadata": {},
   "source": [
    "### Inspect the Data\n",
    "\n",
    "**Visualization**\n",
    "\n",
    "Before modelling, it is always a good idea to visualize our dataset. With visualization, we gain insights into the relationships between the variables and the shape of the distribution of each variable. For this data, we shall look into the scatterplot matrix."
   ]
  },
  {
   "cell_type": "code",
   "execution_count": null,
   "id": "9b42fb49",
   "metadata": {},
   "outputs": [],
   "source": [
    "sns.pairplot(train_dataset[['snow_depth','amplitude', 'coherence', 'phase', 'inc_ang']], diag_kind='kde');"
   ]
  },
  {
   "cell_type": "markdown",
   "id": "512a136b",
   "metadata": {},
   "source": [
    "Each panel (excluding the main diagonal) of the scatterplot matrix is a scatterplot for a pair of variables whose identities are given by the corresponding row and column labels. The main diagonal is density plot for each variable. None of the features have a linear relationship with *snow_depth*. This may indicate that a linear model might not be the best option."
   ]
  },
  {
   "cell_type": "markdown",
   "id": "b823fd07",
   "metadata": {},
   "source": [
    "**Descriptive Statistics**\n",
    "\n",
    "- count: the size of the training set\n",
    "- mean: arithmetic mean\n",
    "- std: sample standard deviation\n",
    "- min: minimum value\n",
    "- 25%: 25% of the values fall below this number\n",
    "- 50%: 50$^{th}$ percentile also called the median. 50% of the values fall below this number and 50% of the values fall above this number\n",
    "- 75%: 75% of the values fall below this number\n",
    "- max: maximum value"
   ]
  },
  {
   "cell_type": "code",
   "execution_count": null,
   "id": "8aa6cdf2",
   "metadata": {},
   "outputs": [],
   "source": [
    "train_dataset.describe().transpose()"
   ]
  },
  {
   "cell_type": "markdown",
   "id": "29e80682",
   "metadata": {},
   "source": [
    "### Normalization\n",
    "\n",
    "The features and outcome are measured in different units and hence are on different scales. Machine Learning algorithms are very sensitive and important information can be lost if they are not on the same scale. A simple way to address this is to project all the variables onto the same scale, in a process known as **Normalization**.\n",
    "\n",
    "Normalization simply consists of transforming the variables such that all values are in the unit interval [0, 1]. With Normalization, if $X_j$ is one of the variables, and we have $n$ observations $X_{1j}, X_{2j}, \\cdots, X_{nj}$, then the normalized version of $X_{ij}$ is given by:\n",
    "\n",
    "$$\n",
    "\\tilde{X}{ij} = \\frac{X_{ij} - \\min X_j}{\\max X_j - \\min X_j}\n",
    "$$"
   ]
  },
  {
   "cell_type": "code",
   "execution_count": null,
   "id": "19993714",
   "metadata": {},
   "outputs": [],
   "source": [
    "scaler = MinMaxScaler()\n",
    "scaled_train_features = scaler.fit_transform(train_dataset.drop(columns=['snow_depth']))\n",
    "scaled_test_features = scaler.transform(test_dataset.drop(columns=['snow_depth'])) ## fit_transform != transform. \n",
    "                                                                                   ## transform uses the parameters of fit_transform"
   ]
  },
  {
   "cell_type": "markdown",
   "id": "91f58304",
   "metadata": {},
   "source": [
    "### Separate Features from Labels\n",
    "\n",
    "Our last step for preparing the data for Machine Learning is to separate the features from the outcome."
   ]
  },
  {
   "cell_type": "code",
   "execution_count": null,
   "id": "a0195d2f",
   "metadata": {},
   "outputs": [],
   "source": [
    "train_X, train_y = scaled_train_features[:, :-1], train_dataset['snow_depth']\n",
    "test_X, test_y = scaled_test_features[:, :-1], train_dataset['snow_depth']"
   ]
  },
  {
   "cell_type": "markdown",
   "id": "c5f75d9e",
   "metadata": {},
   "source": [
    "## Why Estimate $F$?\n",
    "\n",
    "We estimate $F$ for two main reasons;\n",
    "\n",
    "1. Prediction: in this case, the features $X$ are available, but there is no explicit rule for obtaining the outcome $Y$.\n",
    "2. Inference: in practice, we are sometimes interested in how changing the input $X$ effects $Y$. Inference can tell us which features are significantly associated with a particular outcome and the nature of the relationship between $X$ and $Y$.\n",
    "    \n",
    "\n",
    "## How Do We Estimate $F$?\n",
    "\n",
    "### Machine Learning Algorithms\n",
    "\n",
    "Machine learning algorithms can be categorized based on different criteria. In this tutorial, our categorization will be based on the amount and type of supervision needed during the training process. Based on this criterion, there are four major categories; supervised learning, unsupervised learning, semisupervised learning, and reinforcement learning. We shall limit our definition to the first two;\n",
    "\n",
    "* **Supervised Learning**: this refers to tasks where we have a specific outcome to predict. That is, every observation of the features has a corresponding outcome. An example of a supervised learning task is predicting snow depth based on some influencing features.\n",
    "\t \n",
    "* **Unsupervised Learning**: this refers to tasks where we have no outcome to predict.  Here, rather than predict an outcome, we seek to understand the relationship between the features or between the observations or to detect anomalous observations. Considering the example above, we assume the snow depth variable does not exist and we either understand the relationship between the features or between the observations based on the features.\n",
    "\n",
    "\n",
    "It is worth noting that a variable can either be categorical or continuous. For now, let's focus on the nature of the outcome variable. In *Supervised Learning* parlance, if the outcome variable is categorical, we have a *classification* task and if continuous, we are in the presence of a *regression* task. Categorical implies that the variable is made of distinct categories (e.g. hair color: grey, blonde, black) and continuous implies that the variable is measured (e.g. snow depth). For the rest of this tutorial, we will focus on *Supervised Learning* tasks with a special concentration on regression tasks.\n",
    "\n",
    "\n",
    "## Machine Learning Installation Guide\n",
    "\n",
    "For this notebook to run successfully, you have to install the following packages;\n",
    "\n",
    "1. TensorFlow\n",
    "2. Keras\n",
    "\n",
    "**Tensorflow**: it is an end-to-end open source platform for machine learning. It makes it easy to train and deploy machine learning models. TensorFlow was created at Google and supports many of their large-scale Machine Learning applications. Read more at [About TensorFlow](https://www.tensorflow.org/).\n",
    "\n",
    "**Keras:**  Keras is a deep learning Application Programming Interface (API) written in Python, running on top of the machine learning platform TensorFlow. It was developed with a focus on enabling fast experimentation. Read more at [About Keras](https://keras.io/about/).\n",
    "\n",
    "Other packages needed come pre-installed in Anaconda.\n",
    "\n",
    "You only need to install TensorFlow as Keras comes as a submodule in TensorFlow. To install TensorFlow, launch the **Jupyter Lab Terminal** and type the following command:\n",
    "\n",
    "&nbsp;&nbsp;&nbsp;&nbsp;&nbsp;&nbsp;  $\\texttt{C:\\Users\\Default> pip install tensorflow}$\n",
    "\n",
    "After installation, you will be able to continue with the tutorial. For this tutorial, both Tensorflow and Keras used are version 2.8\n",
    "\n",
    "\n",
    "Most Machine Learning techniques can be characterised as either *parametric* or *non-parametric*. \n",
    "\n",
    "**Parametric:** The parametric approach simplifies the problem of estimating $F$ to a parameter estimation problem. The disadvantage is that we assume a particular shape of $F$ that may not match the true shape of $F$. The major advantage of using parametric approach that when inference is the goal we can understand how changing $X_1, X_2, \\cdots, X_k$ effects $Y$. A common parametric method is the Linear Regression.\n",
    "\n",
    "**Non-parametric:** Non-parametric approaches do not assume any shape for $F$. Instead, they try to estimate $F$ that gets as close to the data points as possible. The disadvantage of non-parametric approaches is that they require extensive training observations to estimate $F$ accurately. Common examples of non-parametric methods include Random Forest, Neural Networks, and support vector machines.\n",
    "\n",
    "In this tutorial, we will focus on non-parametric approaches with a specific concentration on Random Forest and Neural networks.\n",
    "\n",
    "## Random Forest\n",
    "\n",
    "Random forest is a simple but powerful algorithm that handles classification and regression tasks. The structural building blocks of Random Forest are decision trees; we will begin our explanation with decision trees. When we use decision trees for regression tasks, we call them regression trees; when we use decision trees for classification tasks, we call them classification trees. Subsequently, we use “regression trees” instead of “decision trees” because we will solve a regression problem in this tutorial.\n",
    "\n",
    "### Regression Trees\n",
    "\n",
    "Consider a dataset $\\mathcal{D}_n = \\left\\lbrace (\\textbf{x}_1, y_1), (\\textbf{x}_2, y_2), \\cdots, (\\textbf{x}_n, y_n) \\right\\rbrace$ where $\\textbf{x}_i^\\top \\equiv ({x}_{i1}, {x}_{i2}, \\cdots, {x}_{ik})$ denotes the $k$-dimensional vector of features, and $y_i$ represents the corresponding outcome (continuous in this case).\n",
    "\n",
    "The fundamental concept underlying regression trees is to split the feature space (set of possible values for the features) into two sub-regions. The sub-regions are further divided into two until a stopping criterion is reached. The predicted value of a given observation is the arithmetic mean of the training observations in the region it belongs.\n",
    "\n",
    "\n",
    "## Performance Evaluation\n",
    "\n",
    "Each time we estimate the true outcome ($Y$) using a trained ML algorithm ($F(X)$), the discrepancy between the observed and predicted must be quantified. The question is, how do we quantify this discrepancy? This brings the notion of **loss function**. \n",
    "\n",
    "*Loss Function* $\\mathcal{L} (\\cdot,\\cdot)$ is a bivariate function that quantifies the loss (error) we sustain from predicting $Y$ with $F(X)$. Put another way, **loss function** quantifies how close the prediction $F(X)$ is to the ground truth $Y$.\n",
    "\n",
    "* Regression Loss Function\n",
    "\n",
    "There exists quite a number of ways for which the loss of a regression problem may be quantified. We now illustrate two of them;\n",
    "\n",
    "1. \n",
    "\n",
    "$$\n",
    "\\mathcal{L} (Y,F(X)) = (Y - F(X))^2\n",
    "$$\n",
    "\n",
    "This is popularly known as the *squared error loss* and it is simply the square of the difference between the observed and the predicted values. The loss is squared so that the function reaches its minimum (convex).\n",
    "\n",
    "2.\n",
    "\n",
    "$$\n",
    "\\mathcal{L} (Y,F(X)) = |Y - F(X)|\n",
    "$$\n",
    "\n",
    "Another way to quantify regression loss is by taking the absolute value of the difference between the observed ($Y$) and the predicted ($F(X)$) values. This is called the L1 loss.\n",
    "\n",
    "It is worth noting that the *loss function* as defined above corresponds to a single observation. However, in practice, we want to quantify the loss over the entire dataset and this is where the notion of **empirical risk** comes in. Loss quantified over the entire dataset is called the *empirical risk*. Our goal in ML is to develop an algorithm such that the *empirical risk* is as minimum as possible. *Empirical risk* is also called the *cost function* or the *objective function* we want to minimize.\n",
    "\n",
    "* Regression Empirical Risk\n",
    "\n",
    "$$\n",
    "\\widehat{\\mathcal{R}}_n(F) = \\frac{1}{n}\\sum_{i=1}^n{\\mathcal{L}(Y_i, F(X_i))}\n",
    "$$\n",
    "\n",
    "The empirical risk corresponding to the squared error loss is called \"mean squared error\", while the empirical risk corresponding to the L1 loss is called \"mean absolute error\". Other Regression Loss functions can be found at [Keras: losses](https://keras.io/api/losses/)"
   ]
  },
  {
   "cell_type": "markdown",
   "id": "40b4a6a4",
   "metadata": {},
   "source": [
    "## Random Forest Setup\n",
    "\n",
    "Load Random forest Libraries:"
   ]
  },
  {
   "cell_type": "code",
   "execution_count": null,
   "id": "4f591b43-9a94-4b8f-87c5-e82a48b3d55b",
   "metadata": {},
   "outputs": [],
   "source": [
    "from sklearn.pipeline import Pipeline\n",
    "from sklearn.ensemble import RandomForestRegressor\n",
    "from sklearn.tree import DecisionTreeRegressor, plot_tree\n",
    "from sklearn.model_selection import train_test_split, GridSearchCV"
   ]
  },
  {
   "cell_type": "markdown",
   "id": "bae31b29-cd52-4824-a501-62646bf4467d",
   "metadata": {},
   "source": [
    "### Regression Tree"
   ]
  },
  {
   "cell_type": "code",
   "execution_count": null,
   "id": "0ecde4f3-40ee-456d-9a7e-d3e04a389e55",
   "metadata": {},
   "outputs": [],
   "source": [
    "tree = DecisionTreeRegressor(random_state=0, max_depth=2)  ## random_state=0 for reproducible results\n",
    "tree.fit(train_dataset.drop(columns=['snow_depth']), \n",
    "         train_dataset['snow_depth'])"
   ]
  },
  {
   "cell_type": "code",
   "execution_count": null,
   "id": "b2c38812-482c-4f56-8d66-7f2efb1ca4e1",
   "metadata": {},
   "outputs": [],
   "source": [
    "features = list(train_dataset.columns[:-1])\n",
    "\n",
    "plt.figure(figsize = (20, 8))\n",
    "plot_tree(tree, \n",
    "          filled = True, \n",
    "          fontsize = 12,\n",
    "          node_ids = True,\n",
    "          rounded = True,\n",
    "         feature_names= features)\n",
    "plt.show()"
   ]
  },
  {
   "cell_type": "markdown",
   "id": "4cd2928e-4a64-440c-8fb5-03b6392f31c7",
   "metadata": {},
   "source": [
    "### Now let's explain the regression tree above\n",
    "\n",
    "The root node (node #0) assigns values of **incidence angle** lesser than or equal to 0.818 to the right branch and values of **incidence angle** greater than 0.818 to the left node. Observations with incidence angle lesser than or equal to 0.818 are further partitioned based on **phase** values. Overall, the regression tree splits the observations into four disjoint groups or regions ($R_i$) of the feature space.\n",
    "\n",
    "\\begin{align*}\n",
    "R_1 &= \\left\\lbrace  X \\ | \\ \\text{inc_angle} \\le 0.818,\\ \\text{phase} \\le -8.423 \\right\\rbrace \\qquad \\quad \\hat{y}_{R_1} = 0.712 \\\\\n",
    "R_2 &= \\left\\lbrace  X \\ | \\ \\text{inc_angle} \\le 0.818,\\ \\text{phase} > -8.423 \\right\\rbrace \\qquad \\quad \\hat{y}_{R_2} = 1.174 \\\\\n",
    "R_3 &= \\left\\lbrace  X \\ | \\ \\text{inc_angle} > 0.818,\\ \\text{inc_angle} \\le 0.835 \\right\\rbrace \\qquad \\hat{y}_{R_3} = 1.861 \\\\\n",
    "R_4 &= \\left\\lbrace  X \\ | \\ \\text{inc_angle} > 0.818,\\ \\text{inc_angle} > 0.835 \\right\\rbrace \\qquad \\hat{y}_{R_4} = 2.238 \\\\\n",
    "\\end{align*}\n",
    "\n",
    "where $\\hat{y}_{R_i}$ is the mean of the respective regions. The regions $R_i, \\ i = 1,2,3, 4$ are called *terminal nodes* or *leaves*, the points where the feature space ($X$) is partitioned are called *internal nodes* and the line segments connecting the nodes are referred to as *branches*. Generally, to know which region an observation belongs to, we ask series of question(s) starting from the root node until we get to the terminal node and the value predicted for the observation is mean of all training observations in that region. Mathematically we write;\n",
    " \\begin{equation}\n",
    " \\hat{y} = \\hat{f}(\\text{x}) = \\frac{1}{|R_j|} \\sum_{i = 1}^{n} y_i 1(\\text{x}_i \\in R_j). \n",
    " \\end{equation}\n",
    " \n",
    "Here, if the $i$th observation belongs to region $R_j$, the indicator function equals 1, else, it equals zero.\n",
    "\n",
    "* Root node: node #0.\n",
    "* Internal nodes: node #1 and node #4.\n",
    "* Terminal nodes: node #2, node #3, node #5, and node #6.\n",
    "\n",
    "We have mentioned the recursive splitting of observations into regions, the natural question that comes to mind is, how do we construct the regions? Our goal is to find regions such that the expected loss is minimized. To perform the recursive binary splitting, we consider all features in the feature space and all possible cut-point(s) for the individual features. The feature and cut-point leading to the greatest reduction in expected loss are chosen for splitting. This process is then continued until a stopping criterion is reached. A stopping criterion could be until no region contains more than five observations."
   ]
  },
  {
   "cell_type": "markdown",
   "id": "8180f76d-626f-4139-a6c7-f728f19e512a",
   "metadata": {},
   "source": [
    "### How to make predictions\n",
    "\n",
    "An example:"
   ]
  },
  {
   "cell_type": "code",
   "execution_count": null,
   "id": "d321cf7d-cda3-496f-ae61-5230fd9fbba1",
   "metadata": {},
   "outputs": [],
   "source": [
    "sample = test_dataset.loc[[0], ['amplitude', 'coherence', 'phase', 'inc_ang']]\n",
    "sample"
   ]
  },
  {
   "cell_type": "code",
   "execution_count": null,
   "id": "147cf348-5a9d-4e4b-b526-676f81c11dde",
   "metadata": {},
   "outputs": [],
   "source": [
    "tree.predict(sample)"
   ]
  },
  {
   "cell_type": "markdown",
   "id": "33a32961-e474-4af5-8ed6-709bf7959740",
   "metadata": {},
   "source": [
    "* incidence angle is less than 0.818 and phase is lesser than -8.423. This falls in region two ($R_1$), and our prediction will be 0.712."
   ]
  },
  {
   "cell_type": "markdown",
   "id": "8370d9da-b62c-496b-bb8c-083ca636ac3b",
   "metadata": {},
   "source": [
    "## Random Forest\n",
    "\n",
    "> If you want to go fast, go alone. If you want to go far, go together (African Proverb).\n",
    "\n",
    "Regression trees suffer from high variance, that is, they have a habit of overfitting the training observations. A straightforward way to reduce the variance is to employ the Random Forest (RF) algorithm. RF is an ensemble learning technique that can be used for both classification and regression. The term “ensemble learning” means combining multiple algorithms to obtain an improved version of the constituting algorithms. RF does this using the concept of Bagging.\n",
    "\n",
    "* **Bagging:** Bagging consists of two words; Bootstrap and Aggregation. Bootstrap is a popular resampling technique where random sub-samples (with replacement) are created from the training data. The individual bootstrapped sub-sample is called a “Bag.” Aggregation, however, means combining the results from machines trained on the respective bags. We could say, given our training data, we generate $B$ bootstrapped training sub-samples from the original training data, then we train an algorithm on the respective bootstrapped sub-sample to obtain $\\hat{F}^1 (\\text{x}), \\hat{F}^2 (\\text{x}), \\cdots , \\hat{F}^B (\\text{x})$. The final predicted value is the average of all the individual predictions and it is given by:\n",
    "\\begin{equation}\n",
    "\\hat{F}_{\\text{bag}} (\\text{x}) = \\frac{1}{B} \\sum_{b = 1}^{B} \\hat{F}^{b} (\\text{x}).\n",
    "\\end{equation}\n",
    "\n",
    "This is bagging! In the RF algorithm, regression trees are built on the different bootstrapped samples and the result is a forest of regression trees, hence the \"forest\" in Random Forest. \n",
    "\n",
    "* What makes the forest random?\n",
    "\n",
    "Recall that when training a regression tree, splitting is done at each internal node, however, in the RF algorithm, when building the individual regression trees, only a random sample of the total features is considered for optimal splitting and this is what makes the forest random! In essence, when we combine bagging with random feature selection at each internal node of the constituting regression trees, we are said to have constructed a **Random Forest** learning machine."
   ]
  },
  {
   "cell_type": "markdown",
   "id": "ec706415-66ea-42bc-95af-5fb72d615a16",
   "metadata": {},
   "source": [
    "### Training Random Forest\n",
    "\n",
    "Sklearn's documentation for Random Forest Regression can be found [here](https://scikit-learn.org/stable/modules/generated/sklearn.ensemble.RandomForestRegressor.html). The documentation can also be gotten directly from your Jupyter Notebook using the `help` function as shown below."
   ]
  },
  {
   "cell_type": "code",
   "execution_count": null,
   "id": "7bb2fe08-9d78-4028-8a3f-a108dadb49b2",
   "metadata": {},
   "outputs": [],
   "source": [
    "#help(RandomForestRegressor)"
   ]
  },
  {
   "cell_type": "code",
   "execution_count": null,
   "id": "88f6c5d2-1674-4f47-a524-745c1e1ccac1",
   "metadata": {},
   "outputs": [],
   "source": [
    "rf = RandomForestRegressor(n_estimators=2,max_depth=2,random_state=0)\n",
    "\n",
    "rf.fit(train_dataset.drop(columns=['snow_depth']), \n",
    "         train_dataset['snow_depth'])"
   ]
  },
  {
   "cell_type": "code",
   "execution_count": null,
   "id": "1496f8b8-5c3b-49be-aff9-6077a9c3418c",
   "metadata": {},
   "outputs": [],
   "source": [
    "plt.figure(figsize = (25, 8))\n",
    "\n",
    "plt.subplot(121)\n",
    "plot_tree(rf.estimators_[0], \n",
    "          filled = True, \n",
    "          fontsize = 15, \n",
    "         feature_names= features)\n",
    "\n",
    "plt.subplot(122)\n",
    "plot_tree(rf.estimators_[1], \n",
    "          filled = True, \n",
    "          fontsize = 15, \n",
    "         feature_names= features)\n",
    "\n",
    "plt.show()"
   ]
  },
  {
   "cell_type": "markdown",
   "id": "3baf3717-a696-4619-aa89-0c040392528c",
   "metadata": {},
   "source": [
    "### Making Predictions"
   ]
  },
  {
   "cell_type": "code",
   "execution_count": null,
   "id": "c96c0df3-83dc-4cf1-9151-1073749469d9",
   "metadata": {},
   "outputs": [],
   "source": [
    "sample"
   ]
  },
  {
   "cell_type": "code",
   "execution_count": null,
   "id": "5a1975bb-48fe-4c64-8fc5-5221d0a3c6be",
   "metadata": {},
   "outputs": [],
   "source": [
    "## Overall predictions\n",
    "\n",
    "rf.predict(sample)"
   ]
  },
  {
   "cell_type": "code",
   "execution_count": null,
   "id": "9b57b2b7-9c5c-445e-8ab1-c3b618321df4",
   "metadata": {},
   "outputs": [],
   "source": [
    "## Prediction from the first tree\n",
    "\n",
    "rf.estimators_[0].predict(sample)"
   ]
  },
  {
   "cell_type": "code",
   "execution_count": null,
   "id": "e00462cf-3a49-4fa8-b943-abd711c2bed5",
   "metadata": {},
   "outputs": [],
   "source": [
    "## Prediction from the second tree\n",
    "\n",
    "rf.estimators_[1].predict(sample)"
   ]
  },
  {
   "cell_type": "markdown",
   "id": "906ecafc-1d53-468b-a84b-0ba7e33efb21",
   "metadata": {},
   "source": [
    "Using the same approach as above, the first regression tree predicts 0.7072, and the second regression tree predicts 0.7065. Hence, the final prediction is;\n",
    "\n",
    "$$\\frac{0.7072+0.7065}{2} = 0.70685$$"
   ]
  },
  {
   "cell_type": "markdown",
   "id": "6f004f12-682a-4aad-8b69-3af5e64f5ff4",
   "metadata": {},
   "source": [
    "### Feature Importance\n",
    "\n",
    "The total amount by which the squared\n",
    "error loss is decreased due to splits over a given predictor is documented and averaged over all trees in\n",
    "the forest. The larger the value, the more important the variable."
   ]
  },
  {
   "cell_type": "code",
   "execution_count": null,
   "id": "41850105-da24-4fb4-88bb-069cec95199f",
   "metadata": {},
   "outputs": [],
   "source": [
    "feature_impotanceRF = pd.Series(rf.feature_importances_, index=features)\n",
    "feature_impotanceRF.plot(kind = 'bar')\n",
    "plt.xlabel('Feature')\n",
    "plt.ylabel('Importance Score')\n",
    "plt.show()"
   ]
  },
  {
   "cell_type": "markdown",
   "id": "9f116aaf-3db0-40a1-9823-f00c83287e44",
   "metadata": {},
   "source": [
    "### Putting it all together\n",
    "\n",
    "We'll use Sklearn's [Pipeline](https://scikit-learn.org/stable/modules/generated/sklearn.pipeline.Pipeline.html) to preprocess and fit our model in one shot."
   ]
  },
  {
   "cell_type": "code",
   "execution_count": null,
   "id": "55b4649f-5078-4655-b859-2232bdfbb000",
   "metadata": {},
   "outputs": [],
   "source": [
    "rf_pipe = Pipeline([\n",
    "    ('Scaler', MinMaxScaler()),\n",
    "    ('classifier', RandomForestRegressor())\n",
    "])\n",
    "\n",
    "rf_pipe.fit(train_dataset.drop(columns=['snow_depth']), \n",
    "         train_dataset['snow_depth'])"
   ]
  },
  {
   "cell_type": "markdown",
   "id": "dc5d7715",
   "metadata": {
    "jp-MarkdownHeadingCollapsed": true,
    "tags": []
   },
   "source": [
    "## Neural Networks\n",
    "\n",
    "Neural networks (NN) are a type of non-parametric method. Non-parametric approaches do not assume any shape for $F$. Instead, the try to estimate $F$ that gets as close to the data points as possible. \n",
    "\n",
    "Neural networks are learning machines inspired by the functionality of biological neurons. They are not models of the brain, because there is no proven evidence that the brain operates the same way neural networks learn representations. However, some of the concepts were inspired by understanding the brain. Every NN consists of three distinct layers; \n",
    "\n",
    "1. Input layer \n",
    "2. Hidden layer(s) and \n",
    "3. Output layer. \n",
    "\n",
    "To understand the functioning of these layers, we begin by exploring the building blocks of neural networks; a single neuron or perceptron.\n",
    "\n",
    "### A perceptron or Single Neuron\n",
    "\n",
    "Each layer in a NN consists of small individual units called neurons (usually represented with a circle). A neuron receives inputs from other neurons, performs some mathematical operations, and then produces an output. Each neuron in the input layer represents a  feature. In essence, the number of neurons in the input layer equals the number of features. Each neuron in the input layer is connected to every neuron in the hidden layer. The number of neurons in the hidden layer is not fixed, it is problem dependent and it is often determined via cross-validation or validation set approach in practice. \n",
    "\n",
    "<img src=\"./images/feedforward.png\" alt=\"Drawing\" style=\"width: 500px;\"/>\n",
    "\n",
    "The configuration of the hidden layer(s) controls the complexity of the network. A NN may contain more than one hidden layer. A NN with more than one hidden layer is called a **deep neural network** while that with a single hidden layer is a **shallow neural network**. The final layer of a neural network is called the output layer and it holds the predicted outcomes of observations passed into the input layer. Every inter-neuron connection has an associated weight, these weights are what the neural network learns during the training process. When connections between the layers do not form a loop, such networks are called **feedforward neural networks** and if otherwise, they are called **recurrent neural networks**. In this tutorial, we shall concentrate on the feed forward neural networks.\n",
    "\n",
    "\n",
    "\n",
    "#### How the perceptron works\n",
    "\n",
    "Consider a dataset $\\mathcal{D}_n = \\left\\lbrace (\\textbf{x}_1, y_1), (\\textbf{x}_2, y_2), \\cdots, (\\textbf{x}_n, y_n) \\right\\rbrace$ where $\\textbf{x}_i^\\top \\equiv ({x}_{i1}, {x}_{i2}, \\cdots, {x}_{ik})$ denotes the $k$-dimensional vector of features, and $y_i$ represents the corresponding outcome. Given a set of input fed into the network through the input layer, the output of a neuron in the hidden layer is\n",
    "\n",
    "$$\n",
    " f(\\textbf{x}_i;\\textbf{w}) = g(w_0 + \\textbf{w}^\\top \\textbf{x}_i),\n",
    "$$\n",
    "\n",
    "where $\\textbf{w} = (w_1, w_2, \\cdots, w_k)^\\top$ is a vector of weights and  $w_0$ is the bias term associated with the neuron. The weights can be thought of as the slopes in a linear regression and the bias as the intercept. The function $g(\\cdot)$ is known as the activation function and it is  used to introduce non-linearity into the network.\n",
    "\n",
    "<img src=\"./images/perceptron.png\" alt=\"Drawing\" style=\"width: 400px;\"/>\n",
    "\n",
    "$\\qquad \\qquad \\qquad \\qquad \\qquad \\qquad \\qquad \\qquad \\qquad \\qquad \\qquad$  A Perceptron\n",
    "\n",
    "There exists a number of activation functions in practice, the commonly used ones are\n",
    "\n",
    "1. Sigmoid or Logistic activation function $$g(z) = \\frac{1}{1 + e^{-z}}.$$\n",
    "2. Hyperbolic Tangent activation function $$g(z) = \\tanh (z) = \\frac{e^{z}-e^{-z}}{e^{z}+e^{-z}}.$$\n",
    "3. Rectified Linear Unit activation function $$g(z) = \\max(0,z).$$"
   ]
  },
  {
   "cell_type": "markdown",
   "id": "2887e834",
   "metadata": {},
   "source": [
    "### Visualizing Activation Functions"
   ]
  },
  {
   "cell_type": "code",
   "execution_count": null,
   "id": "8fff65bb",
   "metadata": {},
   "outputs": [],
   "source": [
    "def Sigmoid(z):\n",
    "    \"\"\"\n",
    "    A function that performs the sigmoid transformation\n",
    "    \n",
    "    Arguments:\n",
    "    ---------\n",
    "        -* z: array/list of numbers to activate\n",
    "    \n",
    "    Returns:\n",
    "    --------\n",
    "        -* logistic: the transformed/activated version of the array\n",
    "    \"\"\"\n",
    "    \n",
    "    logistic = 1/(1+ np.exp(-z))\n",
    "    return logistic\n",
    "    \n",
    "\n",
    "def Tanh(z):\n",
    "    \"\"\"\n",
    "    A function that performs the hyperbolic tangent transformation\n",
    "    \n",
    "    Arguments:\n",
    "    ---------\n",
    "        -* z: array/list of numbers to activate\n",
    "    \n",
    "    Returns:\n",
    "    --------\n",
    "        -* hyp: the transformed/activated version of the array\n",
    "    \"\"\"\n",
    "    \n",
    "    hyp = np.tanh(z)\n",
    "    return hyp\n",
    "\n",
    "\n",
    "def ReLu(z):\n",
    "    \"\"\"\n",
    "    A function that performs the hyperbolic tangent transformation\n",
    "    \n",
    "    Arguments:\n",
    "    ---------\n",
    "        -* z: array/list of numbers to activate\n",
    "    \n",
    "    Returns:\n",
    "    --------\n",
    "        -* points: the transformed/activated version of the array\n",
    "    \"\"\"\n",
    "    \n",
    "    points = np.where(z < 0, 0, z)\n",
    "    return points\n",
    "\n",
    "z = np.linspace(-10,10)\n",
    "fa = plt.figure(figsize=(16,5))\n",
    "\n",
    "plt.subplot(1,3,1)\n",
    "plt.plot(z,Sigmoid(z),color=\"red\", label=r'$\\frac{1}{1 + e^{-z}}$')\n",
    "plt.grid(True, which='both')\n",
    "plt.xlabel('z')\n",
    "plt.ylabel('g(z)', fontsize=15)\n",
    "plt.title(\"Sigmoid Activation Function\")\n",
    "plt.legend(loc='best',fontsize = 22)\n",
    "\n",
    "\n",
    "plt.subplot(1,3,2)\n",
    "plt.plot(z,Tanh(z),color=\"red\", label=r'$\\tanh (z)$')\n",
    "plt.grid(True, which='both')\n",
    "plt.xlabel('z')\n",
    "plt.ylabel('g(z)', fontsize=15)\n",
    "plt.title(\"Hyperbolic Tangent Activation Function\")\n",
    "plt.legend(loc='best',fontsize = 18)\n",
    "\n",
    "plt.subplot(1,3,3)\n",
    "plt.plot(z,ReLu(z),color=\"red\", label=r'$\\max(0,z)$')\n",
    "plt.grid(True, which='both')\n",
    "plt.xlabel('z')\n",
    "plt.ylabel('g(z)', fontsize=15)\n",
    "plt.title(\"Rectified Linear Unit Activation Function\")\n",
    "plt.legend(loc='best', fontsize = 18)"
   ]
  },
  {
   "cell_type": "markdown",
   "id": "5f928ad1",
   "metadata": {},
   "source": [
    "### Families of Neural Networks\n",
    "\n",
    "1. Feedforward Neural Networks: often used for structural data\n",
    "2. Convolutional Neural Networks: the gold standard for image classification\n",
    "3. Transfer Learning: reusing knowledge from previous tasks on new tasks\n",
    "4. Recurrent Neural Networks: well suited for sequence data such as texts, time series, drawing generation\n",
    "5. Encoder-Decoders: comminly used for but not limited to machine translation\n",
    "6. Generative Adversarial Networks: usually used for 3D modelling for video games, animation, etc.\n",
    "7. Graph Neural Networks: usually used to work with graph data."
   ]
  },
  {
   "cell_type": "markdown",
   "id": "aa1696df-e325-450c-9f0c-7dc7e0996546",
   "metadata": {},
   "source": [
    "## Neural Network Setup\n",
    "\n",
    "Load libraries:"
   ]
  },
  {
   "cell_type": "code",
   "execution_count": null,
   "id": "3406e044-55f1-4380-b816-df474debb269",
   "metadata": {},
   "outputs": [],
   "source": [
    "import tensorflow as tf # Keras is part of standard TensorFlow library (Keras is available as a submodule in the TensorFlow library)"
   ]
  },
  {
   "cell_type": "code",
   "execution_count": null,
   "id": "e41c6a4e-5e1f-4e47-a221-5965910045a4",
   "metadata": {},
   "outputs": [],
   "source": [
    "### Check the version of Tensorflow and Keras\n",
    "print(\"TensorFlow version ==>\", tf.__version__) \n",
    "print(\"Keras version ==>\",tf.keras.__version__)"
   ]
  },
  {
   "cell_type": "markdown",
   "id": "4c54107c",
   "metadata": {
    "tags": []
   },
   "source": [
    "### Feedforward Neural Network\n",
    "\n",
    "* **Specify Architecture**\n",
    "\n",
    "Here, we shall include three hidden layers with 1000, 512, and 256 neurons respectively. Layers added using the \"$\\texttt{network.add($\\cdots$)}$\" command."
   ]
  },
  {
   "cell_type": "code",
   "execution_count": null,
   "id": "546c2382",
   "metadata": {},
   "outputs": [],
   "source": [
    "tf.random.set_seed(1000)  ## For reproducible results\n",
    "network = tf.keras.models.Sequential() # Specify layers in their sequential order\n",
    "# inputs are 4 dimensions (4 dimensions = 4 features)\n",
    "# Dense = Fully Connected.   \n",
    "# First hidden layer has 1000 neurons with relu activations.\n",
    "# Second hidden layer has 512 neurons with relu activations\n",
    "# Third hidden layer has 256 neurons with Sigmoid activations\n",
    "network.add(tf.keras.layers.Dense(1000, activation='relu' ,input_shape=(train_X.shape[1],)))\n",
    "network.add(tf.keras.layers.Dense(512, activation='relu')) # sigmoid, tanh\n",
    "network.add(tf.keras.layers.Dense(256, activation='sigmoid'))\n",
    "# Output layer uses no activation with 1 output neurons\n",
    "network.add(tf.keras.layers.Dense(1)) # Output layer"
   ]
  },
  {
   "cell_type": "markdown",
   "id": "d143433f",
   "metadata": {},
   "source": [
    "* **Compile**\n",
    "\n",
    "The learning rate controls how the weights and bias are optimized. A discussion of the optimization procedure for Neural Networks can be found in Appendix B. If the learning rate is too small the training may get stuck, while if it is too big the trained model may be unreliable."
   ]
  },
  {
   "cell_type": "code",
   "execution_count": null,
   "id": "cbd2a1a8",
   "metadata": {},
   "outputs": [],
   "source": [
    "opt = tf.keras.optimizers.Adam(learning_rate=0.0001)\n",
    "network.compile(optimizer = opt, loss='mean_squared_error')"
   ]
  },
  {
   "cell_type": "markdown",
   "id": "ab0b7e2e",
   "metadata": {},
   "source": [
    "* **Print Architecture**"
   ]
  },
  {
   "cell_type": "code",
   "execution_count": null,
   "id": "18c4c4ba",
   "metadata": {},
   "outputs": [],
   "source": [
    "network.summary()"
   ]
  },
  {
   "cell_type": "markdown",
   "id": "d9ac327d",
   "metadata": {},
   "source": [
    "Number of weights connecting the input and the first hidden layer = (1000 $\\times$ 4) + 1000(bias) = 5000 \n",
    "\n",
    "* 4 = $\\texttt{number of features}$\n",
    "* 1000 = $\\texttt{number of nodes in the first hidden layer}$\n",
    "\n",
    "Number of weights connecting the first hidden layer and the second hidden layer = (1000 $\\times$ 512) + 512(bias) = 512512 \n",
    "\n",
    "* 512 = $\\texttt{number of nodes in the second hidden layer}$\n",
    "* 1000 = $\\texttt{number of nodes in the first hidden layer}$\n",
    "\n",
    "Number of weights connecting the second hidden layer and the third hidden layer = (512 $\\times$ 256) + 256(bias) = 131328 \n",
    "\n",
    "* 256 = $\\texttt{number of nodes in the third hidden layer}$\n",
    "* 512 = $\\texttt{number of nodes in the second hidden layer}$\n",
    "\n",
    "Number of weights connecting the third (last) hidden and the output layers = (256 $\\times$ 1) + 1(bias) = 257 \n",
    "\n",
    "* 256 = $\\texttt{number of nodes in the third hidden layer}$\n",
    "* 1 = $\\texttt{number of nodes in the output layer}$"
   ]
  },
  {
   "cell_type": "markdown",
   "id": "cd2b134a",
   "metadata": {},
   "source": [
    "* **Fit Model**\n",
    "\n",
    "Here we find the neural network weights using the data in the training set. An epoch is when an entire batch of the training set has been used. The number of times we iterate over the dataset is known as the number of **epochs**. The validation split is the fraction of the training set that will be used to evaluate the loss at the end of each epoch."
   ]
  },
  {
   "cell_type": "code",
   "execution_count": null,
   "id": "b7fa3f0a",
   "metadata": {},
   "outputs": [],
   "source": [
    "start_time = time.time()\n",
    "# NOTE: Change to verbose=1 for per-epoch output\n",
    "history =network.fit(train_X, train_y, epochs=100, validation_split = 0.2, verbose=0)\n",
    "print('Total time taken (mins): ', round(float((time.time()-start_time)/60),2))"
   ]
  },
  {
   "cell_type": "code",
   "execution_count": null,
   "id": "d3813bf3",
   "metadata": {},
   "outputs": [],
   "source": [
    "plt.plot(history.history['loss'], label='Training loss')\n",
    "plt.plot(history.history['val_loss'], label='Validation loss')\n",
    "plt.xlabel('Epoch')\n",
    "plt.ylabel('Error')\n",
    "plt.legend()\n",
    "plt.grid(True)"
   ]
  },
  {
   "cell_type": "markdown",
   "id": "9f3b8c66",
   "metadata": {},
   "source": [
    "### Prediction\n",
    "\n",
    "We have used Machine Learning to build two computer models $F$ with SnowEx data. Now we will use the computer models to estimate snow depth for a given set of features (phase, coherence, amplitude, incidence angle)."
   ]
  },
  {
   "cell_type": "code",
   "execution_count": null,
   "id": "14dbdda1",
   "metadata": {},
   "outputs": [],
   "source": [
    "## Random Forest\n",
    "\n",
    "yhat_RF = rf_pipe.predict(test_dataset.drop(columns=['snow_depth']))\n",
    "\n",
    "\n",
    "## Feed Forward Neural Network\n",
    "yhat_dnn = network.predict(test_X).flatten() \n",
    "\n",
    "\n",
    "## True Snow Depth (Test Set)\n",
    "observed = test_dataset[\"snow_depth\"].values\n",
    "\n",
    "\n",
    "## Put Observed and Predicted (Linear Regression and DNN) in a Dataframe\n",
    "prediction_df = pd.DataFrame({\"Observed\": observed,\n",
    "                    \"RF\":yhat_RF, \"DNN\":yhat_dnn})"
   ]
  },
  {
   "cell_type": "markdown",
   "id": "edfeaf14",
   "metadata": {},
   "source": [
    "### Check Performance"
   ]
  },
  {
   "cell_type": "code",
   "execution_count": null,
   "id": "bc18682a-44ab-4531-8ab1-c4171f3b5444",
   "metadata": {},
   "outputs": [],
   "source": [
    "def evaluate_model(y_true, y_pred, model_name, dp = 2):\n",
    "    RMSE = np.sqrt(mean_squared_error(y_true=y_true, y_pred=y_pred)).round(dp)\n",
    "    MAE  = mean_absolute_error(y_true=y_true, y_pred=y_pred).round(dp)\n",
    "    MAPE = mean_absolute_percentage_error(y_true=y_true, y_pred=y_pred).round(dp)*100\n",
    "    RSQ  = r2_score(y_true=y_true, y_pred=y_pred).round(dp)*100\n",
    "    \n",
    "    score_df = pd.DataFrame({\n",
    "        model_name: [RMSE, MAE, MAPE, RSQ]\n",
    "    }, index = ['RMSE(in)', 'MAE(in)', 'MAPE(%)', 'RSQ(%)'])\n",
    "    \n",
    "    return score_df"
   ]
  },
  {
   "cell_type": "code",
   "execution_count": null,
   "id": "3caee6f5-bc66-4e38-b055-c6447db0c5b1",
   "metadata": {},
   "outputs": [],
   "source": [
    "RF_evaluation=evaluate_model(prediction_df.RF, prediction_df.Observed, 'Random Forest')\n",
    "NN_evaluation=evaluate_model(prediction_df.DNN, prediction_df.Observed, 'Random Forest')\n",
    "\n",
    "comparison=pd.concat([RF_evaluation, NN_evaluation], axis=1)\n",
    "comparison"
   ]
  },
  {
   "cell_type": "markdown",
   "id": "6e834f74",
   "metadata": {},
   "source": [
    "### Visualize Performance"
   ]
  },
  {
   "cell_type": "code",
   "execution_count": null,
   "id": "274fe94f",
   "metadata": {},
   "outputs": [],
   "source": [
    "fa = plt.figure(figsize=(16,5))\n",
    "plt.subplot(1,2,1)\n",
    "plt.scatter(prediction_df['Observed'],prediction_df['RF'])\n",
    "plt.xlabel('True Values [snow_depth]', fontsize=15)\n",
    "plt.ylabel('Predictions [snow_depth]', fontsize=15)\n",
    "plt.title(\"Random Forest\")\n",
    "\n",
    "\n",
    "plt.subplot(1,2,2)\n",
    "plt.scatter(prediction_df['Observed'],prediction_df['DNN'])\n",
    "plt.xlabel('True Values [snow_depth]', fontsize=15)\n",
    "plt.ylabel('Predictions [snow_depth]', fontsize=15)\n",
    "plt.title(\"Deep Neural Network\")\n"
   ]
  },
  {
   "cell_type": "markdown",
   "id": "415d4650",
   "metadata": {},
   "source": [
    "### Visualize Error"
   ]
  },
  {
   "cell_type": "code",
   "execution_count": null,
   "id": "5e6b714d",
   "metadata": {},
   "outputs": [],
   "source": [
    "LR_error = prediction_df['Observed'] - prediction_df['RF']\n",
    "DNN_error = prediction_df['Observed'] - prediction_df['DNN']\n",
    "\n",
    "fa = plt.figure(figsize=(16,5))\n",
    "\n",
    "plt.subplot(1,2,1)\n",
    "LR_error.hist()\n",
    "plt.xlabel('Error', fontsize=15)\n",
    "plt.ylabel('Frequency', fontsize=15)\n",
    "plt.title(\"Random Forest\")\n",
    "\n",
    "plt.subplot(1,2,2)\n",
    "DNN_error.hist()\n",
    "plt.xlabel('Error', fontsize=15)\n",
    "plt.ylabel('Frequency', fontsize=15)\n",
    "plt.title(\"Deep Neural Network\")\n",
    "\n",
    "plt.show()"
   ]
  },
  {
   "cell_type": "markdown",
   "id": "53f298c0",
   "metadata": {},
   "source": [
    "### Save Models"
   ]
  },
  {
   "cell_type": "code",
   "execution_count": null,
   "id": "b881f437",
   "metadata": {},
   "outputs": [],
   "source": [
    "network.save('DNN')\n",
    "\n",
    "## To load model, use;\n",
    "model = tf.keras.models.load_model('DNN')"
   ]
  },
  {
   "cell_type": "markdown",
   "id": "24597f9c",
   "metadata": {},
   "source": [
    "### Main Challenges of Machine Learning\n",
    "\n",
    "1. Bad Data (insufficient training data, nonrepresentative training data, irrelevant features)\n",
    "2. Bad Algorithm (overfitting the training the data, underfitting the training data)"
   ]
  },
  {
   "cell_type": "markdown",
   "id": "f0ed3d18",
   "metadata": {},
   "source": [
    "### Improving your Model\n",
    "\n",
    "Here are some ways to improve your deep neural network;\n",
    "\n",
    "1. Regularization (early stopping, dropout, etc)\n",
    "2. Hyperparameter Optimization"
   ]
  },
  {
   "cell_type": "markdown",
   "id": "63e1f1bc-4ea7-4711-9776-e7d5df2aab4f",
   "metadata": {},
   "source": [
    "## Optimizing Hyperparameters\n",
    "\n",
    "Almost every machine learning model has at least one hyperparamter. These hyperparameters control how well our model performs. Hyperparameters are not static,  "
   ]
  },
  {
   "cell_type": "markdown",
   "id": "5db4f9a7",
   "metadata": {},
   "source": [
    "## Your Turn (likely to change)\n",
    "\n",
    "Using same dataset, fit a deep neural network with four hidden layers. Set a random seed of 200 for reproducible results. The number of neuron in the hidden layers should be 512, 256, 128, and 64 respectively. Use the \"relu\" activation for all hidden layers, optimize using the \"mean_absolute_error\", set your learning rate to 0.0005, and set your number of epochs to 50. \n",
    "\n",
    "1. Plot the training and validation loss. Compare to previous DNN model.\n",
    "2. Use new DNN model to predict snow depth with the test data. Evaluate performance using RMSE, $R^2$, and MAPE. Compare to results from previous DNN model.\n",
    "3. Plot predicted snow depth vs. the observed snow depth. Which DNN model do you think is most reliable?"
   ]
  },
  {
   "cell_type": "markdown",
   "id": "ca50aef5",
   "metadata": {},
   "source": [
    "## Acknowledgements\n",
    "\n",
    "Content to be added soon..."
   ]
  },
  {
   "cell_type": "markdown",
   "id": "90c9c2c7",
   "metadata": {},
   "source": [
    "## Reference\n",
    "\n",
    "1. [Santiago on Twitter](https://twitter.com/svpino)\n",
    "2. [A Taxonomy of Big Data for Optimal Predictive Machine Learning and Data Mining by Ernest Fokoue](https://arxiv.org/abs/1501.00604)\n",
    "3. [An Introduction to Statistical Learning with Applications in R](https://link.springer.com/book/10.1007%2F978-1-4614-7138-7) (available online for free)\n",
    "4. [Hands-On Machine Learning with Scikit-Learn, Keras, and TensorFlow: Concepts, Tools, and Techniques to Build Intelligent Systems 2nd Edition](https://www.amazon.com/Hands-Machine-Learning-Scikit-Learn-TensorFlow/dp/1492032646)\n",
    "5. [MIT 6.S191: Introduction to Deep Learning](https://www.youtube.com/channel/UCtslD4DGH6PKyG_1gFAX7sg)\n",
    "6. [Intro to Deep Learning (ML Tech Talks)](https://www.youtube.com/watch?v=AhE8RhPGH1A&t=2685s)"
   ]
  },
  {
   "cell_type": "markdown",
   "id": "5049f18c",
   "metadata": {},
   "source": [
    "## Appendix \n",
    " content to be added soon..."
   ]
  }
 ],
 "metadata": {
  "kernelspec": {
   "display_name": "Python 3 (ipykernel)",
   "language": "python",
   "name": "python3"
  },
  "language_info": {
   "codemirror_mode": {
    "name": "ipython",
    "version": 3
   },
   "file_extension": ".py",
   "mimetype": "text/x-python",
   "name": "python",
   "nbconvert_exporter": "python",
   "pygments_lexer": "ipython3",
   "version": "3.9.12"
  }
 },
 "nbformat": 4,
 "nbformat_minor": 5
}
