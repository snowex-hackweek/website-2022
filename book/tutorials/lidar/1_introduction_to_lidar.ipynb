{
 "cells": [
  {
   "cell_type": "markdown",
   "metadata": {},
   "source": [
    "# Introduction to Lidar Remote Sensing\n",
    "\n",
    "## What is Lidar\n",
    "Lidar stands for light detection and Ranging also called 3D laser scanning. It is an active remote sensing techniques for measuring elevation across wide areas. \n",
    "- Pulses of laser light are beamed to surface\n",
    "- Return travel time determines distance to surface\n",
    "\n",
    "Lidar provides highly accuracte elevation data at high resolution\n",
    "<figure>\n",
    "<img src = 'https://i.imgur.com/QTc48KV.png' style=\"width:100%\">\n",
    "<figcaption align =  'center'><b>1 meter Lidar DEM vs 10 meter pixel USGS DEM. Source: Middlebury Remote Sensing</b></figcaption>\n",
    "</figure>\n",
    "\n",
    "\n",
    "There are different types depending on: platform used, physical process or scattering process. Based on the platform used, we find 3 types of LiDAR:\n",
    "1. Ground-based LiDAR\n",
    "2. Airborne LiDAR\n",
    "3. Spaceborne LiDAR\n",
    "\n",
    "For this tutorial, we will focus on Airborne LiDAR. Airborne LiDAR technology is used to measure topography using a laser beam directed towards the ground with GPS and IMU systems providing the location and orientation of the airborne platform. \n",
    "\n",
    "<figure>\n",
    "<img src = 'https://gmv.cast.uark.edu/wp-content/uploads/2013/01/ALS_scematic.jpg' style=\"width:100%\">\n",
    "<figcaption align =  'center'><b>Source: https://gmv.cast.uark.edu/scanning-2/airborne-laser-scanning//</b></figcaption>\n",
    "</figure>\n",
    "\n",
    "Lidar records two types of data- Range distance and Intensity. Range is a function of two-way travel time to ground and back. Intensity is the fraction of photons returned controlled by material properties.\n",
    "\n",
    "Each lidar pulse yields multiple returns. The number and complexity of returns provide information about the surface material.\n",
    "<figure>\n",
    "<img src = 'https://gisgeography.com/wp-content/uploads/2015/08/Number-Returns.png' style=\"width:100%\">\n",
    "<figcaption align =  'center'><b>Source: GISGeography</b></figcaption>\n",
    "</figure>\n",
    "\n",
    "\n",
    "\n",
    "Depending on the feature the point return is coming from, elevation models can be Digital Terrain Model (DTM) or Digital Surface Model (DSM). DTM is the three-dimensional representation of the terrain without natural or man-made objects. DSM is a three-dimensional representation of the heights of the Earth's surface, including natural or man-made objects located on it.\n",
    "\n",
    "<figure>\n",
    "<img src = 'https://www.aw3d.jp/wp/wp-content/themes/AW3DEnglish/glossary/img/glo_01_01.jpg' style=\"width:100%\">\n",
    "<figcaption align =  'center'><b>Source: https://www.aw3d.jp/en/glossary/</b></figcaption>\n",
    "</figure>"
   ]
  },
  {
   "cell_type": "markdown",
   "metadata": {},
   "source": [
    "## Explore Point Cloud\n",
    "In this activity, we will open a .las file, in the [plas.io free online lidar data viewer](http://plas.io/) and explore some attributes associated with a lidar data point cloud. \n",
    "1. Load the data: under file, select Autzen stadium. To navigate around, use left click and drag to tilt up and down, righ click and drag to move around. scroll bar to zoom in and out\n",
    "\n",
    "2. Adjust Intensity \n",
    "\n",
    "3. Change the lidar point cloud color options to classification\n",
    "\n",
    "4. Explore\n"
   ]
  },
  {
   "cell_type": "markdown",
   "metadata": {},
   "source": [
    "## Point to Pixels\n",
    "\n",
    "Points clouds give us a lot of information (x, y, z and intensity). However, these data might be too large, overwhelming and difficult for scientific application. Lidar data are often provided in raster data format which is easier to work with in many GIS tools. Raster data can be generated from point clouds using PDAL. This is done in two approaches: Filtering and Rasterizing. The filering pipeline involves various steps such as reprojection, reclassification, noise removal, outlier removal, segmentation and extraction. The filtered point cloud can then be rasterized using preferred algorithm. [See this post for detailed process](https://opensourceoptions.com/blog/how-to-create-a-dem-or-raster-from-a-lidar-point-cloud/)\n"
   ]
  }
 ],
 "metadata": {
  "interpreter": {
   "hash": "4a6b17c43e9812396a6a5107d266d4edbe6eaa1adb1fd72c08be9ea32f828148"
  },
  "kernelspec": {
   "display_name": "Python 3 (ipykernel)",
   "language": "python",
   "name": "python3"
  },
  "language_info": {
   "codemirror_mode": {
    "name": "ipython",
    "version": 3
   },
   "file_extension": ".py",
   "mimetype": "text/x-python",
   "name": "python",
   "nbconvert_exporter": "python",
   "pygments_lexer": "ipython3",
   "version": "3.10.5"
  }
 },
 "nbformat": 4,
 "nbformat_minor": 4
}
