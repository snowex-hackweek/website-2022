{
 "cells": [
  {
   "cell_type": "markdown",
   "id": "2305b8bb-dab4-4f2a-809f-d9eb9664d3f8",
   "metadata": {
    "tags": []
   },
   "source": [
    "## Learning Objectives\n",
    "In this tutorial, we will learn how to work with lidar derived raster product that represent topography and snow depth. The objectives include:\n",
    "1. Understanding the basic concept of lidar remote sensing\n",
    "2. Deriving snow products from lidar DEMs differencing\n",
    "3. Analyzing lidar raster data\n",
    "4. Identifying available lidar data for snow science\n",
    "\n",
    "The prerequisite for this tutorial is basic experience with python and geospatial data. \n",
    "\n",
    "## Overview\n",
    "\n",
    "We will start by exploring point cloud data and take a quick look at how rasters are created from them. Then we will derive vegetation and snow depth by differencing elevation models followed by analysing these lidar data including DEM. Finally, we will address common issue with working with lidar data from varying sources and talk about available snow focused lidar data."
   ]
  },
  {
   "cell_type": "markdown",
   "id": "c12c0fd7-3ed1-4231-91aa-6779100cdc18",
   "metadata": {
    "tags": []
   },
   "source": [
    "\n",
    "## What is Lidar\n",
    "Lidar stands for light detection and ranging also called 3D laser scanning. It is an active remote sensing technique that uses visible or near-infrared laser energy to measure elevation across wide areas. \n",
    "\n",
    "- Pulses of laser light are beamed to surface\n",
    "- Return travel time determines distance to surface\n",
    "\n",
    "<figure>\n",
    "<img src = 'https://www.yellowscan-lidar.com/wp-content/uploads/2020/11/1280px-20200501_Time_of_flight.svg_.png' style=\"width:50%\">\n",
    "<figcaption align =  'center'><b> Time of flight measurement principle. Source: https://www.yellowscan-lidar.com/</b></figcaption>\n",
    "</figure>\n",
    "\n",
    "\n",
    "Lidar provides highly accuracte elevation data at high resolution\n",
    "<figure>\n",
    "<img src = 'https://i.imgur.com/QTc48KV.png' style=\"width:100%\">\n",
    "<figcaption align =  'center'><b>1 meter Lidar DEM vs 10 meter pixel USGS DEM. Source: Middlebury Remote Sensing</b></figcaption>\n",
    "</figure>\n",
    "\n",
    "\n",
    "There are different types depending on: platform used, physical process or scattering process. Based on the platform used, we find 3 types of LiDAR:\n",
    "1. Ground-based LiDAR\n",
    "2. Airborne LiDAR\n",
    "3. Spaceborne LiDAR\n",
    "\n",
    "For this tutorial, we will focus on Airborne LiDAR. Airborne LiDAR technology is used to measure topography using a laser beam directed towards the ground with GPS and IMU systems providing the location and orientation of the airborne platform. \n",
    "\n",
    "<figure>\n",
    "<img src = 'https://gmv.cast.uark.edu/wp-content/uploads/2013/01/ALS_scematic.jpg' style=\"width:100%\">\n",
    "<figcaption align =  'center'><b>Source: https://gmv.cast.uark.edu/scanning-2/airborne-laser-scanning//</b></figcaption>\n",
    "</figure>"
   ]
  },
  {
   "cell_type": "markdown",
   "id": "bc861c26-258f-4f81-a548-941ea36fc38c",
   "metadata": {},
   "source": [
    "## Discrete Vs Full Waveform Lidar\n",
    "\n",
    "Lidar records two types of data- Range distance and Intensity. Range is a function of two-way travel time to ground and back. Intensity is the fraction of photons returned controlled by material properties.The distribution of returning energy creates a waveform with peaks at areas where more photons returns to the sensor. \n",
    "\n",
    "<figure>\n",
    "<img src = 'https://pdal.io/en/stable/_images/return-pulse.png' style=\"width:100%\">\n",
    "<figcaption align =  'center'> Full waveform system records the distribution of the returned energy while discrete lidar records (red star) peaks in the waveform curve.   <b>Source: Neonscience.org</b></figcaption>\n",
    "</figure>\n",
    "\n",
    "\n",
    "These peaks or discrete points are called returns and often represent features on the ground like leaves, buildings, snow. The number and complexity of returns provide information about the surface material. \n",
    "<figure>\n",
    "<img src = 'https://gisgeography.com/wp-content/uploads/2015/08/Number-Returns.png' style=\"width:100%\">\n",
    "<figcaption align =  'center'><b>Source: GISGeography</b></figcaption>\n",
    "</figure>\n",
    "\n"
   ]
  },
  {
   "cell_type": "markdown",
   "id": "29fa116a-c52d-4bcf-8934-1a047367839e",
   "metadata": {},
   "source": [
    "## Georeferencing\n",
    "\n",
    "The information collected by lidar scanners are referenced to the scanner coordinate system (SCS) and needs to be converted into real-world coordinate system. The process of rotating, translating and scaling lidar points is called georeferencing. The mathematics behind lidar georeferencing is contained in the equation described in [Glennie (2007)](https://citeseerx.ist.psu.edu/document?repid=rep1&type=pdf&doi=7dc50f4fc427f2337e9b9b1d688248efeb041bb3). The equation coantains 14 unknowns that must be determined to georeference a single Lidar return. "
   ]
  },
  {
   "cell_type": "markdown",
   "id": "5ee3ab8c-9b06-410f-a021-0918c894fea2",
   "metadata": {},
   "source": [
    "## The Point Clouds\n",
    "\n",
    "Both discrete and full waveform lidar are provided as a collection of return lidar points known as point clouds. Points clouds are stored in a **.las** or **.laz** format. Each lidar point in a point cloud would have associated X, Y and Z values and other attributes depending on how the the data were collected and processed. The point clouds maybe also be classfied into ground/non-ground or multi-classes based on the different objects that each points reflected from. Lidar classification labels are numeric ranging from 0 to 20 or higher. Some common classes based on [ASPRS LAS specifications](https://www.asprs.org/wp-content/uploads/2010/12/LAS_Specification.pdf) is shown in the table below.\n",
    "\n",
    "| label | Class |\n",
    "| --- | --- |\n",
    "| 0 | Not classified |\n",
    "| 1 | Unassigned |\n",
    "| 2 | Ground |\n",
    "| 3 | Low Vegetation |\n",
    "| 4 | Medium Vegetation |\n",
    "| 5 | High Vegetation |\n",
    "| 6 | Building |\n",
    "| 7 | Noise |\n",
    "\n",
    "Now, let's visualize and explore point clouds. In this activity, we will open a .las file, in the [plas.io free online lidar data viewer](http://plas.io/) and explore some attributes associated with a lidar data point cloud. \n",
    "\n",
    "1. Load the data: under file, select Autzen stadium. To navigate around, use left click and drag to tilt up and down, righ click and drag to move around. scroll bar to zoom in and out\n",
    "\n",
    "2. Adjust Intensity \n",
    "\n",
    "3. Change the lidar point cloud color options to classification\n",
    "\n",
    "4. Explore"
   ]
  },
  {
   "cell_type": "markdown",
   "id": "98d2bf6e-85cd-4568-89d9-bc1b42f07596",
   "metadata": {
    "tags": []
   },
   "source": [
    "## Point to Pixels\n",
    "\n",
    "Points clouds give us a lot of information (x, y, z and intensity). However, these data might be too large, overwhelming and difficult for scientific application. Lidar data are often provided in raster data format which is easier to work with in many GIS tools. Raster data can be generated from point clouds using [PDAL](https://pdal.io/en/stable/) pipeline. The pipeline describes a series of processing stages to be performed in JSON format. In general, pipelines link together readers, filters and writers. A sample PDAL pideline for creating DEM raster using [Simple Morphological Filter (SMRF)](https://www.sciencedirect.com/science/article/pii/S0924271613000026) ground segmentation is shown below:\n",
    "\n",
    "`\n",
    "{\n",
    "  \"pipeline\":[\n",
    "  \n",
    "    {    \n",
    "      \"type\":\"filters.reprojection\",\n",
    "      \"out_srs\":\"EPSG:26911\",\n",
    "      \"tag\": \"reprojectionUTM\"\n",
    "    },\n",
    "    {\n",
    "      \"type\":\"filters.assign\",\n",
    "      \"assignment\":\"Classification[:]=0\",\n",
    "      \"tag\": \"reclassify\"\n",
    "    },\n",
    "    {\n",
    "      \"type\":\"filters.elm\",\n",
    "      \"tag\": \"noiseremoval\"\n",
    "    },\n",
    "    {\n",
    "      \"type\":\"filters.outlier\",\n",
    "      \"tag\": \"outlierremoval\"\n",
    "    },\n",
    "    {\n",
    "      \"type\":\"filters.smrf\",\n",
    "      \"ignore\":\"Classification[7:7]\",\n",
    "      \"slope\":0.2,\n",
    "      \"window\":16,\n",
    "      \"threshold\":0.45,\n",
    "      \"scalar\":1.2,\n",
    "      \"tag\": \"groundsegmentation\"\n",
    "    },\n",
    "    {\n",
    "      \"type\":\"filters.range\",\n",
    "      \"limits\":\"Classification[2:2]\",\n",
    "      \"tag\":\"classify\"\n",
    "    },\n",
    "    {\n",
    "       \"type\": \"writers.las\"\n",
    "       \"filename\": \"ground.laz\",\n",
    "       \"inputs\": [ \"classify\" ],\n",
    "       \"tag\": \"writerslas\"       \n",
    "        },\n",
    "    {\n",
    "        \"type\": \"writers.gdal\n",
    "        \"filename\": \"DEM.tif\",\n",
    "        \"gdalopts\": \"tiled=yes,\n",
    "        \"inputs\": [ \"writerslas\" ],\n",
    "        \"nodata\": -9999,\n",
    "        \"output_type\": \"idw\",\n",
    "        \"resolution\": 1\n",
    "        }\n",
    "  ]\n",
    "}\n",
    "`\n",
    "\n"
   ]
  }
 ],
 "metadata": {
  "kernelspec": {
   "display_name": "Python 3 (ipykernel)",
   "language": "python",
   "name": "python3"
  },
  "language_info": {
   "codemirror_mode": {
    "name": "ipython",
    "version": 3
   },
   "file_extension": ".py",
   "mimetype": "text/x-python",
   "name": "python",
   "nbconvert_exporter": "python",
   "pygments_lexer": "ipython3",
   "version": "3.10.5"
  }
 },
 "nbformat": 4,
 "nbformat_minor": 5
}
