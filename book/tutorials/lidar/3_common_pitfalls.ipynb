{
 "cells": [
  {
   "cell_type": "markdown",
   "metadata": {},
   "source": [
    "# Common Pitfall in Elevation differencing\n",
    "\n",
    "## Data from different sources\n",
    "\n",
    "The lidar data we have used so far are acquired from the same source (QSI). This made the DEM differencing to be quiet straightforward because the crs, resolution and extent are the same. At times, the elevation data might be from diffeerence sources. It will thus require extra effort of resampling and reprojection to accurately derive snow depth. \n",
    "Let's do DEM differencing again but using snow-on and snow-off DEM from different sources. The snow-on data is an 0.5m resolution raster acquired by  QSI over GrandMesa in 2020. A 3m DEM data acquired by ASO in 2016 will be used as the snow-off DEM. \n",
    "\n",
    "As a first step, we have to downsample the QSI data to the resolution of the ASO."
   ]
  },
  {
   "cell_type": "code",
   "execution_count": null,
   "metadata": {},
   "outputs": [],
   "source": [
    "import os\n",
    "\n",
    "import numpy as np \n",
    "\n",
    "#plotting packages\n",
    "import matplotlib.pyplot as plt\n",
    "import seaborn as sns\n",
    "import hvplot.xarray\n",
    "\n",
    "#geospatial packages\n",
    "import geopandas as gpd #for vector data\n",
    "import xarray as xr\n",
    "import rioxarray #for raster data\n",
    "import rasterstats as rs"
   ]
  },
  {
   "cell_type": "code",
   "execution_count": null,
   "metadata": {},
   "outputs": [],
   "source": [
    "%%bash \n",
    "\n",
    "# Retrieve a copy of data files used in this tutorial from Zenodo.org:\n",
    "# Re-running this cell will not re-download things if they already exist\n",
    "\n",
    "cd /tmp\n",
    "wget -q -nc -O input.zip \"https://github.com/snowex-hackweek/tutorial-data/releases/download/SnowEx_2022_lidar/input.zip\"\n",
    "unzip -q -n input.zip"
   ]
  },
  {
   "cell_type": "code",
   "execution_count": null,
   "metadata": {
    "tags": [
     "remove-output"
    ]
   },
   "outputs": [],
   "source": [
    "!gdal_translate  -tr 3, 3 /tmp/input/QSI_0.5m_GrandMesa13Feb_Winter_DEM.tif ./output/QSI_3m_GrandMesa13Feb_Winter_DEM.tif"
   ]
  },
  {
   "cell_type": "code",
   "execution_count": null,
   "metadata": {
    "tags": [
     "output_scroll"
    ]
   },
   "outputs": [],
   "source": [
    "#check the raster metadata\n",
    "!gdalinfo ./output/QSI_3m_GrandMesa13Feb_Winter_DEM.tif"
   ]
  },
  {
   "cell_type": "code",
   "execution_count": null,
   "metadata": {},
   "outputs": [],
   "source": [
    "#read the data as arrays\n",
    "snow_on_dem = rioxarray.open_rasterio('./output/QSI_3m_GrandMesa13Feb_Winter_DEM.tif', masked =True)\n",
    "snow_on_dem.hvplot.image(x= 'x', y = 'y', rasterize = True, cmap = 'viridis')"
   ]
  },
  {
   "cell_type": "code",
   "execution_count": null,
   "metadata": {},
   "outputs": [],
   "source": [
    "#read the snow-off DEMs\n",
    "snow_free_dem = rioxarray.open_rasterio('/tmp/input/ASO_3M_GrandMesa_Summer_DEM.tif',\n",
    "            masked=True)\n",
    "snow_free_dem.hvplot.image(x= 'x', y = 'y', rasterize = True, cmap = 'viridis')"
   ]
  },
  {
   "cell_type": "markdown",
   "metadata": {},
   "source": [
    "The extent and crs of the snow-off DEM is different from the snow-on. Let's match the snow-off DEM with the snow-on DEM"
   ]
  },
  {
   "cell_type": "code",
   "execution_count": null,
   "metadata": {},
   "outputs": [],
   "source": [
    "snow_free_dem_match = snow_free_dem.rio.reproject_match(snow_on_dem)\n",
    "snow_free_dem_match.hvplot.image(x= 'x', y = 'y', rasterize = True, cmap = 'viridis')"
   ]
  },
  {
   "cell_type": "code",
   "execution_count": null,
   "metadata": {},
   "outputs": [],
   "source": [
    "snow_depth = snow_on_dem - snow_free_dem_match\n",
    "snow_depth.hvplot.image(x= 'x', y = 'y', rasterize = True, cmap = 'viridis')"
   ]
  },
  {
   "cell_type": "markdown",
   "metadata": {},
   "source": [
    "About 17 m snow depth.... What's the issue?"
   ]
  },
  {
   "cell_type": "code",
   "execution_count": null,
   "metadata": {},
   "outputs": [],
   "source": [
    "!gdalsrsinfo -o proj4 /tmp/input/ASO_3M_GrandMesa_Summer_DEM.tif"
   ]
  },
  {
   "cell_type": "code",
   "execution_count": null,
   "metadata": {},
   "outputs": [],
   "source": [
    "!gdalsrsinfo -o proj4 ./output/QSI_3m_GrandMesa13Feb_Winter_DEM.tif"
   ]
  },
  {
   "cell_type": "markdown",
   "metadata": {},
   "source": [
    "The snow-on and snow-free DEM are referenced to different datum, so we need to do vertical datum transformation. Matching the vertical datum of data from different sources is important for elevation data. \n",
    "\n",
    "The vertical datum of ASO is in ellipsoid (WGS 84). QSI is in UTM Zone 12 North. Horizontal Datum used is NAD83 (2011). NAD 83 is a 3-D reference system, it also serves as the horizontal control datum for the United States, Canada, Greenland and Central America using the Geodetic Reference System 1980 (GRS 80) ellipsoid, an earth-centered reference ellipsoid. [See this link for more reading](https://vdatum.noaa.gov/docs/datums.html). The vertical datum is NAVD88 (Geoid12b).\n",
    "\n",
    "Let's transform ASO to same datum as QSI.\n",
    "\n",
    "<figure>\n",
    "<img src = 'https://i.imgur.com/CbvMuMB.jpg' style=\"width:100%\">\n",
    "<figcaption align =  'center'><b>Relationship between Clarke 1866, WGS 84, GRS 80 and Geoid (left).Relationship between elliposid, Geoid and Orthometric Height (Right). Source: NOAA</b></figcaption>\n",
    "</figure>\n",
    "\n",
    "\n",
    "\n"
   ]
  },
  {
   "cell_type": "code",
   "execution_count": null,
   "metadata": {
    "tags": [
     "remove-output"
    ]
   },
   "outputs": [],
   "source": [
    "#coordinate transformation\n",
    "!gdalwarp -s_srs \"+proj=utm +zone=13 +datum=WGS84 +units=m +no_defs\" -t_srs \"+proj=utm +zone=12 +ellps=GRS80 +units=m +no_defs +geoidgrids=/usr/share/proj/egm96_15.gtx\" /tmp/input/ASO_3M_GrandMesa_Summer_DEM.tif ./output/ASO_3M_GrandMesa_Summer_DEM_geoid_96.tif"
   ]
  },
  {
   "cell_type": "code",
   "execution_count": null,
   "metadata": {},
   "outputs": [],
   "source": [
    "#check the crs of the transformed data\n",
    "!gdalsrsinfo -o proj4 ./output/ASO_3M_GrandMesa_Summer_DEM_geoid_96.tif"
   ]
  },
  {
   "cell_type": "code",
   "execution_count": null,
   "metadata": {},
   "outputs": [],
   "source": [
    "#read the snow-off DEMs\n",
    "snow_free_dem = rioxarray.open_rasterio('./output/ASO_3M_GrandMesa_Summer_DEM_geoid_96.tif',\n",
    "            masked=True)\n",
    "            \n",
    "#reproject the ASO DEM to match the QSI DEM\n",
    "snow_free_dem_match = snow_free_dem.rio.reproject_match(snow_on_dem)"
   ]
  },
  {
   "cell_type": "code",
   "execution_count": null,
   "metadata": {},
   "outputs": [],
   "source": [
    "snow_depth = snow_on_dem - snow_free_dem_match\n",
    "snow_depth = snow_depth.where((snow_depth > 0) & (snow_depth < 3))\n",
    "snow_depth.hvplot.image(x= 'x', y = 'y', rasterize = True, cmap = 'viridis')"
   ]
  },
  {
   "cell_type": "markdown",
   "metadata": {},
   "source": [
    "## Important notes on vertical datum transformation \n",
    "GDAL uses the PROJ library to carry out CRS transformations. PROJ uses pre-defined grids for datum transformations. Vertical datum transformations are defined using a GTX file. In the example above, when we did the transformation to EGM96 vertical CRS, it used the parameters supplied in the egm96_15.gtx file. Many such grid files are included when you download and install GDAL. But there are other grids which are very large and are not included by default. If you want to convert to a vertical datum whose grid files are not included by default, you need to download them separately and copy them to appropriate directory on your system. Learn more about [PROJ Resource](https://proj.org/resource_files.html) files.\n",
    "\n",
    "One such vertical CRS is EGM2008 (EPSG:3855). Say you wanted to transform WGS84 heights to this new and more precise geoid model. You can run a command such as below\n",
    "\n",
    "```none\n",
    "gdalwarp  -s_srs \"+proj=longlat +datum=WGS84 +no_def\" -t_srs \"+proj=longlat +datum=WGS84 +no_defs +geoidgrids=egm08_25.gtx\" /tmp/input/ASO_3M_GrandMesa_Summer_DEM.tif ./output/ASO_3M_GrandMesa_Summer_DEM_geoid_08.tif\n",
    "```\n",
    "\n",
    "But if you run it, you may get an error such as below\n",
    "\n",
    "```none\n",
    "ERROR 1: Cannot open egm08_25.gtx.\n",
    "```\n",
    "This is because the EGM2008 grid is very large and is not included in many GDAL installations. To fix this, you can download the grid file from\n",
    "http://download.osgeo.org/proj/vdatum/\n",
    "\n",
    "Copy the egm08_25.gtx file to the PROJ resource directory on your computer. The location of this directory will depend on your platform and the installation method. Some common paths are as below\n",
    "\n",
    "```none\n",
    "Windows: C:\\OsGeo4W64\\share\\proj\\\n",
    "Mac: /Library/Frameworks/PROJ.framework/Resources/proj/\n",
    "Linux: /usr/share/proj/\n",
    "```\n"
   ]
  },
  {
   "cell_type": "markdown",
   "metadata": {},
   "source": [
    "## Coregistion\n",
    "\n",
    "Another potential source of error for lidar differencing is coregristration. If the differenced value still doesn't make sense after matching the crs and extent, it might be a misregistration issue."
   ]
  },
  {
   "cell_type": "markdown",
   "metadata": {},
   "source": [
    "## Available Data for Lidar Remote Sensing\n",
    "\n",
    "Various lidar data has been acquired to monitory snow over the western US.\n",
    "1. 2013 - 2019: ASO data (Available on NSIDC)\n",
    "2. 2020 ASO data: Here are some .zip files to access ASO 2020 data. The folder contains snow depth and SWE data products\n",
    "   - [Grand Mesa Feb 1-2](https://asopublic.s3-us-west-1.amazonaws.com/USCO/GM/2020/0201/ASO_GrandMesa_mosaic_2020Feb1-2_AllData_and_Reports.zip)\n",
    "   - [Grand Mesa Feb 13](https://asopublic.s3-us-west-1.amazonaws.com/USCO/GM/2020/0213/ASO_GrandMesa_mosaic_2020Feb13_AllData_and_Reports.zip)\n",
    "   - [East River Feb 14-20](https://asopublic.s3-us-west-1.amazonaws.com/USCO/GE/2020/0214/ASO_EastRiver_mosaic_2020Feb14-20_AllData_and_Reports.zip)\n",
    "   - [Taylor River Feb 20](https://asopublic.s3-us-west-1.amazonaws.com/USCO/GT/2020/0220/ASO_TaylorRiver_mosaic_2020Feb20_AllData_and_Reports.zip)\n",
    "   - [Reynold Creek Feb 18-19](https://asopublic.s3-us-west-1.amazonaws.com/USID/RY/2020/0218/ASO_Reynolds_mosaic_2020Feb18-19_AllData_and_Reports.zip)\n",
    "3. 2020 Quantumn data over some selected areas.\n",
    "4. 2021 Quantumn data over selected areas. \n",
    "   The lidar data for 2020 and 2021 covers the location shown in the map below and include:\n",
    "\n",
    "   1. DEMs (SnowOn and SnowFree)\n",
    "   2. DSMs (SnowOn and SnowFree)\n",
    "   3. Vegetation Height (SnowOn and SnowFree)\n",
    "   4. Snow Depth\n",
    "   5. Intensity Images (SnowOn and SnowFree)\n",
    "\n",
    "![](https://i.imgur.com/Y5gsOFO.jpg)\n",
    "\n",
    "5. 2022: Riegl flight over MCS"
   ]
  },
  {
   "cell_type": "markdown",
   "metadata": {},
   "source": [
    "References:\n",
    "1. Earthdatascience\n",
    "2. Spatial thought. https://spatialthoughts.com/2019/10/26/convert-between-orthometric-and-ellipsoidal-elevations-using-gdal/"
   ]
  }
 ],
 "metadata": {
  "kernelspec": {
   "display_name": "Python 3 (ipykernel)",
   "language": "python",
   "name": "python3"
  },
  "language_info": {
   "codemirror_mode": {
    "name": "ipython",
    "version": 3
   },
   "file_extension": ".py",
   "mimetype": "text/x-python",
   "name": "python",
   "nbconvert_exporter": "python",
   "pygments_lexer": "ipython3",
   "version": "3.10.5"
  }
 },
 "nbformat": 4,
 "nbformat_minor": 4
}
