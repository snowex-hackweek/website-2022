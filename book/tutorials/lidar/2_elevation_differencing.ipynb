{
 "cells": [
  {
   "cell_type": "markdown",
   "metadata": {},
   "source": [
    "# Elevation Differencing\n",
    "\n",
    "## Canopy Height and Snow Depth\n",
    "\n",
    "Canopy Height Model is a popular raster product from lidar data. It can be derived from differencing DSM and DEM. Snow depth is another raster product of interest. This is derived by differencing snow-on DEM and snow-off DEM. \n",
    "<figure>\n",
    "<img src = 'https://i.imgur.com/uGkxpzQ.jpg' style=\"width:100%\">\n",
    "</figure>\n",
    "\n",
    "We will difference the appropriate elevation model to derive vegetation height and snow depth. To begin, let's load the necessary packages for this tutorial."
   ]
  },
  {
   "cell_type": "code",
   "execution_count": null,
   "metadata": {},
   "outputs": [],
   "source": [
    "#import packages\n",
    "\n",
    "import os\n",
    "\n",
    "import numpy as np \n",
    "\n",
    "#plotting packages\n",
    "import matplotlib.pyplot as plt\n",
    "import seaborn as sns\n",
    "import hvplot.xarray\n",
    "\n",
    "#geospatial packages\n",
    "import geopandas as gpd #for vector data\n",
    "import xarray as xr\n",
    "import rioxarray #for raster data\n",
    "import rasterstats as rs\n"
   ]
  },
  {
   "cell_type": "markdown",
   "metadata": {},
   "source": [
    "### Download required tutorial data\n",
    "\n",
    "The original data is permanently stored with Zenodo: https://zenodo.org/record/6789541\n",
    "\n",
    "For the Hackweek we are providing a faster download alternative with the 'tutorial-data' repository. This link might not be available in the future though.\n",
    "Once that is the case, replace the below github.com link with this: https://zenodo.org/record/6789541/files/input.zip"
   ]
  },
  {
   "cell_type": "code",
   "execution_count": null,
   "metadata": {},
   "outputs": [],
   "source": [
    "%%bash \n",
    "\n",
    "# Retrieve a copy of data files used in this tutorial from Zenodo.org:\n",
    "# Re-running this cell will not re-download things if they already exist\n",
    "\n",
    "cd /tmp\n",
    "wget -q -nc -O input.zip \"https://github.com/snowex-hackweek/tutorial-data/releases/download/SnowEx_2022_lidar/input.zip\"\n",
    "unzip -q -n input.zip"
   ]
  },
  {
   "cell_type": "code",
   "execution_count": null,
   "metadata": {},
   "outputs": [],
   "source": [
    "#read the snow_on and snow_free DEM\n",
    "cam_dem_snowOn = rioxarray.open_rasterio('/tmp/input/Cameron_Winter_DEM.tif', masked = True)\n",
    "cam_dem_snowFree = rioxarray.open_rasterio('/tmp/input/Cameron_Summer_DEM.tif', masked =  True)\n",
    "\n",
    "#derive snow depth\n",
    "cam_snow_depth = cam_dem_snowOn - cam_dem_snowFree\n",
    "\n",
    "#read the snow_free DSM to calculate vegetation height\n",
    "cam_dsm_snowFree = rioxarray.open_rasterio('/tmp/input/Cameron_Summer_DSMs.tif', masked = True)\n",
    "\n",
    "#derive vegetation height\n",
    "cam_vh = cam_dsm_snowFree - cam_dem_snowFree\n"
   ]
  },
  {
   "cell_type": "markdown",
   "metadata": {},
   "source": [
    "What does the DataArray object looks like?"
   ]
  },
  {
   "cell_type": "code",
   "execution_count": null,
   "metadata": {},
   "outputs": [],
   "source": [
    "cam_snow_depth"
   ]
  },
  {
   "cell_type": "markdown",
   "metadata": {},
   "source": [
    "The data has about 145 million values. Let's check the shape, CRS,extent and resolution and make a quick interactive plot."
   ]
  },
  {
   "cell_type": "code",
   "execution_count": null,
   "metadata": {},
   "outputs": [],
   "source": [
    "print('The shape of the data is is:', cam_snow_depth.shape)\n",
    "print('\\nCRS of the data is:', cam_snow_depth.rio.crs)\n",
    "print('\\n The spatial extent of the data is:', cam_snow_depth.rio.bounds())\n",
    "print('\\n The resolution of the data is:', cam_snow_depth.rio.resolution())\n"
   ]
  },
  {
   "cell_type": "markdown",
   "metadata": {},
   "source": [
    "Let's do a quick plot of the snow depth product"
   ]
  },
  {
   "cell_type": "code",
   "execution_count": null,
   "metadata": {},
   "outputs": [],
   "source": [
    "cam_snow_depth.hvplot.image(x= 'x', y = 'y', rasterize = True, cmap = 'viridis', height = 500)"
   ]
  },
  {
   "cell_type": "markdown",
   "metadata": {},
   "source": [
    "Let's subset over small area for faster plotting and further analysis."
   ]
  },
  {
   "cell_type": "code",
   "execution_count": null,
   "metadata": {},
   "outputs": [],
   "source": [
    "cam_dem_roi = cam_dem_snowFree.sel(y = slice(4489168, 4487655), x = slice(425077, 425848))\n",
    "cam_vh_roi = cam_vh.sel(y = slice(4489168, 4487655), x = slice(425077, 425848))\n",
    "cam_sd_roi = cam_snow_depth.sel(y = slice(4489168, 4487655), x = slice(425077, 425848))"
   ]
  },
  {
   "cell_type": "code",
   "execution_count": null,
   "metadata": {},
   "outputs": [],
   "source": [
    "# Set font size and font family\n",
    "plt.rcParams.update({'font.size': 18})\n",
    "plt.rcParams['font.family'] = 'serif'\n",
    "plt.rcParams['font.serif'] = ['Times New Roman'] + plt.rcParams['font.serif']\n",
    "\n",
    "#create fig and axes elements\n",
    "fig, axs = plt.subplots(ncols = 3, figsize=(18, 12))\n",
    "\n",
    "#plot the data\n",
    "cam_dem_roi.plot(ax = axs[0], cmap = 'Greys', robust = True, cbar_kwargs={'label': 'Elevation (m)', 'orientation':'horizontal'}) \n",
    "cam_vh_roi.plot(ax = axs[1], cmap = 'summer_r', robust = True, cbar_kwargs={'label': 'Vegetation Height (m)', 'orientation':'horizontal'})\n",
    "cam_sd_roi.plot(ax = axs[2], cmap = 'Blues', robust = True, cbar_kwargs={'label': 'Snow Depth (m)', 'orientation':'horizontal'})\n",
    "\n",
    "#Set the title\n",
    "# fig.suptitle('Cameron Study Area', fontsize = 20)\n",
    "\n",
    "#set the axes title and tick locators\n",
    "axs[0].set_title('')\n",
    "axs[0].xaxis.set_major_locator(plt.LinearLocator(3))\n",
    "axs[1].set_title('')\n",
    "axs[1].xaxis.set_major_locator(plt.LinearLocator(3))\n",
    "axs[2].set_title('')\n",
    "axs[2].xaxis.set_major_locator(plt.LinearLocator(3))\n",
    "\n",
    "plt.tight_layout()\n",
    "plt.show()"
   ]
  },
  {
   "cell_type": "markdown",
   "metadata": {},
   "source": [
    "## More Analysis\n",
    "\n",
    "Lidar provides highly accurate DEM, vegetation height and snow depth. Our goal here is to quickly demonstrate some of the analysis we can do with these products. We will sample snow depth, elevation and vegetation height at 100 locations to quantify snow distribution over the the subset region"
   ]
  },
  {
   "cell_type": "code",
   "execution_count": null,
   "metadata": {},
   "outputs": [],
   "source": [
    "#import point location data\n",
    "cam_100_points = gpd.read_file('/tmp/input/cameron_100_points.gpkg')\n",
    "\n",
    "#create a dir to store the output\n",
    "if not os.path.exists(\"./output\"):\n",
    "    os.makedirs(\"./output\")\n",
    "\n",
    "#create a buffer around the point feature and save to file\n",
    "cam_100_points.buffer(20).to_file('./output/cam_100_points_buffer.gpkg')"
   ]
  },
  {
   "cell_type": "markdown",
   "metadata": {},
   "source": [
    "Let's see the sampled points"
   ]
  },
  {
   "cell_type": "code",
   "execution_count": null,
   "metadata": {},
   "outputs": [],
   "source": [
    "cam_100_poly = gpd.read_file('./output/cam_100_points_buffer.gpkg')\n",
    "fig, ax = plt.subplots(figsize=(10,12))\n",
    "cam_sd_roi.plot(ax = ax)\n",
    "cam_100_poly.plot(ax = ax, color = 'black')\n",
    "plt.show()"
   ]
  },
  {
   "cell_type": "code",
   "execution_count": null,
   "metadata": {},
   "outputs": [],
   "source": [
    "#Extract raster values for the vegetation height\n",
    "cam_VH_stat = rs.zonal_stats('./output/cam_100_points_buffer.gpkg', \n",
    "            cam_vh_roi.squeeze().values,\n",
    "            nodata = -9999,\n",
    "            geojson_out=True,\n",
    "            affine = cam_vh_roi.rio.transform(), \n",
    "            stats = 'count mean')\n",
    "cam_VH_stat_df =  gpd.GeoDataFrame.from_features(cam_VH_stat) #turn the geojson to a dataframe\n",
    "cam_VH_stat_df.rename(columns = {'mean': 'VH_mean', 'count': 'VH_count'}, inplace = True) #rename the columns\n",
    "\n",
    "#Extract raster values for the snow depth\n",
    "cam_SD_stat = rs.zonal_stats(cam_VH_stat_df,\n",
    "            cam_sd_roi.squeeze().values,\n",
    "            nodata = -9999,\n",
    "            geojson_out=True,\n",
    "            affine = cam_sd_roi.rio.transform(),\n",
    "            stats = 'count mean')\n",
    "cam_SD_stat_df =  gpd.GeoDataFrame.from_features(cam_SD_stat) #turn the geojson to a dataframe\n",
    "cam_SD_stat_df.rename(columns = {'mean': 'SD_mean', 'count': 'SD_count'}, inplace = True) #rename the columns\n",
    "\n",
    "#Extract raster values for elevation\n",
    "cam_DEM_stat = rs.zonal_stats(cam_SD_stat_df,\n",
    "            cam_dem_roi.squeeze().values,\n",
    "            nodata = -9999,\n",
    "            geojson_out=True,\n",
    "            affine = cam_dem_roi.rio.transform(),\n",
    "            stats = 'count mean')\n",
    "cam_DEM_stat_df =  gpd.GeoDataFrame.from_features(cam_DEM_stat) #turn the geojson to a dataframe\n",
    "cam_DEM_stat_df.rename(columns = {'mean': 'ELEV_mean', 'count': 'ELEV_count'}, inplace = True) #rename the columns\n",
    "\n",
    "#rename the dataframe\n",
    "vh_sd_dem = cam_DEM_stat_df\n"
   ]
  },
  {
   "cell_type": "code",
   "execution_count": null,
   "metadata": {},
   "outputs": [],
   "source": [
    "# Set font size and font family\n",
    "plt.rcParams.update({'font.size': 18})\n",
    "plt.rcParams['font.family'] = 'serif'\n",
    "plt.rcParams['font.serif'] = ['Times New Roman'] + plt.rcParams['font.serif']\n",
    "\n",
    "#create figure and gridspec object\n",
    "fig = plt.figure(figsize=(20,12), constrained_layout=True)\n",
    "gspec = fig.add_gridspec(ncols=5, nrows=5)\n",
    "\n",
    "ax0 = fig.add_subplot(gspec[0, 0])\n",
    "ax1 = fig.add_subplot(gspec[0, 1])\n",
    "ax2 = fig.add_subplot(gspec[0, 2])\n",
    "ax3 = fig.add_subplot(gspec[1:5, 0])\n",
    "ax4 = fig.add_subplot(gspec[1:5, 1])\n",
    "ax5 = fig.add_subplot(gspec[1:5, 2])\n",
    "ax6 = fig.add_subplot(gspec[0:5, 3])\n",
    "ax7 = fig.add_subplot(gspec[0:5, 4])\n",
    "\n",
    "# plot the boxplot of elevation, vegetation and snow thickness\n",
    "sns.boxplot(x= vh_sd_dem['ELEV_mean'], ax=ax0, palette= 'colorblind')\n",
    "ax0.set_xlabel('')\n",
    "sns.boxplot(x= vh_sd_dem['VH_mean'], ax=ax1, palette= 'colorblind')\n",
    "ax1.set_xlabel('')\n",
    "sns.boxplot(x= vh_sd_dem['SD_mean'], ax=ax2, palette= 'colorblind')\n",
    "ax2.set_xlabel('')\n",
    "\n",
    "# plot the histogram and boxplot of elevation, vegetation and snow thickness\n",
    "sns.histplot(data = vh_sd_dem, x ='ELEV_mean', ax=ax3, bins=20)\n",
    "ax3.set_xlabel('Elevation (m)')\n",
    "sns.histplot(data = vh_sd_dem, x ='VH_mean', ax=ax4, bins=20, binrange=(1,10))\n",
    "ax4.set_xlabel('Vegetation Height (m)')\n",
    "sns.histplot(data = vh_sd_dem, x ='SD_mean', ax=ax5, bins=30, binrange=(0,1.5))\n",
    "ax5.set_xlabel('Snow Depth (m)')\n",
    "\n",
    "#make the scatter plot of elevation vs snow thickness and vegetation vs snow thickness\n",
    "sns.kdeplot(data = vh_sd_dem, x = 'SD_mean', y = 'ELEV_mean', shade=True, ax=ax6, cmap='Blues')\n",
    "ax6.set_xlabel('Snow Depth (m)')\n",
    "ax6.set_ylabel('Elevation (m)')\n",
    "#set xlimit and y limit\n",
    "#ax6.set_xlim(0, 2.5)\n",
    "ax6.set_ylim(2900, 3300)\n",
    "\n",
    "sns.kdeplot(data = vh_sd_dem, x = 'SD_mean', y = 'VH_mean', shade=True, ax=ax7, cmap='Blues')\n",
    "ax7.set_xlabel('Snow Depth (m)')\n",
    "ax7.set_ylabel('Vegetation Height (m)')\n",
    "#set xlimit and y limit\n",
    "#ax7.set_xlim(0, 2.5)\n",
    "ax7.set_ylim(-3, 15)\n",
    "\n",
    "plt.show()"
   ]
  },
  {
   "cell_type": "code",
   "execution_count": null,
   "metadata": {},
   "outputs": [],
   "source": []
  }
 ],
 "metadata": {
  "language_info": {
   "name": "python"
  }
 },
 "nbformat": 4,
 "nbformat_minor": 4
}
