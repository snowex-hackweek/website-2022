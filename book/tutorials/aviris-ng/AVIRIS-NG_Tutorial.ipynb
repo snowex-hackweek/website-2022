{
 "cells": [
  {
   "cell_type": "markdown",
   "id": "5368f8f3-6c4c-4955-ad9e-f6823e6efa42",
   "metadata": {},
   "source": [
    "# Introduction to AVIRIS-NG"
   ]
  },
  {
   "cell_type": "markdown",
   "id": "0d06e866-94b4-43de-ae04-4e9935c72c08",
   "metadata": {},
   "source": [
    "<img alt=\"AVIRIS Logo\" src=\"Aviris.png\" style=\"margin:auto\"/>"
   ]
  },
  {
   "cell_type": "markdown",
   "id": "123f5bbf-775c-4ac1-8016-1bebaa6f1d86",
   "metadata": {},
   "source": [
    "<b>Contributors:</b> Joachim Meyer<sup>1</sup>, Chelsea Ackroyd<sup>1</sup>, McKenzie Skiles<sup>1</sup>\n",
    "<br>\n",
    "<sup>1</sup>University of Utah\n"
   ]
  },
  {
   "cell_type": "markdown",
   "id": "9db7cc3a",
   "metadata": {},
   "source": [
    "```{admonition} Learning Objectives\n",
    "\n",
    "* Become familiar with hyperspectral data, including data orginiating from AVIRIS-NG\n",
    "* Understand the fundamental methods for displaying and exploring hyperspectral data in Python\n",
    "* Identify the amount of ice in a given pixel using spectral feature fitting methodology\n",
    "\n",
    "```"
   ]
  },
  {
   "cell_type": "markdown",
   "id": "9ba365bc-9b6b-4f18-9e72-d5fe3b8cc608",
   "metadata": {},
   "source": [
    "## Review of Hyperspectral Data\n",
    "\n",
    "https://www.neonscience.org/resources/learning-hub/tutorials/hyper-spec-intro"
   ]
  },
  {
   "cell_type": "markdown",
   "id": "306d0c87",
   "metadata": {},
   "source": [
    "### Spectral Resolution\n",
    "\n",
    "Incoming solar radiation is either reflected, absorbed, or transmitted (or a combination of all three) depending on the surface material. This spectral response allows us to identify varying surface types (e.g. vegetation, snow, water, etc.) in a remote sensing image. The <b>spectral resolution</b>, or the wavelength interval, determines the amount of detail recorded in the spectral response: finer spectral resolutions have bands with narrow wavelength intervals, while coarser spectral resolutions have bands with larger wavelength intervals, and therefore, less detail in the spectral response."
   ]
  },
  {
   "cell_type": "markdown",
   "id": "48135c9b-808b-4815-829f-ced7cfc8d1d6",
   "metadata": {},
   "source": [
    "![NEON Tutorial](https://raw.githubusercontent.com/NEONScience/NEON-Data-Skills/dev-aten/graphics/hyperspectral-general/spectrumZoomed.png)"
   ]
  },
  {
   "cell_type": "markdown",
   "id": "28710006-1d82-4885-ae4b-f68d005b4f0a",
   "metadata": {},
   "source": [
    "![NEON FWHM](https://raw.githubusercontent.com/NEONScience/NEON-Data-Skills/dev-aten/graphics/hyperspectral-general/FWHM2.png)"
   ]
  },
  {
   "cell_type": "markdown",
   "id": "55112b2e",
   "metadata": {},
   "source": [
    "### Multispectral vs. Hyperspectral Data\n",
    "\n",
    "Multispectral instruments have larger spectral resolutions with fewer bands. This level of detail can be limiting in distinguishing between surface types. Hyperspectral instruments, in comparison, typically have hundreds of bands with relatively narrow wavelength intervals. The image below illustrates the difference in spectral responses between a multispectral (Landsat 8 OLI) and a hyperspectral (AVIRIS) sensor."
   ]
  },
  {
   "cell_type": "markdown",
   "id": "9f7c2f29-8881-417c-b015-f56014972ed9",
   "metadata": {},
   "source": [
    "<img alt=\"AVIRIS Logo\" src=\"Hyper_vs_Multispectral.png\" style=\"margin:auto\"/>"
   ]
  },
  {
   "cell_type": "markdown",
   "id": "d38790dd",
   "metadata": {},
   "source": [
    "## AVIRIS-NG Meets SnowEx\n",
    "<br>\n",
    "AVIRIS-NG measures upwelling radiance across 485 continuous spectral bands.\n",
    "<br><br>\n",
    "<table><thead>\n",
    "<tr><th style=\"text-align:center\">Flight Altitude</th><th style=\"text-align:center\">Spatial Resolution</th><th style=\"text-align:center\">Spectral Resolution</th><th style=\"text-align:center\">Spectral Range</th><th style=\"text-align:center\">2021 Flight Dates</th><th style=\"text-align:center\">Study Sites</th></tr>\n",
    "</thead>\n",
    "<tbody>\n",
    "    <tr><td style=\"text-align:center\">25,000 ft ASL</td><td style=\"text-align:center\">4 m</td><td style=\"text-align:center\">5 nm</td><td style=\"text-align:center\">380 nm to 2510 nm</td><td style=\"text-align:center\">03/19, 04/11, 04/29</td><td style=\"text-align:center\">Senator Beck Basin; Grand Mesa Study Plot</td></tr>\n",
    "        \n",
    "</tbody>\n",
    "</table>\n",
    "<br>"
   ]
  },
  {
   "cell_type": "markdown",
   "id": "06dfbea1-2eea-45b9-820b-f9381a87fb0f",
   "metadata": {},
   "source": [
    "### Where can I get the data?"
   ]
  },
  {
   "cell_type": "markdown",
   "id": "1d95c3db-13f8-4253-a79a-58caaa75e34e",
   "metadata": {},
   "source": [
    "NSIDC (Soon public)\n",
    "\n",
    "Data products:\n",
    "* Spectral radiance/observation geometry (L1B)\n",
    "* Corrected Reflectance (L2)\n"
   ]
  },
  {
   "cell_type": "markdown",
   "id": "4e0c461c-eb69-4398-88d8-fe11e9cef715",
   "metadata": {},
   "source": [
    "## First look at the data"
   ]
  },
  {
   "cell_type": "markdown",
   "id": "1cace38b",
   "metadata": {},
   "source": [
    "```{Important} \n",
    "You will always want the data file __and__ the header file when processing </div>\n",
    "```"
   ]
  },
  {
   "cell_type": "markdown",
   "id": "c401ead2-4eca-4d06-872d-a3ba8ad65ab8",
   "metadata": {},
   "source": [
    "For today, we are downloading and using a sub sample. The download is done via the Python [urllib.request](https://docs.python.org/3/library/urllib.request.html) native library."
   ]
  },
  {
   "cell_type": "code",
   "execution_count": null,
   "id": "51ce5e07-0571-42ea-8766-efab8f4cb5fe",
   "metadata": {},
   "outputs": [],
   "source": [
    "import urllib.request"
   ]
  },
  {
   "cell_type": "markdown",
   "id": "855421d6-44ad-46b7-892c-77eb127f346c",
   "metadata": {},
   "source": [
    "1. The data file"
   ]
  },
  {
   "cell_type": "code",
   "execution_count": null,
   "id": "f1ec06d3-29b9-4280-90f7-78ea9b95e8e8",
   "metadata": {},
   "outputs": [],
   "source": [
    "SBB_data_file = 'data/ang20210411t181022_rfl_v2z1a_img_SASP'\n",
    "urllib.request.urlretrieve(\n",
    "    'https://github.com/snowex-hackweek/tutorial-data/blob/main/SnowEx-2022/AVIRIS-NG/ang20210411t181022_rfl_v2z1a_img_SASP?raw=true',\n",
    "    SBB_data_file\n",
    ");"
   ]
  },
  {
   "cell_type": "markdown",
   "id": "2c8e750d-1bdd-4f9f-a91e-6a58636a84a8",
   "metadata": {},
   "source": [
    "2. The header file"
   ]
  },
  {
   "cell_type": "code",
   "execution_count": null,
   "id": "0b0001e5-5e81-4184-993c-7cb8915f8975",
   "metadata": {},
   "outputs": [],
   "source": [
    "SBB_header_file = 'data/ang20210411t181022_rfl_v2z1a_img_SASP.hdr'\n",
    "urllib.request.urlretrieve(\n",
    "    'https://raw.githubusercontent.com/snowex-hackweek/tutorial-data/main/SnowEx-2022/AVIRIS-NG/ang20210411t181022_rfl_v2z1a_img_SASP.hdr',\n",
    "    SBB_header_file\n",
    ");"
   ]
  },
  {
   "cell_type": "markdown",
   "id": "79c1fba2-64d9-4897-9199-723e342ca6b3",
   "metadata": {},
   "source": [
    "3. The original header file (hold on tight on why ...)"
   ]
  },
  {
   "cell_type": "code",
   "execution_count": null,
   "id": "52faca20-6b79-4df4-8227-565101d25d42",
   "metadata": {},
   "outputs": [],
   "source": [
    "original_header_file = 'data/ang20210411t181022_rfl_v2z1a_img.hdr'\n",
    "urllib.request.urlretrieve(\n",
    "    'https://raw.githubusercontent.com/snowex-hackweek/tutorial-data/main/SnowEx-2022/AVIRIS-NG/ang20210411t181022_rfl_v2z1a_img.hdr',\n",
    "    original_header_file\n",
    ");"
   ]
  },
  {
   "cell_type": "markdown",
   "id": "40a3a7b7-91a2-4484-a1a2-dd577a143be8",
   "metadata": {
    "tags": []
   },
   "source": [
    "## Exploring many flight lines "
   ]
  },
  {
   "cell_type": "markdown",
   "id": "ecb4df4d-37f3-4178-8e75-aea8b3bc0ac5",
   "metadata": {},
   "source": [
    "Interactive exploration using GeoPandas and the folium plotting library:\n",
    "* https://geopandas.org/en/stable/docs/user_guide/interactive_mapping.html"
   ]
  },
  {
   "cell_type": "code",
   "execution_count": null,
   "id": "e5d4e7ab-e5cd-4c67-bd53-c3ad5460c4b3",
   "metadata": {},
   "outputs": [],
   "source": [
    "import geopandas\n",
    "import folium"
   ]
  },
  {
   "cell_type": "markdown",
   "id": "0aac03ca-cefa-4835-8dff-18fe101b8a2a",
   "metadata": {},
   "source": [
    "With a little help from GDAL, we can create an index for all flight lines and see where they are:\n",
    "* https://gdal.org/programs/gdaltindex.html\n",
    "\n",
    "A example command that creates a [GeoPackage](https://www.geopackage.org/)"
   ]
  },
  {
   "cell_type": "markdown",
   "id": "9fbaef76-9af2-4b03-96c6-348f84d9564d",
   "metadata": {},
   "source": [
    "```bash\n",
    "gdaltindex -t_srs EPSG:4326 index.gpkg ang20210411t1*_rfl*img\n",
    "```"
   ]
  },
  {
   "cell_type": "markdown",
   "id": "d5052114-7407-4bee-b60f-395a5d154ea5",
   "metadata": {},
   "source": [
    "### Breaking down the command:\n",
    "This command creates an index file `index.gpkg` for all flightlines starting with `ang20210411t1*` and selects only the reflectance prodcuts `_rfl*img`. The star `*` acts as a wildcard to include more than one file where the elements of the string as whole matches. The `-t_srs EPSG:4326` ensures that the read projection for all files will be stored as WGS 84 in the index. It does not change anything with the flight line data itself.\n",
    "Specifically for hyperspectral data, it is important to _not_ include the header files (ending with `.hdr`). GDAL automatically reads those with every image file and adding them to the list of files would cause a duplication.\n",
    "\n",
    "One way to test the included files is to use the search string with the list (`ls -l`) command in the terminal.\n",
    "The `-l` option lists the output with one line per file.\n",
    "\n",
    "Example:"
   ]
  },
  {
   "cell_type": "markdown",
   "id": "4ccdcaf6-0f5b-4f9c-837a-9a08496c3721",
   "metadata": {},
   "source": [
    "```bash\n",
    "ls index.gpkg ang20210411t1*_rfl*img\n",
    "```"
   ]
  },
  {
   "cell_type": "markdown",
   "id": "33625261-e5f2-42f0-98e4-2626aeb706aa",
   "metadata": {},
   "source": [
    "Sample output:\n",
    "```bash\n",
    "-rw-r--r-- 1 username groupname 2438534400 Feb 16 08:23 ang20210411t180555_rfl_v2z1a_img\n",
    "-rw-r--r-- 1 username groupname 1611382400 Feb 16 08:24 ang20210411t181022_rfl_v2z1a_img\n",
    "-rw-r--r-- 1 username groupname 1980166800 Feb 16 08:23 ang20210411t181414_rfl_v2z1a_img\n",
    "-rw-r--r-- 1 username groupname 1898560000 Feb 16 08:23 ang20210411t181822_rfl_v2z1a_img\n",
    "-rw-r--r-- 1 username groupname 9076497200 Feb 16 08:23 ang20210411t184544_rfl_v2z1a_img\n",
    "-rw-r--r-- 1 username groupname 8742760000 Feb 16 08:23 ang20210411t185350_rfl_v2z1a_img\n",
    "-rw-r--r-- 1 username groupname 8283032400 Feb 16 08:23 ang20210411t191149_rfl_v2z1a_img\n",
    "-rw-r--r-- 1 username groupname 8161863200 Feb 16 08:23 ang20210411t191954_rfl_v2z1a_img\n",
    "```"
   ]
  },
  {
   "cell_type": "markdown",
   "id": "d16fc954-5930-40e8-a8d2-8dfdca23396e",
   "metadata": {
    "tags": []
   },
   "source": [
    "### Load the created index and some geo-spatial information into a Geo-Dataframe to explore interactively"
   ]
  },
  {
   "cell_type": "markdown",
   "id": "ab3b2df9-d968-4915-82f5-af6d2bc7aaee",
   "metadata": {},
   "source": [
    "GeoPandas has the ability to read files from disk or from a remote URL. When using a URL the information is held in memory for that session and will be lost once you restart the Python kernel."
   ]
  },
  {
   "cell_type": "code",
   "execution_count": null,
   "id": "de7898de-b678-44e5-bed1-11ea6a2f9207",
   "metadata": {},
   "outputs": [],
   "source": [
    "flight_lines = geopandas.read_file('https://github.com/snowex-hackweek/tutorial-data/blob/main/SnowEx-2022/AVIRIS-NG/20210411_flights.gpkg?raw=true')\n",
    "sbb = geopandas.read_file('https://raw.githubusercontent.com/snowex-hackweek/tutorial-data/main/SnowEx-2022/AVIRIS-NG/SBB_basin.geojson')\n",
    "swamp_angel = geopandas.read_file('https://raw.githubusercontent.com/snowex-hackweek/tutorial-data/main/SnowEx-2022/AVIRIS-NG/SwampAngel.geojson')"
   ]
  },
  {
   "cell_type": "code",
   "execution_count": null,
   "id": "01533edb-b249-4a5a-acb1-6c4f9ce2cae2",
   "metadata": {},
   "outputs": [],
   "source": [
    "# Create a map with multiple layers to explore where the lines are\n",
    "## Layer 1 used as base layer\n",
    "sbb_layer = sbb.explore(\n",
    "    name='SBB basin',\n",
    "    color='green'\n",
    ")\n",
    "## Layer 2\n",
    "swamp_angel.explore(\n",
    "    m=sbb_layer,                   ## Add this layer to the Layer 1\n",
    "    name='Swamp Angel Study Plot'\n",
    ")\n",
    "## Layer 3\n",
    "flight_lines.explore(\n",
    "    m=sbb_layer,                   ## Add this layer to the Layer 1\n",
    "    name='AVIRIS flight lines',\n",
    "    column='location'\n",
    ")\n",
    "# Top right box to toggle layer visibility\n",
    "folium.LayerControl().add_to(sbb_layer)\n",
    "\n",
    "# Show the final map with all layer\n",
    "sbb_layer"
   ]
  },
  {
   "cell_type": "markdown",
   "id": "102fb0ce-5031-4201-9d77-8055ff6b668c",
   "metadata": {
    "tags": []
   },
   "source": [
    "## Exploring a single flight line "
   ]
  },
  {
   "cell_type": "markdown",
   "id": "b63e68e0-04d2-4f4c-9af2-10193da06982",
   "metadata": {},
   "source": [
    "Check our current file location (This is called a [magic command](https://ipython.readthedocs.io/en/stable/interactive/magics.html))"
   ]
  },
  {
   "cell_type": "code",
   "execution_count": null,
   "id": "6c22e384-dc1e-4f7b-aa6f-ede0d09be8ce",
   "metadata": {},
   "outputs": [],
   "source": [
    "%pwd"
   ]
  },
  {
   "cell_type": "markdown",
   "id": "a65975a5-204e-43ce-b375-00884597f2a0",
   "metadata": {},
   "source": [
    "Which output we can store in a local variable"
   ]
  },
  {
   "cell_type": "code",
   "execution_count": null,
   "id": "b7f09e84-f650-478d-b5be-3188b626d836",
   "metadata": {},
   "outputs": [],
   "source": [
    "home_folder = %pwd"
   ]
  },
  {
   "cell_type": "markdown",
   "id": "890a02a4-0f2c-4543-80af-859d63835f0e",
   "metadata": {},
   "source": [
    "Create absolute paths to our downloaded files"
   ]
  },
  {
   "cell_type": "code",
   "execution_count": null,
   "id": "5bf83f7a-96d0-4436-a0e5-282aceefff08",
   "metadata": {},
   "outputs": [],
   "source": [
    "SBB_data_file = f'{home_folder}/{SBB_data_file}'\n",
    "SBB_header_file = f'{home_folder}/{SBB_header_file}'"
   ]
  },
  {
   "cell_type": "markdown",
   "id": "6536ce28-b05e-4d7b-bc3e-f67299f9ba5a",
   "metadata": {},
   "source": [
    "### Spectral Python library \n",
    "\n",
    "```{seealso}\n",
    "\n",
    "* https://www.spectralpython.net/\n",
    "* https://github.com/spectralpython/spectral\n",
    "```"
   ]
  },
  {
   "cell_type": "code",
   "execution_count": null,
   "id": "0984a477-6b60-4b42-b787-ba90dc91cfa3",
   "metadata": {},
   "outputs": [],
   "source": [
    "import spectral"
   ]
  },
  {
   "cell_type": "code",
   "execution_count": null,
   "id": "95515461-9ca5-446c-b2c7-15087754cc88",
   "metadata": {},
   "outputs": [],
   "source": [
    "# Create a file object for the original image\n",
    "image = spectral.open_image(SBB_header_file)"
   ]
  },
  {
   "cell_type": "code",
   "execution_count": null,
   "id": "80d657e0-d8e8-48c5-b8b4-f4d45e830c04",
   "metadata": {},
   "outputs": [],
   "source": [
    "# Get information about the bands\n",
    "image.bands.centers"
   ]
  },
  {
   "cell_type": "markdown",
   "id": "96e300ed-47d5-42e2-95c1-8e10d62967de",
   "metadata": {},
   "source": [
    "Darn ... we have an empty output. This subset was created using the GDAL library. Unfortunately, GDAL does not write the headers in a format that the spectral library recognizes. This is where the original header file comes into play. "
   ]
  },
  {
   "cell_type": "code",
   "execution_count": null,
   "id": "3453e67f-2193-4bee-b6ea-8c1abbf4c59f",
   "metadata": {},
   "outputs": [],
   "source": [
    "import spectral.io.envi as envi"
   ]
  },
  {
   "cell_type": "markdown",
   "id": "33854869-2454-45e5-b9f0-8bc02ca95606",
   "metadata": {},
   "source": [
    "```{attention}\n",
    "We are giving the original header, but the subset data file.\n",
    "It's a workaround to get to the band information.\n",
    "```"
   ]
  },
  {
   "cell_type": "code",
   "execution_count": null,
   "id": "47f272b3-364a-49a6-a885-b16da7af0756",
   "metadata": {},
   "outputs": [],
   "source": [
    "header = envi.open(original_header_file, SBB_data_file)"
   ]
  },
  {
   "cell_type": "markdown",
   "id": "74db8b29-dc3e-408b-ac3e-3af7b9476b9f",
   "metadata": {
    "tags": []
   },
   "source": [
    "### Find band index for a wavelength "
   ]
  },
  {
   "cell_type": "code",
   "execution_count": null,
   "id": "c5a01963-7dba-4864-8031-0d917d35d189",
   "metadata": {},
   "outputs": [],
   "source": [
    "import numpy as np"
   ]
  },
  {
   "cell_type": "code",
   "execution_count": null,
   "id": "cbc7ad0a-e694-4e35-ab3e-be1e7f20b185",
   "metadata": {},
   "outputs": [],
   "source": [
    "type(header.bands)"
   ]
  },
  {
   "cell_type": "markdown",
   "id": "46423a33-0412-4116-92d3-b9090731f2e5",
   "metadata": {},
   "source": [
    "Ahhh ... much better"
   ]
  },
  {
   "cell_type": "code",
   "execution_count": null,
   "id": "3154a72b-e617-4d82-b997-faeb1af5466a",
   "metadata": {},
   "outputs": [],
   "source": [
    "bands = np.array(header.bands.centers)"
   ]
  },
  {
   "cell_type": "code",
   "execution_count": null,
   "id": "264a31af-dec1-49a2-811c-e5e15eeb714c",
   "metadata": {},
   "outputs": [],
   "source": [
    "bands"
   ]
  },
  {
   "cell_type": "markdown",
   "id": "bde7835c-727e-46c4-be75-e058d473b90b",
   "metadata": {},
   "source": [
    "#### Inspect spatial metadata"
   ]
  },
  {
   "cell_type": "code",
   "execution_count": null,
   "id": "1ea90afd-d97f-460f-ab67-ff86f3829977",
   "metadata": {},
   "outputs": [],
   "source": [
    "header.metadata['map info']"
   ]
  },
  {
   "cell_type": "markdown",
   "id": "93a494c7-c79c-4b3d-bdd1-a216ad2c5dd0",
   "metadata": {},
   "source": [
    "### Exploring the data "
   ]
  },
  {
   "cell_type": "markdown",
   "id": "d2dfaaf2-b39c-4736-b5ff-8680876db53e",
   "metadata": {},
   "source": [
    "#### Define wavelengths for the colors we want"
   ]
  },
  {
   "cell_type": "code",
   "execution_count": null,
   "id": "2445f8ad-9d07-4efe-8b92-8f9474939094",
   "metadata": {},
   "outputs": [],
   "source": [
    "red = 645\n",
    "green = 510\n",
    "blue = 440"
   ]
  },
  {
   "cell_type": "code",
   "execution_count": null,
   "id": "c7cd227f-654f-4cd3-af0c-0f3be5dccc8d",
   "metadata": {},
   "outputs": [],
   "source": [
    "np.argmin(np.abs(bands - red))"
   ]
  },
  {
   "cell_type": "code",
   "execution_count": null,
   "id": "a4466345-b50d-41a7-a796-e843097ddf4a",
   "metadata": {},
   "outputs": [],
   "source": [
    "bands[54]"
   ]
  },
  {
   "cell_type": "markdown",
   "id": "47d28c6d-9d99-4835-8c90-1f26e6b42486",
   "metadata": {},
   "source": [
    "#### Create a method to get the values for many different wavelengths"
   ]
  },
  {
   "cell_type": "code",
   "execution_count": null,
   "id": "20f004a2-c42a-4ebe-b8fc-9824509c67ec",
   "metadata": {},
   "outputs": [],
   "source": [
    "def index_for_band(band):\n",
    "    # Return the index with the minimum difference between the target and available band center\n",
    "    return np.argmin(np.abs(bands - band))"
   ]
  },
  {
   "cell_type": "code",
   "execution_count": null,
   "id": "76758699-361b-4aa0-bde6-ef74f36090ad",
   "metadata": {},
   "outputs": [],
   "source": [
    "index_for_band(green)"
   ]
  },
  {
   "cell_type": "code",
   "execution_count": null,
   "id": "c622ac87-c24e-4b5a-9c6a-94faba6528d9",
   "metadata": {},
   "outputs": [],
   "source": [
    "index_for_band(blue)"
   ]
  },
  {
   "cell_type": "markdown",
   "id": "93c7608e-ca39-45d9-a98e-7fccf4ce3a96",
   "metadata": {},
   "source": [
    "### Inspection plot for selected bands "
   ]
  },
  {
   "cell_type": "code",
   "execution_count": null,
   "id": "f3af6892-e282-4e8c-b6c4-28d8b1bd39a1",
   "metadata": {},
   "outputs": [],
   "source": [
    "import matplotlib.pyplot as plt\n",
    "\n",
    "%matplotlib inline\n",
    "#Increase the default figure output resolution\n",
    "plt.rcParams['figure.dpi'] = 200"
   ]
  },
  {
   "cell_type": "markdown",
   "id": "2ad55f66-38c7-4797-80c4-55d7c7963d17",
   "metadata": {},
   "source": [
    "### Subset of Swamp Angle Study Plot (SASP)"
   ]
  },
  {
   "cell_type": "markdown",
   "id": "838ceb07-11e7-4ba6-8322-e9e96dd0f191",
   "metadata": {},
   "source": [
    "Use GDAL warp to subset"
   ]
  },
  {
   "cell_type": "markdown",
   "id": "e9441767-a98f-4f29-a6c0-6857a4873a3b",
   "metadata": {},
   "source": [
    "```{toggle}\n",
    "\n",
    "```bash\n",
    "gdalwarp -co INTERLEAVE=BIL -of ENVI \\                                   # Preserve the data as ENVI file\n",
    "         -te 261469.404472 4198850.600453 261811.425717 4199084.295516 \\ # The target extent\n",
    "         ang20210411t181022_rfl_v2z1a_img                                # Source file\n",
    "         ang20210411t181022_rfl_v2z1a_img_SASP                           # Destination file\n",
    "```\n",
    "```"
   ]
  },
  {
   "cell_type": "markdown",
   "id": "68baa137-1f21-4374-a3ae-1f37ca12362a",
   "metadata": {},
   "source": [
    "```{Important}\n",
    "Going back to the original header file for the spatial extent\n",
    "```"
   ]
  },
  {
   "cell_type": "code",
   "execution_count": null,
   "id": "742b9776-b7db-4a76-9b16-d4dff70b5c4a",
   "metadata": {},
   "outputs": [],
   "source": [
    "image = spectral.open_image(SBB_header_file)"
   ]
  },
  {
   "cell_type": "code",
   "execution_count": null,
   "id": "4e44261d-fbb8-446e-889a-edcbca1426d4",
   "metadata": {},
   "outputs": [],
   "source": [
    "# Show some first image information\n",
    "print(image)"
   ]
  },
  {
   "cell_type": "code",
   "execution_count": null,
   "id": "9bbca3c1-2260-46a4-a68d-0382ddad7427",
   "metadata": {},
   "outputs": [],
   "source": [
    "# Load the entire image into memory as an array\n",
    "image_data = image.load()"
   ]
  },
  {
   "cell_type": "markdown",
   "id": "c4c25857-f72c-4d7e-afc5-d6ce96d16c59",
   "metadata": {},
   "source": [
    "#### Plot the image absed of the prevsiously determined band indices (BGR)"
   ]
  },
  {
   "cell_type": "code",
   "execution_count": null,
   "id": "d33dc01d-9b4c-4513-8347-225ddf99a19b",
   "metadata": {},
   "outputs": [],
   "source": [
    "view = spectral.imshow(image_data, (53,27,13), title = 'RGB of SASP')"
   ]
  },
  {
   "cell_type": "markdown",
   "id": "638822e0-b656-4873-b25e-56f214f085ea",
   "metadata": {},
   "source": [
    "```{admonition} Exercise\n",
    ":class: dropdown\n",
    "\n",
    "Pick the wavelengths of your choice and plot the Swamp Angle Study plot.\n",
    "\n",
    "Which bands did you pick?\n",
    "Does the image look as expected?\n",
    "\n",
    "Let's discuss the result with your neighbour.\n",
    "```"
   ]
  },
  {
   "cell_type": "markdown",
   "id": "45ccd274",
   "metadata": {},
   "source": [
    "## Introduction to Spectral Feature Fitting \n",
    "\n",
    "Using the Spectral Feature Fitting method, we can compare the absorption features within the image spectra to a reference spectra in order to identify the presence of a specific material within a given pixel. Here, we will demonstrate this using the ice absorption feature in a snow-covered pixel found within Swamp Angel Study Plot. "
   ]
  },
  {
   "cell_type": "markdown",
   "id": "6828d79d-294e-47b4-a487-ccdf5da249fe",
   "metadata": {},
   "source": [
    "### Load more data "
   ]
  },
  {
   "cell_type": "code",
   "execution_count": null,
   "id": "7ea9c611-8bcf-4c15-b51e-ee7058504872",
   "metadata": {},
   "outputs": [],
   "source": [
    "absspec_fname = 'data/h2o_indices.csv'\n",
    "urllib.request.urlretrieve(\n",
    "    'https://raw.githubusercontent.com/snowex-hackweek/tutorial-data/main/SnowEx-2022/AVIRIS-NG/h2o_indices.csv',\n",
    "    absspec_fname\n",
    ");"
   ]
  },
  {
   "cell_type": "markdown",
   "id": "52d3de79-1769-4eb9-991b-245688b5bc5d",
   "metadata": {},
   "source": [
    "### Load the point of interest "
   ]
  },
  {
   "cell_type": "code",
   "execution_count": null,
   "id": "eb800068-11b3-4eea-8e47-57a2940e9de5",
   "metadata": {},
   "outputs": [],
   "source": [
    "roi = geopandas.read_file('https://raw.githubusercontent.com/snowex-hackweek/tutorial-data/main/SnowEx-2022/AVIRIS-NG/roi.geojson')"
   ]
  },
  {
   "cell_type": "code",
   "execution_count": null,
   "id": "fb7b4247-676c-4399-88d4-1dc2144c4c2c",
   "metadata": {},
   "outputs": [],
   "source": [
    "sasp = swamp_angel.explore(\n",
    "    name='Swamp Angel Study Plot',\n",
    "    tiles=\"Stamen Terrain\"\n",
    ")\n",
    "roi.explore(\n",
    "    m=sasp,\n",
    "    color='orange',\n",
    "    \n",
    ")"
   ]
  },
  {
   "cell_type": "markdown",
   "id": "8fde1415-d76c-4b80-9ecc-5ecaf2401159",
   "metadata": {},
   "source": [
    "### Find the coordinates in pixel space "
   ]
  },
  {
   "cell_type": "code",
   "execution_count": null,
   "id": "bcb2fe25-cb04-4796-bc3c-7b5f48e0009e",
   "metadata": {},
   "outputs": [],
   "source": [
    "import rasterio\n",
    "\n",
    "with rasterio.open(SBB_data_file) as sbb_subset:\n",
    "    x, y = sbb_subset.index(roi.geometry.x, roi.geometry.y) # The index methods returns arrays\n",
    "    print(x[0], y[0])"
   ]
  },
  {
   "cell_type": "markdown",
   "id": "fafa50fa-f1e8-4ddc-ae84-f3ad33e08190",
   "metadata": {},
   "source": [
    "### Show the measured reflectance at this pixel "
   ]
  },
  {
   "cell_type": "code",
   "execution_count": null,
   "id": "83385f7b-d0a8-45cf-8764-14dcef76c507",
   "metadata": {},
   "outputs": [],
   "source": [
    "#plot spectrum for a given pixel\n",
    "my_pixel = image_data[x[0], y[0]] \n",
    "plt.plot (bands, my_pixel, color='blue')\n",
    "plt.xlabel('Wavelength (nm)')\n",
    "plt.ylabel('Reflectance')\n",
    "plt.show()"
   ]
  },
  {
   "cell_type": "code",
   "execution_count": null,
   "id": "fc833510",
   "metadata": {},
   "outputs": [],
   "source": [
    "# Read the file into a numpy array\n",
    "absspec_fullres = np.loadtxt(absspec_fname, delimiter=\",\", skiprows=1)  # Skip the header row"
   ]
  },
  {
   "cell_type": "code",
   "execution_count": null,
   "id": "b814dc60",
   "metadata": {},
   "outputs": [],
   "source": [
    "import math \n",
    "# Extract columns from array\n",
    "wvl_nm_fullres = absspec_fullres[:, 0] # extract the wavelength column\n",
    "wvl_cm_fullres = wvl_nm_fullres / 1e9 * 1e2  # convert wavelength from nm to cm\n",
    "ice_k = absspec_fullres[:, 4] # get k for ice\n",
    "\n",
    "# Calculate absorption coefficients in cm^-1\n",
    "ice_abs_fullres = ice_k * math.pi * 4.0 / wvl_cm_fullres\n",
    "\n",
    "# Plot absorption coefficients\n",
    "plt.plot(wvl_nm_fullres, ice_abs_fullres, color='darkblue')\n",
    "plt.xlabel('Wavelength (nm)')\n",
    "plt.ylabel('Absorption Coefficient ($cm^{-1}$)')\n",
    "plt.show()"
   ]
  },
  {
   "cell_type": "code",
   "execution_count": null,
   "id": "4aee77a1",
   "metadata": {},
   "outputs": [],
   "source": [
    "# Calculate e-folding distances in cm\n",
    "ice_efld_fullres = 1 / ice_abs_fullres\n",
    "\n",
    "# Plot e-folding distance\n",
    "plt.plot(wvl_nm_fullres, ice_efld_fullres, color='darkblue')\n",
    "plt.xlabel('Wavelength (nm)')\n",
    "plt.ylabel('e-folding distance (cm)')\n",
    "plt.show()"
   ]
  },
  {
   "cell_type": "code",
   "execution_count": null,
   "id": "8791e71b",
   "metadata": {},
   "outputs": [],
   "source": [
    "# Plot reflectance for example pixels of each cover type.\n",
    "plt.plot (bands, image_data[20, 50], color='royalblue') # A bright iceberg pixel\n",
    "plt.xlabel('Wavelength (nm)')\n",
    "plt.ylabel('Reflectance')\n",
    "plt.xlim([400, 2500])\n",
    "plt.ylim([0, 1.0])\n",
    "plt.vlines(1028, 0.35, 0.55, color='gray', linestyle='dotted')\n",
    "plt.show()"
   ]
  },
  {
   "cell_type": "code",
   "execution_count": null,
   "id": "85fce743",
   "metadata": {},
   "outputs": [],
   "source": [
    "from scipy.interpolate import CubicSpline\n",
    "\n",
    "# Create CubicSpline functions that use the original absorption spectra wavelengths and values\n",
    "ice_cs = CubicSpline(wvl_nm_fullres, ice_abs_fullres)\n",
    "\n",
    "# Interpolate to AVIRIS-NG band center wavelengths\n",
    "ice_abs_imgres = ice_cs(bands)"
   ]
  },
  {
   "cell_type": "code",
   "execution_count": null,
   "id": "543ba032-7b07-44e0-ac69-e1e54808e7dd",
   "metadata": {},
   "outputs": [],
   "source": [
    "# Set the absorption feature wavelength bounds for both abs features\n",
    "lower_bound = 940\n",
    "upper_bound = 1095\n",
    "\n",
    "lower_bound_index = index_for_band(lower_bound)\n",
    "upper_bound_index = index_for_band(upper_bound)"
   ]
  },
  {
   "cell_type": "code",
   "execution_count": null,
   "id": "747c6c3f-e2aa-4fd5-a1a3-ad91ee2cbb62",
   "metadata": {},
   "outputs": [],
   "source": [
    "# Remember: Numpy's upper bound index is excluded. Hence +1\n",
    "bands_in_feature = bands[lower_bound_index:upper_bound_index + 1]\n",
    "band_index_in_feature = np.arange(lower_bound_index, upper_bound_index + 1)"
   ]
  },
  {
   "cell_type": "code",
   "execution_count": null,
   "id": "1930e1b4-0293-42e1-a5bc-76a94c44dc5f",
   "metadata": {},
   "outputs": [],
   "source": [
    "# Create an input X value array with wavelengths and ice abs coeffs\n",
    "xval_array = np.transpose(\n",
    "    np.column_stack((bands_in_feature, ice_abs_imgres[band_index_in_feature])).astype('float32'))\n",
    "yval_array = my_pixel[band_index_in_feature]\n",
    "print(xval_array.shape)\n",
    "print(yval_array.shape)"
   ]
  },
  {
   "cell_type": "code",
   "execution_count": null,
   "id": "b84871b3",
   "metadata": {},
   "outputs": [],
   "source": [
    "# Import 'nnls' and set up your x and y arrays\n",
    "from scipy.optimize import nnls\n",
    "x_values = np.transpose(\n",
    "    np.array([\n",
    "        np.ones_like(bands_in_feature), \n",
    "        bands_in_feature,\n",
    "        -1 * bands_in_feature,\n",
    "        ice_abs_imgres[band_index_in_feature]\n",
    "    ])\n",
    ")\n",
    "print(x_values.shape)\n",
    "\n",
    "y_values = my_pixel[band_index_in_feature]\n",
    "print(y_values.shape)"
   ]
  },
  {
   "cell_type": "code",
   "execution_count": null,
   "id": "b96076e3",
   "metadata": {},
   "outputs": [],
   "source": [
    "# Solve for a, b, d_water, and d_ice using nnls\n",
    "coeff, resid = nnls(x_values, -np.log(y_values))\n",
    "print(coeff)\n",
    "\n",
    "# Look at the estimated water thickness\n",
    "print(\"estimated ice thickness = {}\".format(round(coeff[3], 3)))"
   ]
  },
  {
   "cell_type": "code",
   "execution_count": null,
   "id": "9ed90594",
   "metadata": {},
   "outputs": [],
   "source": [
    "# Generate your modeled spectral feature from 'fit_water'\n",
    "nnls_predicted_berg_abs = np.exp(-x_values.dot(coeff[:, np.newaxis]))"
   ]
  },
  {
   "cell_type": "code",
   "execution_count": null,
   "id": "0e76dcdd",
   "metadata": {},
   "outputs": [],
   "source": [
    "# Plot both over your measured spectral feature\n",
    "plt.figure()\n",
    "plt.plot(bands_in_feature, my_pixel[band_index_in_feature], color = 'deepskyblue')\n",
    "plt.plot(bands_in_feature, nnls_predicted_berg_abs, color = 'crimson', linestyle = '--')\n",
    "plt.legend(['measured ice spectrum', \n",
    "            '\\'nnls\\' modeled ice spectrum'])\n",
    "plt.show()"
   ]
  },
  {
   "cell_type": "markdown",
   "id": "50af886f-30b7-4a54-bff7-8eac89b33c46",
   "metadata": {},
   "source": [
    "# Wrapping it up "
   ]
  },
  {
   "cell_type": "code",
   "execution_count": null,
   "id": "8cb7d383-1a79-492c-ae4b-682725f5d056",
   "metadata": {},
   "outputs": [],
   "source": []
  }
 ],
 "metadata": {
  "language_info": {
   "name": "python"
  }
 },
 "nbformat": 4,
 "nbformat_minor": 5
}
