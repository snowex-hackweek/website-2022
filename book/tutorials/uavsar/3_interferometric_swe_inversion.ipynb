{
 "cells": [
  {
   "cell_type": "markdown",
   "metadata": {},
   "source": [
    "# Why would I use Uavsar for snow?\n",
    "\n",
    "L-band radar imagery penetrates through the snowpack. However when it crosses into the snowpack from the air it refracts at an angle, similar to light entering water. This refraction leads to a phase shift relative to an image with no or less snow. Using this difference in phase between two images we can calculate the change in snow height between flights using:\n",
    "\n",
    "$$\n",
    "\\Delta d = - \\frac{\\Delta \\phi \\lambda}{4 \\pi} \\frac{1}{\\cos^{ } \\alpha - \\sqrt{\\epsilon_{s} - \\sin^{2} \\alpha}}\n",
    "$$\n",
    "\n",
    "Where $\\Delta$ d is the change in snow height, $\\Delta \\phi$ is the phase shift between two SAR images, $\\lambda$ is the energy wavelength, $\\alpha$ is the incidence angle, and $\\epsilon_{s}$ is the dielectric constant of snow which is dependent on the density and liquid water content.\n",
    "\n",
    ":::{figure-md} conceptualfigure\n",
    "<img src=\"../../img/uavsar/conceptual.png\" style=\"background-color:white;\" alt=\"conceptual_fig\">\n",
    "\n",
    "Conceptual diagram of radar refraction across the air-snow interface.\n",
    ":::\n",
    "\n"
   ]
  }
 ],
 "metadata": {
  "language_info": {
   "name": "python"
  }
 },
 "nbformat": 4,
 "nbformat_minor": 2
}
