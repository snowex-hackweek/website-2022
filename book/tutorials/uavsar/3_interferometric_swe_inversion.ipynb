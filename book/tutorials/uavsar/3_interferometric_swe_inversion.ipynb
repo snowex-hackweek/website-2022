{
 "cells": [
  {
   "cell_type": "markdown",
   "metadata": {},
   "source": [
    "# Why would I use Uavsar for snow?\n",
    "\n",
    "L-band radar imagery penetrates through the snowpack. However when it crosses into the snowpack from the air it refracts at an angle, similar to light entering water. This refraction leads to a phase shift relative to an image with no or less snow. Using this difference in phase between two images we can calculate the change in snow height between flights using:\n",
    "\n",
    "$$\n",
    "\\Delta d = - \\frac{\\Delta \\phi \\lambda}{4 \\pi} \\frac{1}{\\cos^{ } \\alpha - \\sqrt{\\epsilon_{s} - \\sin^{2} \\alpha}}\n",
    "$$\n",
    "\n",
    "Where $\\Delta$ d is the change in snow height, $\\Delta \\phi$ is the phase shift between two SAR images, $\\lambda$ is the energy wavelength, $\\alpha$ is the incidence angle, and $\\epsilon_{s}$ is the dielectric constant of snow which is dependent on the density and liquid water content.\n",
    "\n",
    ":::{figure-md} conceptualfigure\n",
    "<img src=\"../../img/uavsar/conceptual.png\" style=\"background-color:white;\" alt=\"conceptual_fig\">\n",
    "\n",
    "Conceptual diagram of radar refraction across the air-snow interface.\n",
    ":::\n",
    "\n"
   ]
  },
  {
   "cell_type": "markdown",
   "metadata": {},
   "source": [
    "## Download test data from GitHub"
   ]
  },
  {
   "cell_type": "code",
   "execution_count": null,
   "metadata": {},
   "outputs": [],
   "source": [
    "import os\n",
    "os.chdir('/tmp/')\n",
    "!git clone https://github.com/SnowEx/uavsar-tutorial-data.git"
   ]
  },
  {
   "cell_type": "markdown",
   "metadata": {},
   "source": [
    "### Import Libraries"
   ]
  },
  {
   "cell_type": "code",
   "execution_count": null,
   "metadata": {},
   "outputs": [],
   "source": [
    "# Database imports\n",
    "from snowexsql.db import get_db\n",
    "from snowexsql.data import PointData, ImageData, LayerData, SiteData\n",
    "from snowexsql.conversions import query_to_geopandas\n",
    "\n",
    "# Uavsar_pytools imports\n",
    "from uavsar_pytools.snow_depth_inversion import depth_from_phase, phase_from_depth\n",
    "\n",
    "# Other imports\n",
    "from os.path import join\n",
    "from datetime import date\n",
    "import numpy as np\n",
    "import pandas as pd\n",
    "import matplotlib.pyplot as plt\n",
    "from shapely.geometry import box\n",
    "import rasterio as rio\n",
    "import rioxarray as rxa\n",
    "import contextily as cx\n",
    "%config InlineBackend.figure_format='retina'"
   ]
  },
  {
   "cell_type": "markdown",
   "metadata": {},
   "source": [
    "### Set variables"
   ]
  },
  {
   "cell_type": "code",
   "execution_count": null,
   "metadata": {},
   "outputs": [],
   "source": [
    "# Directory of the uavsar tiffs\n",
    "data_dir = '/tmp/uavsar-tutorial-data'\n",
    "# Mesa Lake Snotel Coordinates\n",
    "snotel_coords = (-108.05, 39.05)"
   ]
  },
  {
   "cell_type": "markdown",
   "metadata": {},
   "source": [
    "# February 1st and 13th Uavsar Image Pairs\n",
    "\n",
    "You learned in the first section how to access and download uavsar imagery. For this section the data has already been downloaded, converted to geoTiffs and cropped down to an area of interest that overlaps the main field sites of Grand Mesa. It is stored in the `gm_mesa` subdirectory of this tutorial. Lets take a look at the coherence and unwrapped phase between these two flights. If you don't remember what these two represent check out the previous section of this tutorial."
   ]
  },
  {
   "cell_type": "code",
   "execution_count": null,
   "metadata": {},
   "outputs": [],
   "source": [
    "# Create figures and subplots\n",
    "fig, axes = plt.subplots(2, 1, figsize = (12,8))\n",
    "# Select colormap for each image type\n",
    "vis_dic = {'cor': 'Blues', 'unw':'magma'}\n",
    "\n",
    "for i, type in enumerate(vis_dic.keys()):\n",
    "    ax = axes[i]\n",
    "    img = rxa.open_rasterio(join(data_dir, f'{type}.tif'))\n",
    "    vmin, vmax = img.quantile([0.1,0.9])\n",
    "    img.plot(ax = ax, vmin = vmin, vmax = vmax, cmap = vis_dic[type], zorder = 1, alpha = 0.7)\n",
    "    ax.set_xlim(-108.28,-108)\n",
    "    ax.set_ylim(38.98, 39.08)\n",
    "    cx.add_basemap(ax, crs=img.rio.crs, alpha = 0.8, source = cx.providers.USGS.USTopo) #cx.providers.USGS.USTopo)\n",
    "    ax.xaxis.label.set_visible(False)\n",
    "    ax.yaxis.label.set_visible(False)\n",
    "\n",
    "axes[0].set_title('Coherence')\n",
    "axes[1].set_title('Unwrapped Phase Change')\n",
    "\n",
    "plt.show()"
   ]
  },
  {
   "cell_type": "code",
   "execution_count": null,
   "metadata": {},
   "outputs": [],
   "source": [
    "fig, ax = plt.subplots(figsize = (12,8))\n",
    "# Plot the snotel location\n",
    "ax.scatter(x = snotel_coords[0], y = snotel_coords[1], marker = 'x', color = 'black')\n",
    "# Plot bounding box of uavsar\n",
    "uavsar_bounds = rxa.open_rasterio(join(data_dir, f'cor.tif')).rio.bounds()\n",
    "x,y = box(*uavsar_bounds).exterior.xy\n",
    "ax.plot(x,y, color = 'blue')\n",
    "# Set overview bounds\n",
    "ax.set_xlim(-108.4,-107.75)\n",
    "ax.set_ylim(38.75, 39.3)\n",
    "# Add background map\n",
    "cx.add_basemap(ax, crs=img.rio.crs, source = cx.providers.Stamen.TerrainLabels)\n",
    "cx.add_basemap(ax, crs=img.rio.crs, alpha = 0.8, source = cx.providers.USGS.USImageryTopo)\n",
    "#cx.add_basemap(ax, crs=img.rio.crs, alpha = 0.8, source = cx.providers.Stamen.TerrainLabels)\n",
    "plt.title('Overview Map')\n",
    "plt.show()"
   ]
  },
  {
   "cell_type": "markdown",
   "metadata": {},
   "source": [
    "## Using Database to collection snow depth and lidar datasets"
   ]
  },
  {
   "cell_type": "code",
   "execution_count": null,
   "metadata": {},
   "outputs": [],
   "source": [
    "# This is what you will use for all of hackweek to access the db\n",
    "db_name = 'snow:hackweek@db.snowexdata.org/snowex'\n",
    "# Using the function get_db, we receive 2 ways to interact with the database\n",
    "engine, session = get_db(db_name)"
   ]
  },
  {
   "cell_type": "code",
   "execution_count": null,
   "metadata": {},
   "outputs": [],
   "source": [
    "# Its convenient to store a query like the following \n",
    "qry = session.query(PointData)\n",
    "# Filter to snow depths\n",
    "qry = qry.filter(PointData.type == 'depth')\n",
    "# Then filter on it first date. We are gonna get one day either side of our flight date\n",
    "qry_feb1 = qry.filter(PointData.date >= date(2020, 1, 31))\n",
    "qry_feb1 = qry_feb1.filter(PointData.date <= date(2020, 2, 2))\n",
    "df_feb_1 = query_to_geopandas(qry_feb1, engine)\n",
    "# Get depths from second flight date\n",
    "qry_feb12 = qry.filter(PointData.date >= date(2020, 2, 11))\n",
    "qry_feb12 = qry_feb12.filter(PointData.date <= date(2020, 2, 13))\n",
    "df_feb_12 = query_to_geopandas(qry_feb12, engine)\n",
    "# Get depths that were captured on both days\n",
    "df_both = df_feb_1.overlay(df_feb_12, how = 'intersection')\n",
    "# Convert crs to match our uavsar images\n",
    "df_both = df_both.to_crs(epsg = 4326)\n",
    "# Calculate the snow depth change for each point\n",
    "df_both['sd_diff'] = df_both.value_2 - df_both.value_1"
   ]
  },
  {
   "cell_type": "code",
   "execution_count": null,
   "metadata": {},
   "outputs": [],
   "source": [
    "fig, ax = plt.subplots(figsize = (12,4))\n",
    "# Plot depth measurements\n",
    "df_both.plot(ax = ax, column = 'sd_diff', legend = True, legend_kwds = {'label': 'Snow Depth Change [cm]'})\n",
    "# Plot the snotel location\n",
    "snotel_coords = (-108.05, 39.05)\n",
    "ax.scatter(x = snotel_coords[0], y = snotel_coords[1], marker = 'x', color = 'black')\n",
    "# Plot bounding box of uavsar\n",
    "img = rxa.open_rasterio(join(data_dir, f'cor.tif'))\n",
    "uavsar_bounds = img.rio.bounds()\n",
    "x,y = box(*uavsar_bounds).exterior.xy\n",
    "ax.plot(x,y, color = 'blue')\n",
    "# Set same bounds as uavsar image plot\n",
    "ax.set_xlim(-108.28,-108)\n",
    "ax.set_ylim(38.98, 39.08)\n",
    "# Add background map\n",
    "cx.add_basemap(ax, crs=img.rio.crs, alpha = 0.8, source = cx.providers.USGS.USImageryTopo)\n",
    "plt.title('Database Snow Depth Measurements')\n",
    "plt.show()"
   ]
  },
  {
   "cell_type": "markdown",
   "metadata": {},
   "source": [
    "## Snow Depth Change Inversion from Phase\n",
    "\n",
    "We can recall the formula to calculate snow depth change from incidence angle, phase change, and the snow permittivity. \n",
    "\n",
    "$$\n",
    "\\Delta d = - \\frac{\\Delta \\phi \\lambda}{4 \\pi} \\frac{1}{\\cos^{ } \\alpha - \\sqrt{\\epsilon_{s} - \\sin^{2} \\alpha}}\n",
    "$$\n",
    "\n",
    "We have two of these variables already: incidence angle and phase change."
   ]
  },
  {
   "cell_type": "code",
   "execution_count": null,
   "metadata": {},
   "outputs": [],
   "source": [
    "# Create figures and subplots\n",
    "fig, axes = plt.subplots(2, 1, figsize = (12,8))\n",
    "# Select colormap for each image type\n",
    "vis_dic = {'inc': 'Greys', 'unw':'magma'}\n",
    "\n",
    "for i, type in enumerate(vis_dic.keys()):\n",
    "    ax = axes[i]\n",
    "    img = rxa.open_rasterio(join(data_dir, f'{type}.tif'))\n",
    "    if type == 'inc':\n",
    "        img = np.rad2deg(img)\n",
    "    vmin, vmax = img.quantile([0.1,0.9])\n",
    "    im = img.plot(ax = ax, vmin = vmin, vmax = vmax, cmap = vis_dic[type], zorder = 1, alpha = 0.7)\n",
    "    ax.set_xlim(-108.28,-108)\n",
    "    ax.set_ylim(38.98, 39.08)\n",
    "    cx.add_basemap(ax, crs=img.rio.crs, alpha = 0.8, source = cx.providers.USGS.USTopo)\n",
    "    ax.xaxis.label.set_visible(False)\n",
    "    ax.yaxis.label.set_visible(False)\n",
    "axes[0].set_title('Incidence Angle')\n",
    "axes[1].set_title('Unwrapped Phase Change')\n",
    "plt.show()"
   ]
  },
  {
   "cell_type": "markdown",
   "metadata": {},
   "source": [
    "## Setting the Zero Phase Point\n",
    "\n",
    "Unwrapped phase has one unknown - the zero phase point. This means we have an unknown absolute scene wide shift we can control. We are going to use the snotel depth change between the two flights to set this unknown and get our absolute phase change."
   ]
  },
  {
   "cell_type": "code",
   "execution_count": null,
   "metadata": {},
   "outputs": [],
   "source": [
    "df = pd.read_csv(join(data_dir, 'mesa_snotel.csv'), skiprows = 3, index_col=['Date'], parse_dates=['Date'])\n",
    "snotel_sd_delta = (df[df.index == '2020-02-01']['SNWD.I-1 (in) ']*0.0254).values[0] - (df[df.index == '2020-02-12']['SNWD.I-1 (in) ']*0.0254).values[0]\n",
    "with rio.open(join(data_dir, 'inc.tif')) as src:\n",
    "    for val in src.sample([snotel_coords]): \n",
    "        snotel_inc = val[0]\n",
    "snotel_sd_phase_from_sd_change = phase_from_depth(snotel_sd_delta, snotel_inc, density = 175)\n",
    "snotel_coords = (-108.05, 39.05)\n",
    "with rio.open(join(data_dir, 'unw.tif')) as src:\n",
    "    for val in src.sample([snotel_coords]): \n",
    "        snotel_phase = val[0]\n",
    "unw = rxa.open_rasterio(join(data_dir, 'unw.tif'))\n",
    "print(f'Snotel snow depth change: {snotel_sd_delta} cm. Phase should be {snotel_sd_phase_from_sd_change} and is currently {snotel_phase}')\n",
    "unw = unw - (snotel_phase - snotel_sd_phase_from_sd_change)"
   ]
  },
  {
   "cell_type": "markdown",
   "metadata": {},
   "source": [
    "We have two ways of getting the $e_{s}$, or the real part of the snow's dielectric permittivity. One is by estimating from the snow density. For dry snow we can estimate the permittivity using the density. There are a number of equations for calculating this value, but we will use the equation from (Guneriussen et al 2001)[https://ieeexplore.ieee.org/document/957273]:\n",
    "\n",
    "$$\n",
    "e_{s} = 1 + 0.0016 \\rho + 1.8 1\\mathrm{e}{-9} \\rho^{3}\n",
    "$$\n",
    "\n",
    "where $e_{s}$ is the real part of the snow's dielectric permittivity and $\\rho$ is the density of the new snow accumulated between the two images in $\\frac{kg}{m^{3}}$.\n",
    "\n",
    "The other method is to use the directly measured values for permittivity from the field and averaging the top layer."
   ]
  },
  {
   "cell_type": "code",
   "execution_count": null,
   "metadata": {},
   "outputs": [],
   "source": [
    "# Its convenient to store a query like the following \n",
    "qry = session.query(LayerData)\n",
    "# Filter to snow depths\n",
    "qry = qry.filter(LayerData.type == 'permittivity')\n",
    "# Then filter on it first date. We are gonna get one day either side of our flight date\n",
    "qry = qry.filter(LayerData.date >= date(2020, 1, 31))\n",
    "qry = qry.filter(LayerData.date <= date(2020, 2, 2))\n",
    "qry = qry.limit(100)\n",
    "df = query_to_geopandas(qry, engine)\n",
    "es_values = []\n",
    "for id in np.unique(df.site_id):\n",
    "    sub = df[df.site_id == id]\n",
    "    es = float(sub.sort_values(by = 'depth', ascending = False).iloc[0]['value'])\n",
    "    es_values.append(es)\n",
    "mean_new_snow_es = np.nanmean(es_values)"
   ]
  },
  {
   "cell_type": "code",
   "execution_count": null,
   "metadata": {},
   "outputs": [],
   "source": [
    "# Its convenient to store a query like the following \n",
    "qry = session.query(LayerData)\n",
    "# Then filter on it first date. We are gonna get one day either side of second flight date\n",
    "qry = qry.filter(LayerData.date >= date(2020, 1, 31))\n",
    "qry = qry.filter(LayerData.date <= date(2020, 2, 2))\n",
    "# Filter to snow density\n",
    "qry_p = qry.filter(LayerData.type == 'density')\n",
    "df = query_to_geopandas(qry_p, engine)\n",
    "p_values = []\n",
    "for id in np.unique(df.site_id):\n",
    "    sub = df[df.site_id == id]\n",
    "    p = float(sub.sort_values(by = 'depth', ascending = False).iloc[0]['value'])\n",
    "    p_values.append(p)\n",
    "mean_new_density = np.nanmean(p_values)\n",
    "density_new_permittivity = 1 + 0.0016*mean_new_density + 1.8e-09*mean_new_density**3\n",
    "\n",
    "qry = qry.filter(LayerData.type == 'permittivity')\n",
    "df = query_to_geopandas(qry, engine)\n",
    "es_values = []\n",
    "for id in np.unique(df.site_id):\n",
    "    sub = df[df.site_id == id]\n",
    "    es = float(sub.sort_values(by = 'depth', ascending = False).iloc[0]['value'])\n",
    "    es_values.append(es)\n",
    "mean_new_permittivity = np.nanmean(es_values)\n",
    "\n",
    "print(f'New snow measured permittivity: {mean_new_permittivity}. Permittivity from density: {density_new_permittivity}')"
   ]
  },
  {
   "cell_type": "code",
   "execution_count": null,
   "metadata": {},
   "outputs": [],
   "source": [
    "unw = rxa.open_rasterio(join(data_dir, f'unw.tif'))\n",
    "inc = rxa.open_rasterio(join(data_dir, f'inc.tif'))\n",
    "# sd_change = depth_from_phase(unw, inc, permittivity = mean_new_snow_es)\n",
    "sd_change = depth_from_phase(unw, inc, density = mean_new_density)\n",
    "sd_change = sd_change*100"
   ]
  },
  {
   "cell_type": "code",
   "execution_count": null,
   "metadata": {},
   "outputs": [],
   "source": [
    "f, ax = plt.subplots(figsize = (12,8))\n",
    "\n",
    "sd_change.plot(ax = ax, cmap = 'Blues', vmin = -10, vmax = 10)\n",
    "\n",
    "df_both.plot(ax = ax, color = 'black', markersize = 90)\n",
    "df_both.plot(ax = ax, column = 'sd_diff', legend = True, cmap = 'Blues', vmin = -10, vmax = 10)\n",
    "ax.scatter(x = snotel_coords[0], y = snotel_coords[1], marker = 'x', color = 'black')\n",
    "ax.xaxis.label.set_visible(False)\n",
    "ax.yaxis.label.set_visible(False)\n",
    "ax.set_title('Uavsar Snow Depth Inversion vs Field Observations')\n",
    "plt.show()"
   ]
  },
  {
   "cell_type": "code",
   "execution_count": null,
   "metadata": {},
   "outputs": [],
   "source": [
    "f, ax = plt.subplots(figsize = (12,8))\n",
    "\n",
    "sd_change.plot(ax = ax, cmap = 'Blues', vmin = -10, vmax = 10)\n",
    "\n",
    "df_both.plot(ax = ax, color = 'black', markersize = 90)\n",
    "df_both.plot(ax = ax, column = 'sd_diff', legend = True, cmap = 'Blues', vmin = -10, vmax = 10)\n",
    "ax.scatter(x = snotel_coords[0], y = snotel_coords[1], marker = 'x', color = 'black')\n",
    "ax.xaxis.label.set_visible(False)\n",
    "ax.yaxis.label.set_visible(False)\n",
    "ax.set_title('Uavsar Snow Depth Inversion vs Field Observations')\n",
    "ax.set_xlim(-108.14, -108.23)\n",
    "ax.set_ylim(39, 39.05)\n",
    "plt.show()"
   ]
  },
  {
   "cell_type": "code",
   "execution_count": null,
   "metadata": {},
   "outputs": [],
   "source": [
    "sd_change_fp = join(data_dir,'gm_phase_dz.tif')\n",
    "sd_change.rio.to_raster(sd_change_fp)\n",
    "with rio.open(sd_change_fp) as src:\n",
    "    coord_list = [(x,y) for x,y in zip(df_both['geometry'].x , df_both['geometry'].y)]\n",
    "    df_both['uavsar_sd'] = [x[0] for x in src.sample(coord_list)]\n",
    "\n",
    "f, ax = plt.subplots(figsize = (12,8))\n",
    "df_both['geometry-str'] = df_both['geometry'].astype(str)\n",
    "df_dis = df_both.dissolve('geometry-str', aggfunc = 'mean')\n",
    "field_sd_std = df_both.dissolve('geometry-str', aggfunc = 'std')['sd_diff'].values\n",
    "ax.errorbar(x = df_dis.uavsar_sd, y = df_dis.sd_diff, yerr = field_sd_std, fmt=\"o\")\n",
    "\n",
    "lims = [\n",
    "    np.min([ax.get_xlim(), ax.get_ylim()]),  # min of both axes\n",
    "    np.max([ax.get_xlim(), ax.get_ylim()]),  # max of both axes\n",
    "]\n",
    "\n",
    "# now plot both limits against each other\n",
    "ax.plot(lims, lims, 'k-', alpha=0.75, zorder=0)\n",
    "ax.set_aspect('equal')\n",
    "ax.set_xlim(lims)\n",
    "ax.set_ylim(lims)"
   ]
  },
  {
   "cell_type": "markdown",
   "metadata": {},
   "source": [
    "## Comparison to Lidar"
   ]
  },
  {
   "cell_type": "code",
   "execution_count": null,
   "metadata": {},
   "outputs": [],
   "source": [
    "# Create figures and subplots\n",
    "fig, axes = plt.subplots(3, 1, figsize = (12,8))\n",
    "\n",
    "lidar = rxa.open_rasterio(join(data_dir, 'sd_lidar.tif'))\n",
    "\n",
    "diff = lidar.copy()\n",
    "diff = diff - sd_change\n",
    "\n",
    "vmin, vmax = sd_change.quantile([0.1,0.9])\n",
    "sd_change_masked = sd_change.copy()\n",
    "sd_change_masked.data[np.isnan(lidar).data] = np.nan\n",
    "sd_change_masked.plot(ax = axes[0], vmin = vmin, vmax = vmax, cmap = 'Blues', zorder = 1, alpha = 0.7)\n",
    "lidar.plot(ax = axes[1], vmin = vmin, vmax = vmax, cmap = 'Blues', zorder = 1, alpha = 0.7)\n",
    "diff.plot(ax = axes[2], vmin = vmin, vmax = vmax, cmap = 'Blues', zorder = 1, alpha = 0.7)\n",
    "\n",
    "for ax in axes:\n",
    "    ax.xaxis.set_visible(False)\n",
    "    ax.yaxis.set_visible(False)\n",
    "\n",
    "axes[0].set_title('Uavsar Snow Depth Change')\n",
    "axes[1].set_title('Lidar Snow Depth Change')\n",
    "axes[2].set_title('Snow Depth Difference')\n",
    "plt.tight_layout()\n",
    "plt.show()"
   ]
  },
  {
   "cell_type": "code",
   "execution_count": null,
   "metadata": {},
   "outputs": [],
   "source": [
    "diffs = diff.values.ravel()\n",
    "diffs = diffs[diffs < 100]\n",
    "diffs = diffs[diffs > -100]\n",
    "plt.hist(diffs, bins = 100, density = True)\n",
    "# plt.axvline(sd_change_masked.mean().values, label = 'Uavsar Mean Snow Depth Change', color = 'green')\n",
    "lidar_vals = lidar.astype(np.float64).values[~lidar.isnull().values]\n",
    "lidar_vals = lidar_vals[lidar_vals < 100]\n",
    "lidar_vals = lidar_vals[lidar_vals > -100]\n",
    "mean_lidar = np.nanmean(lidar_vals)\n",
    "# plt.axvline(mean_lidar, label = 'Lidar Mean Snow Depth Change', color = 'red')\n",
    "rmse = np.sqrt(((diffs) ** 2).mean())\n",
    "print(f'Lidar mean depth change: {sd_change_masked.mean().values} cm, uavsar mean depth change: {mean_lidar} cm')\n",
    "print(f'Mean difference: {np.nanmean(diffs)} cm, rmse = {rmse} cm')\n",
    "# plt.legend()\n",
    "plt.show()"
   ]
  }
 ],
 "metadata": {
  "kernelspec": {
   "display_name": "Python 3.10.5 ('hackweek')",
   "language": "python",
   "name": "python3"
  },
  "language_info": {
   "codemirror_mode": {
    "name": "ipython",
    "version": 3
   },
   "file_extension": ".py",
   "mimetype": "text/x-python",
   "name": "python",
   "nbconvert_exporter": "python",
   "pygments_lexer": "ipython3"
  },
  "vscode": {
   "interpreter": {
    "hash": "485426853efb45fbcac7604c62a774e4eca2d162588db5a3cdf8fcb52b528869"
   }
  }
 },
 "nbformat": 4,
 "nbformat_minor": 2
}
