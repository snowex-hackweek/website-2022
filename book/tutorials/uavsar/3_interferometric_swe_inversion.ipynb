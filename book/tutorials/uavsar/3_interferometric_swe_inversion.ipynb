{
 "cells": [
  {
   "cell_type": "markdown",
   "metadata": {},
   "source": [
    "# Why would I use UAVSAR for snow?\n",
    "\n",
    "L-band SAR penetrates through the snowpack. However when it crosses into the snowpack from the air it refracts at an angle, similar to light entering water. This refraction leads to a phase shift relative to an image with no or less snow. Using this difference in phase between two images we can calculate the change in snow height between flights using:\n",
    "\n",
    "$$\n",
    "\\Delta d = - \\frac{\\Delta \\phi \\lambda}{4 \\pi} \\frac{1}{\\cos^{ } \\alpha - \\sqrt{\\epsilon_{s} - \\sin^{2} \\alpha}}\n",
    "$$\n",
    "\n",
    "Where $\\Delta$ d is the change in snow height, $\\Delta \\phi$ is the phase shift between two SAR images, $\\lambda$ is the radar wavelength, $\\alpha$ is the incidence angle, and $\\epsilon_{s}$ is the dielectric constant of snow which is dependent on the density and liquid water content.\n",
    "\n",
    ":::{figure-md} conceptualfigure\n",
    "<img src=\"../../img/uavsar/conceptual.png\" style=\"background-color:white;\" alt=\"conceptual_fig\">\n",
    "\n",
    "Conceptual diagram of radar refraction across the air-snow interface.\n",
    ":::\n",
    "\n"
   ]
  },
  {
   "cell_type": "markdown",
   "metadata": {},
   "source": [
    "## Download uavsar data from GitHub"
   ]
  },
  {
   "cell_type": "code",
   "execution_count": null,
   "metadata": {},
   "outputs": [],
   "source": [
    "import os\n",
    "# clone tifs to tmp directory\n",
    "os.chdir('/tmp/')\n",
    "if not os.path.exists('/tmp/uavsar-tutorial-data-2022'):\n",
    "    !git clone --quiet https://github.com/snowex-hackweek/uavsar-tutorial-data-2022.git\n",
    "\n",
    "# list files downloaded\n",
    "data_dir = '/tmp/uavsar-tutorial-data-2022/'\n",
    "os.chdir(data_dir)\n",
    "# ! ls -l"
   ]
  },
  {
   "cell_type": "markdown",
   "metadata": {},
   "source": [
    "### Import Libraries"
   ]
  },
  {
   "cell_type": "code",
   "execution_count": null,
   "metadata": {},
   "outputs": [],
   "source": [
    "# Database imports\n",
    "from snowexsql.db import get_db\n",
    "from snowexsql.data import PointData, ImageData, LayerData, SiteData\n",
    "from snowexsql.conversions import query_to_geopandas\n",
    "\n",
    "# Uavsar_pytools imports\n",
    "from uavsar_pytools.snow_depth_inversion import depth_from_phase, phase_from_depth\n",
    "\n",
    "# Other imports\n",
    "from os.path import join\n",
    "from datetime import date\n",
    "import numpy as np\n",
    "import pandas as pd\n",
    "import matplotlib.pyplot as plt\n",
    "from shapely.geometry import box\n",
    "import rasterio as rio\n",
    "import rioxarray as rxa\n",
    "import contextily as cx\n",
    "import holoviews as hv\n",
    "import rioxarray as rxa\n",
    "from bokeh.plotting import show\n",
    "import datashader as ds\n",
    "from datashader.mpl_ext import dsshow\n",
    "hv.extension('bokeh', logo=False)\n",
    "%config InlineBackend.figure_format='retina'"
   ]
  },
  {
   "cell_type": "markdown",
   "metadata": {},
   "source": [
    "### Set variables"
   ]
  },
  {
   "cell_type": "code",
   "execution_count": null,
   "metadata": {},
   "outputs": [],
   "source": [
    "# Directory of the uavsar tiffs\n",
    "data_dir = '/tmp/uavsar-tutorial-data-2022/'\n",
    "\n",
    "# Mesa Lake Snotel Coordinates\n",
    "snotel_coords = (-108.05, 39.05)"
   ]
  },
  {
   "cell_type": "markdown",
   "metadata": {},
   "source": [
    "## Phase Change between February 1st and 13th UAVSAR Image Pairs\n",
    "\n",
    "You learned in the first section how to access and download UAVSAR imagery. For this section the data has already been downloaded, converted to GeoTiffs and cropped down to an area of interest that overlaps the main field sites of Grand Mesa. Lets take a look at the coherence and unwrapped phase between these two flights. If you don't remember what these two represent check out the previous section of this tutorial."
   ]
  },
  {
   "cell_type": "code",
   "execution_count": null,
   "metadata": {},
   "outputs": [],
   "source": [
    "# Create figures and subplots\n",
    "fig, axes = plt.subplots(2, 1, figsize = (12,8))\n",
    "\n",
    "# Select colormap for each image type\n",
    "vis_dic = {'cor': 'Blues', 'unw':'magma'}\n",
    "\n",
    "# Loop through coherence and unwrapphed phase images\n",
    "for i, type in enumerate(vis_dic.keys()):\n",
    "    # select correct axis\n",
    "    ax = axes[i]\n",
    "    # open image with rioxarray\n",
    "    img = rxa.open_rasterio(join(data_dir, f'{type}.tif'))\n",
    "    # calculate visualization parameters\n",
    "    vmin, vmax = img.quantile([0.1,0.9])\n",
    "    # plot images\n",
    "    img.plot(ax = ax, vmin = vmin, vmax = vmax, cmap = vis_dic[type], zorder = 1, alpha = 0.7)\n",
    "    # zoom out a bit\n",
    "    ax.set_xlim(-108.28,-108)\n",
    "    ax.set_ylim(38.98, 39.08)\n",
    "    # add topo basemap\n",
    "    cx.add_basemap(ax, crs=img.rio.crs, alpha = 0.8, source = cx.providers.USGS.USTopo) #cx.providers.USGS.USTopo)\n",
    "    # turn off labels\n",
    "    ax.xaxis.label.set_visible(False)\n",
    "    ax.yaxis.label.set_visible(False)\n",
    "# set titles\n",
    "axes[0].set_title('Coherence')\n",
    "axes[1].set_title('Unwrapped Phase Change')\n",
    "\n",
    "plt.show()"
   ]
  },
  {
   "cell_type": "code",
   "execution_count": null,
   "metadata": {},
   "outputs": [],
   "source": [
    "fig, ax = plt.subplots(figsize = (12,8))\n",
    "\n",
    "# Plot the snotel location\n",
    "ax.scatter(x = snotel_coords[0], y = snotel_coords[1], marker = 'x', color = 'black')\n",
    "\n",
    "# Plot bounding box of uavsar\n",
    "uavsar_bounds = rxa.open_rasterio(join(data_dir, f'cor.tif')).rio.bounds()\n",
    "x,y = box(*uavsar_bounds).exterior.xy\n",
    "ax.plot(x,y, color = 'blue')\n",
    "\n",
    "# Set overview bounds\n",
    "ax.set_xlim(-108.4,-107.75)\n",
    "ax.set_ylim(38.75, 39.3)\n",
    "\n",
    "# Add background map\n",
    "cx.add_basemap(ax, crs=img.rio.crs, source = cx.providers.Stamen.TerrainLabels)\n",
    "cx.add_basemap(ax, crs=img.rio.crs, alpha = 0.8, source = cx.providers.USGS.USImageryTopo)\n",
    "plt.title('Overview Map')\n",
    "plt.show()"
   ]
  },
  {
   "cell_type": "markdown",
   "metadata": {},
   "source": [
    "## Using the SnowEx SQL Database to collect snow depth and lidar datasets\n",
    "\n",
    "Lets explore how many overlapping depth observations we have between these two days."
   ]
  },
  {
   "cell_type": "code",
   "execution_count": null,
   "metadata": {},
   "outputs": [],
   "source": [
    "# This is what you will use for all of hackweek to access the db\n",
    "db_name = 'snow:hackweek@db.snowexdata.org/snowex'\n",
    "\n",
    "# Using the function get_db, we receive 2 ways to interact with the database\n",
    "engine, session = get_db(db_name)"
   ]
  },
  {
   "cell_type": "code",
   "execution_count": null,
   "metadata": {},
   "outputs": [],
   "source": [
    "# Its convenient to store a query like the following \n",
    "qry = session.query(PointData)\n",
    "\n",
    "# Filter to snow depths\n",
    "qry = qry.filter(PointData.type == 'depth')\n",
    "qry = qry.filter(PointData.site_name == 'Grand Mesa')\n",
    "qry = qry.filter(PointData.instrument != 'Mala 800 MHz GPR')\n",
    "\n",
    "# Then filter on it first date. We are gonna get one day either side of our flight date\n",
    "qry_feb1 = qry.filter(PointData.date >= date(2020, 1, 31))\n",
    "qry_feb1 = qry_feb1.filter(PointData.date <= date(2020, 2, 2))\n",
    "df_feb_1 = query_to_geopandas(qry_feb1, engine)\n",
    "\n",
    "# Get depths from second flight date\n",
    "qry_feb12 = qry.filter(PointData.date >= date(2020, 2, 11))\n",
    "qry_feb12 = qry_feb12.filter(PointData.date <= date(2020, 2, 13))\n",
    "df_feb_12 = query_to_geopandas(qry_feb12, engine)\n",
    "\n",
    "# Get depths that were captured on both days\n",
    "df_both = df_feb_1.overlay(df_feb_12, how = 'intersection')\n",
    "\n",
    "# Convert crs to match our uavsar images\n",
    "df_both = df_both.to_crs(epsg = 4326)\n",
    "\n",
    "# Calculate the snow depth change for each point\n",
    "df_both['sd_diff'] = df_both.value_2 - df_both.value_1"
   ]
  },
  {
   "cell_type": "code",
   "execution_count": null,
   "metadata": {},
   "outputs": [],
   "source": [
    "fig, ax = plt.subplots(figsize = (12,4))\n",
    "\n",
    "# Plot depth measurements\n",
    "df_both.plot(ax = ax, column = 'sd_diff', legend = True, legend_kwds = {'label': 'Snow Depth Change [cm]'}, cmap = 'magma')\n",
    "\n",
    "# Plot the snotel location\n",
    "snotel_coords = (-108.05, 39.05)\n",
    "ax.scatter(x = snotel_coords[0], y = snotel_coords[1], marker = 'x', color = 'black')\n",
    "\n",
    "# Plot bounding box of uavsar\n",
    "img = rxa.open_rasterio(join(data_dir, f'cor.tif'))\n",
    "uavsar_bounds = img.rio.bounds()\n",
    "x,y = box(*uavsar_bounds).exterior.xy\n",
    "ax.plot(x,y, color = 'blue')\n",
    "\n",
    "# Set same bounds as uavsar image plot\n",
    "ax.set_xlim(-108.28,-108)\n",
    "ax.set_ylim(38.98, 39.08)\n",
    "\n",
    "# Add background map\n",
    "cx.add_basemap(ax, crs=img.rio.crs, alpha = 0.8, source = cx.providers.USGS.USImageryTopo)\n",
    "plt.title('Database Snow Depth Measurements')\n",
    "plt.show()"
   ]
  },
  {
   "cell_type": "markdown",
   "metadata": {},
   "source": [
    "## Getting the remaining parameters\n",
    "\n",
    "### Incidence Angle\n",
    "\n",
    "We can recall the formula to calculate snow depth change from incidence angle, phase change, and the snow permittivity. \n",
    "\n",
    "$$\n",
    "\\Delta d = - \\frac{\\Delta \\phi \\lambda}{4 \\pi} \\frac{1}{\\cos^{ } \\alpha - \\sqrt{\\epsilon_{s} - \\sin^{2} \\alpha}}\n",
    "$$\n",
    "\n",
    "We have two of these variables already: incidence angle and phase change."
   ]
  },
  {
   "cell_type": "code",
   "execution_count": null,
   "metadata": {},
   "outputs": [],
   "source": [
    "# Create figures and subplots\n",
    "fig, axes = plt.subplots(2, 1, figsize = (12,8))\n",
    "\n",
    "# Select colormap for each image type\n",
    "vis_dic = {'inc': 'Greys', 'unw':'magma'}\n",
    "\n",
    "# Loop through each image type\n",
    "for i, type in enumerate(vis_dic.keys()):\n",
    "    ax = axes[i]\n",
    "    # Open image with rioxarray\n",
    "    img = rxa.open_rasterio(join(data_dir, f'{type}.tif'))\n",
    "    # convert incidence angle from radians to degrees\n",
    "    if type == 'inc':\n",
    "        img = np.rad2deg(img)\n",
    "    # this is a great convenience feature to calculate good visualization levels\n",
    "    vmin, vmax = img.quantile([0.1,0.9])\n",
    "    # plot the image\n",
    "    im = img.plot(ax = ax, vmin = vmin, vmax = vmax, cmap = vis_dic[type], zorder = 1, alpha = 0.7)\n",
    "    # Zoom out a big\n",
    "    ax.set_xlim(-108.28,-108)\n",
    "    ax.set_ylim(38.98, 39.08)\n",
    "    # Add a topo basemap\n",
    "    cx.add_basemap(ax, crs=img.rio.crs, alpha = 0.8, source = cx.providers.USGS.USTopo)\n",
    "    # Remove unnecessary 'x' 'y' labels\n",
    "    ax.xaxis.label.set_visible(False)\n",
    "    ax.yaxis.label.set_visible(False)\n",
    "\n",
    "# Add titles\n",
    "axes[0].set_title('Incidence Angle')\n",
    "axes[1].set_title('Unwrapped Phase Change')\n",
    "plt.show()"
   ]
  },
  {
   "cell_type": "markdown",
   "metadata": {},
   "source": [
    "### Getting Permittivity\n",
    "\n",
    "We have two ways of getting the $e_{s}$, or the real part of the snow's dielectric permittivity. One is by estimating from the snow density. For dry snow we can estimate the permittivity using the density. There are a number of equations for calculating this value, but we will use the equation from [Guneriussen et al. 2001](https://ieeexplore.ieee.org/document/957273):\n",
    "\n",
    "$$\n",
    "e_{s} = 1 + 0.0016 \\rho + 1.8 1\\mathrm{e}{-9} \\rho^{3}\n",
    "$$\n",
    "\n",
    "where $e_{s}$ is the real part of the snow's dielectric permittivity and $\\rho$ is the density of the new snow accumulated between the two images in $\\frac{kg}{m^{3}}$.\n",
    "\n",
    "The other method is to use the directly measured values for permittivity from the field and averaging the top layer."
   ]
  },
  {
   "cell_type": "code",
   "execution_count": null,
   "metadata": {},
   "outputs": [],
   "source": [
    "# Its convenient to store a query like the following \n",
    "qry = session.query(LayerData)\n",
    "\n",
    "# Then filter on it first date. We are gonna get one day either side of second flight date\n",
    "qry = qry.filter(LayerData.date >= date(2020, 1, 31))\n",
    "qry = qry.filter(LayerData.date <= date(2020, 2, 2))\n",
    "qry = qry.filter(LayerData.site_name == 'Grand Mesa')\n",
    "# Filter to snow density\n",
    "qry_p = qry.filter(LayerData.type == 'density')\n",
    "# Change the qry to a geopandas dataframe\n",
    "df = query_to_geopandas(qry_p, engine)\n",
    "# create a list to hold the density values\n",
    "p_values = []\n",
    "# Loop through each snowpit (each unique site-id is a snowpit) \n",
    "for id in np.unique(df.site_id):\n",
    "    sub = df[df.site_id == id]\n",
    "    # get the density for the top layer identified in each snowpit\n",
    "    p = float(sub.sort_values(by = 'depth', ascending = False).iloc[0]['value'])\n",
    "    # add it our list\n",
    "    p_values.append(p)\n",
    "# calculate the mean density of the top layer for each snowpit\n",
    "mean_new_density = np.nanmean(p_values)\n",
    "# Use our equation above to estimate our new snow permittivity\n",
    "es_estimate = 1 + 0.0016*mean_new_density + 1.8e-09*mean_new_density**3\n",
    "\n",
    "## We can also use snowpits where permittivity was directly observed to compare to\n",
    "# our density estimates\n",
    "qry = qry.filter(LayerData.type == 'permittivity')\n",
    "df = query_to_geopandas(qry, engine)\n",
    "es_values = []\n",
    "for id in np.unique(df.site_id):\n",
    "    sub = df[df.site_id == id]\n",
    "    es_str = sub.sort_values(by = 'depth', ascending = False).iloc[0]['value']\n",
    "    if es_str != None:\n",
    "        es = float(es_str)\n",
    "        if es != None:\n",
    "            es_values.append(es)\n",
    "es_measured = np.nanmean(es_values)\n",
    "\n",
    "print(f'New snow measured permittivity: {es_measured}. Permittivity from density: {es_estimate}')"
   ]
  },
  {
   "cell_type": "markdown",
   "metadata": {},
   "source": [
    "## Now we have a new snow permittivity (either from density or directly measured) and we can use that along with our unwrapped phase to calculate the Uavsar snow depth change.\n",
    "\n",
    "Take a moment to code up the formula for snow depth change from phase and incidence angle:\n",
    "\n",
    "\n",
    "$$\n",
    "\\Delta d = - \\frac{\\Delta \\phi \\lambda}{4 \\pi} \\frac{1}{\\cos^{ } \\alpha - \\sqrt{\\epsilon_{s} - \\sin^{2} \\alpha}}\n",
    "$$\n",
    "\n",
    "Where $\\Delta$ d is the change in snow height, $\\Delta \\phi$ is the phase shift between two SAR images, $\\lambda$ is the radar wavelength, $\\alpha$ is the incidence angle, and $\\epsilon_{s}$ is the dielectric constant of snow which is dependent on the density and liquid water content."
   ]
  },
  {
   "cell_type": "code",
   "execution_count": null,
   "metadata": {},
   "outputs": [],
   "source": [
    "# Open up our two rasters (unwrapped phase and incidence angle)\n",
    "unw = rxa.open_rasterio(join(data_dir, f'unw.tif'))\n",
    "inc = rxa.open_rasterio(join(data_dir, f'inc.tif'))\n",
    "\n",
    "# This uses the pytool's function to directly give you snow depth change\n",
    "# feel free to rerun with this to check your results\n",
    "# https://github.com/SnowEx/uavsar_pytools/blob/main/uavsar_pytools/snow_depth_inversion.py\n",
    "sd_change = depth_from_phase(unw, inc, density = mean_new_density)\n",
    "\n",
    "# convert to centimeters from meters\n",
    "sd_change = sd_change*100"
   ]
  },
  {
   "cell_type": "code",
   "execution_count": null,
   "metadata": {},
   "outputs": [],
   "source": [
    "# Now we can plot the results!\n",
    "f, ax = plt.subplots(figsize = (12,8))\n",
    "\n",
    "# Plot our uavsar snow depth change\n",
    "sd_change.plot(ax = ax, cmap = 'Blues', vmin = -10, vmax = 10)\n",
    "# plot black shadow for field observations\n",
    "df_both.plot(ax = ax, color = 'black', markersize = 90)\n",
    "# plot field observed snow depth difference\n",
    "df_both.plot(ax = ax, column = 'sd_diff', legend = True, cmap = 'Blues', vmin = -10, vmax = 10)\n",
    "# add snotel coordinates\n",
    "ax.scatter(x = snotel_coords[0], y = snotel_coords[1], marker = 'x', color = 'black')\n",
    "# turn off labels\n",
    "ax.xaxis.label.set_visible(False)\n",
    "ax.yaxis.label.set_visible(False)\n",
    "# set title\n",
    "ax.set_title('Uavsar Snow Depth Inversion vs Field Observations')\n",
    "\n",
    "## Uncomment this to zoom in on the measured results\n",
    "# ax.set_xlim(-108.14, -108.23)\n",
    "# ax.set_ylim(39, 39.05)\n",
    "\n",
    "plt.show()"
   ]
  },
  {
   "cell_type": "markdown",
   "metadata": {},
   "source": [
    "## Numerical Comparison\n",
    "\n",
    "We can now extract the snow depth change at each measured point and compare them\n",
    "to the pit values of snow depth change."
   ]
  },
  {
   "cell_type": "code",
   "execution_count": null,
   "metadata": {},
   "outputs": [],
   "source": [
    "# We are going to save our results from rioxarray to a tiff\n",
    "sd_change_fp = join(data_dir,'gm_phase_dz.tif')\n",
    "sd_change.rio.to_raster(sd_change_fp)\n",
    "with rio.open(sd_change_fp) as src:\n",
    "    coord_list = [(x,y) for x,y in zip(df_both['geometry'].x , df_both['geometry'].y)]\n",
    "    df_both['uavsar_sd'] = [x[0] for x in src.sample(coord_list)]\n",
    "\n",
    "f, ax = plt.subplots(figsize = (12,8))\n",
    "df_both['geometry-str'] = df_both['geometry'].astype(str)\n",
    "df_dis = df_both.dissolve('geometry-str', aggfunc = 'mean')\n",
    "field_sd_std = df_both.dissolve('geometry-str', aggfunc = 'std')['sd_diff'].values\n",
    "ax.errorbar(x = df_dis.uavsar_sd, y = df_dis.sd_diff, yerr = field_sd_std, fmt=\"o\")\n",
    "\n",
    "lims = [\n",
    "    np.min([ax.get_xlim(), ax.get_ylim()]),  # min of both axes\n",
    "    np.max([ax.get_xlim(), ax.get_ylim()]),  # max of both axes\n",
    "]\n",
    "def rmse(predictions, targets):\n",
    "    return np.sqrt(((predictions - targets) ** 2).mean())\n",
    "rmse_sd = rmse(df_both['sd_diff'], df_both['uavsar_sd'])\n",
    "print(f'RMSE between uavsar and field observations is {rmse_sd} cm')\n",
    "\n",
    "# now plot both limits against each other\n",
    "ax.plot(lims, lims, 'k-', alpha=0.75, zorder=0)\n",
    "ax.set_aspect('equal')\n",
    "ax.set_xlim(lims)\n",
    "ax.set_ylim(lims)\n",
    "ax.set_xlabel('Uavsar Snow Depth Change')\n",
    "ax.set_ylabel('Field Measured Snow Depth Change')\n",
    "plt.show()"
   ]
  },
  {
   "cell_type": "markdown",
   "metadata": {},
   "source": [
    "## Comparison to Lidar"
   ]
  },
  {
   "cell_type": "code",
   "execution_count": null,
   "metadata": {},
   "outputs": [],
   "source": [
    "# Create figures and subplots\n",
    "fig, axes = plt.subplots(3, 1, figsize = (12,8))\n",
    "\n",
    "lidar = rxa.open_rasterio(join(data_dir, 'sd_lidar.tif'))\n",
    "\n",
    "diff = lidar.copy()\n",
    "diff = diff - sd_change\n",
    "\n",
    "vmin, vmax = sd_change.quantile([0.1,0.9])\n",
    "sd_change_masked = sd_change.copy()\n",
    "sd_change_masked.data[np.isnan(lidar).data] = np.nan\n",
    "sd_change_masked.plot(ax = axes[0], vmin = vmin, vmax = vmax, cmap = 'Blues', zorder = 1, alpha = 0.7)\n",
    "lidar.plot(ax = axes[1], vmin = vmin, vmax = vmax, cmap = 'Blues', zorder = 1, alpha = 0.7)\n",
    "diff.plot(ax = axes[2], vmin = vmin, vmax = vmax, cmap = 'Blues', zorder = 1, alpha = 0.7)\n",
    "\n",
    "for ax in axes:\n",
    "    ax.xaxis.set_visible(False)\n",
    "    ax.yaxis.set_visible(False)\n",
    "\n",
    "axes[0].set_title('Uavsar Snow Depth Change')\n",
    "axes[1].set_title('Lidar Snow Depth Change')\n",
    "axes[2].set_title('Snow Depth Difference')\n",
    "plt.tight_layout()\n",
    "plt.show()"
   ]
  },
  {
   "cell_type": "code",
   "execution_count": null,
   "metadata": {},
   "outputs": [],
   "source": [
    "plt.figure(figsize = (12,8))\n",
    "diffs = diff.values.ravel()\n",
    "diffs = diffs[diffs < 100]\n",
    "diffs = diffs[diffs > -100]\n",
    "plt.hist(diffs, bins = 100, density = True, label = 'Uavsar sd change')\n",
    "# plt.axvline(sd_change_masked.mean().values, label = 'Uavsar Mean Snow Depth Change', color = 'green')\n",
    "lidar_vals = lidar.astype(np.float64).values[~lidar.isnull().values]\n",
    "lidar_vals = lidar_vals[lidar_vals < 100]\n",
    "lidar_vals = lidar_vals[lidar_vals > -100]\n",
    "mean_lidar = np.nanmean(lidar_vals)\n",
    "plt.axvline(mean_lidar, color = 'red', linewidth = 5, label = 'mean lidar sd change')\n",
    "# plt.axvline(mean_lidar, label = 'Lidar Mean Snow Depth Change', color = 'red')\n",
    "rmse = np.sqrt(((diffs) ** 2).mean())\n",
    "print(f'Lidar mean depth change: {sd_change_masked.mean().values} cm, uavsar mean depth change: {mean_lidar} cm')\n",
    "print(f'Mean difference: {np.nanmean(diffs)} cm, rmse = {rmse} cm')\n",
    "plt.legend(loc = 'lower left')\n",
    "plt.xlabel('Snow Depth Change (cm)')\n",
    "plt.show()"
   ]
  },
  {
   "cell_type": "markdown",
   "metadata": {},
   "source": [
    "## Interactive Comparison\n",
    "\n",
    "Examine some around Grand Mesa. Where is the uavsar doing a good job of identifying snow depth changes, where is it doing worse? Why do you think these areas are different?\n",
    "\n",
    "Some terrain features to explore:\n",
    "- steep rolls overs\n",
    "- different aspects (follow the edge of the mesa to see at E, W, S)\n",
    "- roads\n",
    "- lakes\n",
    "- areas with snow drifting vs snow scouring"
   ]
  },
  {
   "cell_type": "code",
   "execution_count": null,
   "metadata": {},
   "outputs": [],
   "source": [
    "lidar = rxa.open_rasterio(join(data_dir, 'sd_lidar.tif'))\n",
    "lidar.name = 'lidar'\n",
    "\n",
    "sd_change_masked = sd_change.copy()\n",
    "sd_change_masked.data[np.isnan(lidar).data] = np.nan\n",
    "sd_change_masked.name = 'UAVSAR SD change'\n",
    "\n",
    "cor = rxa.open_rasterio(join(data_dir, f'cor.tif'))\n",
    "cor.name = 'coherence'\n",
    "\n",
    "tiles = hv.element.tiles.EsriUSATopo().opts()\n",
    "\n",
    "n = 5 # decimate lidar by a factor of 5\n",
    "uavsar = hv.Image(hv.Dataset(sd_change_masked.rio.reproject('EPSG:3857')[0,::1,::1], kdims=['x','y'])).opts(cmap = 'Blues', colorbar=False, xaxis = None, yaxis = None, title = 'Uavsar SD Change', clim = (-10, 10))\n",
    "lidar_img = hv.Image(hv.Dataset(lidar.rio.reproject('EPSG:3857')[0,::n,::n], kdims=['x','y'])).opts(cmap = 'Blues', colorbar=True, xaxis = None, yaxis = None, title= 'Lidar SD Change', clim = (-10, 10))\n",
    "cor = hv.Image(hv.Dataset(cor.rio.reproject('EPSG:3857')[0,::n,::n], kdims=['x','y'])).opts(cmap = 'Greys', colorbar=True, xaxis = None, yaxis = None, title= 'Coherence', clim = (0, 1))\n",
    "uv_tile = tiles  * uavsar\n",
    "lidar_tile = tiles  * lidar_img\n",
    "cor_tile = tiles * cor\n",
    "topo = tiles* hv.Image(hv.Dataset(lidar.rio.reproject('EPSG:3857')[0,::n,::n], kdims=['x','y'])).opts(alpha = 0, title= 'Topo', colorbar = False, xaxis = None, yaxis = None)\n",
    "\n",
    "hv.Layout([uv_tile, lidar_tile, cor_tile, topo]).opts(width = 1000, height = 900)"
   ]
  }
 ],
 "metadata": {
  "kernelspec": {
   "display_name": "Python 3 (ipykernel)",
   "language": "python",
   "name": "python3"
  },
  "language_info": {
   "codemirror_mode": {
    "name": "ipython",
    "version": 3
   },
   "file_extension": ".py",
   "mimetype": "text/x-python",
   "name": "python",
   "nbconvert_exporter": "python",
   "pygments_lexer": "ipython3",
   "version": "3.10.5"
  },
  "vscode": {
   "interpreter": {
    "hash": "485426853efb45fbcac7604c62a774e4eca2d162588db5a3cdf8fcb52b528869"
   }
  }
 },
 "nbformat": 4,
 "nbformat_minor": 4
}
