{
 "cells": [
  {
   "cell_type": "markdown",
   "metadata": {},
   "source": [
    "# UAVSAR Data Products\n",
    "\n",
    "UAVSAR has a variety of different type of images:\n",
    "\n",
    "[Repeat Pass Interferometric](https://uavsar.jpl.nasa.gov/science/documents/rpi-format.html) images contain:\n",
    "```{admonition} InSAR Data Types\n",
    ":class: InSAR Data Types\n",
    "- ANN file (.ann): a text annotation file with metadata\n",
    "- AMP files (.amp1 and .amp2): amplitude products for flight 1 and flight 2\n",
    "- COR files (.cor): coherence a measure of the noise level of the phase\n",
    "- INT files (.int): wrapped phase difference between the two images\n",
    "- UNW files (.unw): unwrapped phase difference between the two images\n",
    "- INC files (.inc): incidence angle in radians\n",
    "- HGT file  (.hgt): the DEM that was used in the InSAR processing\n",
    "```\n",
    "\n",
    "UAVSAR repeat pass interferometry uses two images of the same place but separated in time. Phase changes between the two aquistions are calculated,  creating a wrapped interferogram. These phase changes are due to either the wave traveling a longer distance (ground movement or refraction) or change wave speeds (atmospheric water vapor and snow).\n",
    "\n",
    "- GRD files (.grd): products projected to the ground in geographic coordinates (latitude, longitude)\n",
    "Finally all images can be in radar slant range or projected into WGS84. Images that have already been projected to ground range will have the extension .grd appended to their file type extension. \n",
    "\n",
    "For instance a image of unwrapped phase that has not been georefenced would end with .unw, while one that was georeferenced would end with .unw.grd. You will generally want to use .grd files for most analysis.\n",
    "\n",
    "\n",
    "[Polarimetric PolSAR](https://uavsar.jpl.nasa.gov/science/documents/polsar-format.html) images contain:\n",
    "- ANN file (.ann): a text annotation file with metadata\n",
    "- Polsar file (_HHVV_.grd): all the rest of the files will be a pair of polarizations pushed together\n",
    "\n",
    "Polsar files have a pair of polarizations (VV, VH, HV, HH) combined in their file name. These files are the phase difference between polarization XX and polarization YY. For instance HHHV is the phase difference between HH and HV polarizations. HVVV is the phase difference between HV and VV and so one. There are 6 of these pairs since order is irrelevant. These 6 images are combined to calculate various metrics that tell you about the types of scattering occurring."
   ]
  },
  {
   "cell_type": "markdown",
   "metadata": {},
   "source": [
    "## Import Libraries"
   ]
  },
  {
   "cell_type": "code",
   "execution_count": null,
   "metadata": {},
   "outputs": [],
   "source": [
    "try:\n",
    "    from uavsar_pytools import UavsarScene\n",
    "except ModuleNotFoundError:\n",
    "    print('Install uavsar_pytools with `pip install uavsar_pytools`')\n",
    "\n",
    "import os\n",
    "from os.path import join, basename\n",
    "import matplotlib.pyplot as plt\n",
    "from glob import glob\n",
    "import numpy as np\n",
    "import pandas as pd\n",
    "import seaborn as sns\n",
    "import holoviews as hv\n",
    "import rioxarray as rxa\n",
    "from bokeh.plotting import show\n",
    "import datashader as ds\n",
    "from datashader.mpl_ext import dsshow\n",
    "hv.extension('bokeh', logo=False)\n",
    "import earthpy.plot as ep\n",
    "import earthpy.spatial as es"
   ]
  },
  {
   "cell_type": "markdown",
   "metadata": {},
   "source": [
    "## Interferometric Imagery"
   ]
  },
  {
   "cell_type": "markdown",
   "metadata": {},
   "source": [
    "### Banner Summit"
   ]
  },
  {
   "cell_type": "markdown",
   "metadata": {},
   "source": [
    "In this section we'll be plotting and comparing dirrerent types of SAR and InSAR data with optical imagery and a digital elevation model. For this example we'll be taking a subet of the Lowman flight (Boise, ID) line encompassing Banner Summit.\n",
    "\n",
    "\n",
    ":::{figure-md} lowman\n",
    "<img src=\"../../img/lowman_map.png\" width=\"50%\" style=\"background-color:white;\">\n",
    "\n",
    "Map of Lowman UAVSAR swath\n",
    ":::"
   ]
  },
  {
   "cell_type": "code",
   "execution_count": null,
   "metadata": {},
   "outputs": [],
   "source": [
    "# clone tifs to tmp directory\n",
    "os.chdir('/tmp/')\n",
    "!git clone https://github.com/SnowEx/uavsar-tutorial-data.git"
   ]
  },
  {
   "cell_type": "code",
   "execution_count": null,
   "metadata": {},
   "outputs": [],
   "source": [
    "# list files downloaded\n",
    "data_dir = '/tmp/uavsar-tutorial-data/'\n",
    "os.chdir(data_dir)\n",
    "! ls -l"
   ]
  },
  {
   "cell_type": "markdown",
   "metadata": {},
   "source": [
    "# Load in Rasters\n",
    "Here we'll load our rasters into the environemtns using ```rioxarray``` or ```rxa```, we will then convert to a ```np.array``` to be able to use ```matplotlib.pyplot``` or ```plt``` for plotting"
   ]
  },
  {
   "cell_type": "markdown",
   "metadata": {},
   "source": [
    "## Optical Data\n",
    "\n",
    "We will be using [Haromized Landsat Sentinel (HLS)](https://hls.gsfc.nasa.gov/) dataset from January 13th, 2021. This date was selected because it is mostly cloud free, which is uncommon in mountain environments during the winter."
   ]
  },
  {
   "cell_type": "code",
   "execution_count": null,
   "metadata": {},
   "outputs": [],
   "source": [
    "# define paths to the three RGB bands\n",
    "red_path = 'lowman_red.tif'\n",
    "green_path = 'lowman_green.tif'\n",
    "blue_path = 'lowman_blue.tif'\n",
    "stack_band_paths = (red_path,green_path,blue_path)\n",
    "stack_band_paths"
   ]
  },
  {
   "cell_type": "code",
   "execution_count": null,
   "metadata": {},
   "outputs": [],
   "source": [
    "# path to stacked raster\n",
    "raster_out_path = \"lowman_rgb.tif\""
   ]
  },
  {
   "cell_type": "markdown",
   "metadata": {},
   "source": [
    "Using ```earthpy.spatial.stack``` or ```es.stack```, stack the three bands for plotting."
   ]
  },
  {
   "cell_type": "code",
   "execution_count": null,
   "metadata": {},
   "outputs": [],
   "source": [
    "# using earphy.spatial stack\n",
    "stack = es.stack(stack_band_paths, out_path=raster_out_path)"
   ]
  },
  {
   "cell_type": "code",
   "execution_count": null,
   "metadata": {},
   "outputs": [],
   "source": [
    "# load in stack using rioxarray\n",
    "rgb = rxa.open_rasterio(raster_out_path)"
   ]
  },
  {
   "cell_type": "markdown",
   "metadata": {},
   "source": [
    "# What do we see in this image? Any notable features?"
   ]
  },
  {
   "cell_type": "code",
   "execution_count": null,
   "metadata": {},
   "outputs": [],
   "source": [
    "# plot rgb image\n",
    "ep.plot_rgb(rgb.values,\n",
    "            figsize=(15, 15),\n",
    "            rgb = [0,1,2], # plot the red, green, and blue bands in that order\n",
    "            title = \"HLS Optical 2/18/2021\", \n",
    "            stretch=True)\n",
    "plt.show()"
   ]
  },
  {
   "cell_type": "markdown",
   "metadata": {},
   "source": [
    "## InSAR and SAR Data\n",
    "\n",
    "Here we'll be using five different data products related to InSAR and SAR: unwrapped phase (```unw```), coherence (```cor```), amplitude (```amp```), elevation (```dem```), and incidence angle (```inc```)."
   ]
  },
  {
   "cell_type": "code",
   "execution_count": null,
   "metadata": {},
   "outputs": [],
   "source": [
    "# open raster and inspect meta data using xarray\n",
    "unw_rast  = rxa.open_rasterio('lowman_unw.tif')\n",
    "unw = unw_rast[0].values # np.array for plotting\n",
    "    \n",
    "# coherence\n",
    "cor_rast  = rxa.open_rasterio('lowman_cor.tif')\n",
    "cor = cor_rast[0].values\n",
    "\n",
    "# amplitude\n",
    "amp_rast  = rxa.open_rasterio('lowman_amb_db.tif')\n",
    "amp = amp_rast[0].values # np.array for plotting\n",
    "\n",
    "# dem\n",
    "dem_rast  = rxa.open_rasterio('lowman_dem.tif')\n",
    "dem = dem_rast[0].values\n",
    "\n",
    "# incidence angle\n",
    "inc_rast  = rxa.open_rasterio('lowman_inc_deg.tif')\n",
    "inc = inc_rast[0].values # np.array for plotting"
   ]
  },
  {
   "cell_type": "code",
   "execution_count": null,
   "metadata": {},
   "outputs": [],
   "source": [
    "# plot unwrapped phase\n",
    "\n",
    "plt.rcParams.update({'font.size': 12}) # increase plot font size for larger plot\n",
    "fig, ax = plt.subplots(figsize=(15, 15))\n",
    "\n",
    "ax.set_title(\"UNW (radians)\", fontsize= 20) #title and font size\n",
    "img = ax.imshow(unw, interpolation = 'nearest', cmap = 'viridis', vmin = -3, vmax = 2)\n",
    "\n",
    "# add legend\n",
    "colorbar = fig.colorbar(img, ax=ax, fraction=0.03, pad=0.04) # add color bar\n",
    "plt.show()"
   ]
  },
  {
   "cell_type": "code",
   "execution_count": null,
   "metadata": {},
   "outputs": [],
   "source": [
    "# plot coherence\n",
    "\n",
    "plt.rcParams.update({'font.size': 12}) # increase plot font size for larger plot\n",
    "fig, ax = plt.subplots(figsize=(15, 15))\n",
    "\n",
    "ax.set_title(\"Coherence\", fontsize= 20) #title and font size\n",
    "img = ax.imshow(cor, cmap = 'magma', vmin = 0, vmax = 1)\n",
    "\n",
    "# add legend\n",
    "colorbar = fig.colorbar(img, ax=ax, fraction=0.03, pad=0.04) # add color bar\n",
    "plt.show()"
   ]
  },
  {
   "cell_type": "code",
   "execution_count": null,
   "metadata": {},
   "outputs": [],
   "source": [
    "# plot amplitude\n",
    "\n",
    "plt.rcParams.update({'font.size': 12}) # increase plot font size for larger plot\n",
    "fig, ax = plt.subplots(figsize=(15, 15))\n",
    "\n",
    "ax.set_title(\"Amplitude (dB)\", fontsize= 20) #title and font size\n",
    "img = ax.imshow(amp, cmap = 'Greys_r', vmin = -20, vmax = 0)\n",
    "\n",
    "# add legend\n",
    "colorbar = fig.colorbar(img, ax=ax, fraction=0.03, pad=0.04) # add color bar\n",
    "plt.show()"
   ]
  },
  {
   "cell_type": "code",
   "execution_count": null,
   "metadata": {},
   "outputs": [],
   "source": [
    "# plot dem\n",
    "\n",
    "plt.rcParams.update({'font.size': 12}) # increase plot font size for larger plot\n",
    "fig, ax = plt.subplots(figsize=(15, 15))\n",
    "\n",
    "ax.set_title(\"Elevation (m)\", fontsize= 20) #title and font size\n",
    "img = ax.imshow(dem, cmap = 'terrain', vmin = 1800, vmax = 2800)\n",
    "\n",
    "# add legend\n",
    "colorbar = fig.colorbar(img, ax=ax, fraction=0.03, pad=0.04) # add color bar\n",
    "plt.show()"
   ]
  },
  {
   "cell_type": "code",
   "execution_count": null,
   "metadata": {},
   "outputs": [],
   "source": [
    "# plot incidence angle\n",
    "\n",
    "plt.rcParams.update({'font.size': 12}) # increase plot font size for larger plot\n",
    "fig, ax = plt.subplots(figsize=(15, 15))\n",
    "\n",
    "ax.set_title(\"Incidence Angle (deg)\", fontsize= 20) #title and font size\n",
    "img = ax.imshow(inc, cmap = 'Spectral_r', vmin = 20, vmax = 90)\n",
    "\n",
    "# add legend\n",
    "colorbar = fig.colorbar(img, ax=ax, fraction=0.03, pad=0.04) # add color bar\n",
    "plt.show()"
   ]
  },
  {
   "cell_type": "markdown",
   "metadata": {},
   "source": [
    "## Comparison Plot"
   ]
  },
  {
   "cell_type": "code",
   "execution_count": null,
   "metadata": {},
   "outputs": [],
   "source": [
    "# plot all InSAR products\n",
    "fig = plt.figure(figsize=(30,19))\n",
    "\n",
    "ax = fig.add_subplot(1,3,1)\n",
    "cax=ax.imshow(unw, cmap='viridis', interpolation = 'nearest', vmin = -3, vmax = 2)\n",
    "ax.set_title(\"UNW (radians)\")\n",
    "#ax.set_axis_off()\n",
    "cbar = fig.colorbar(cax, ticks=[-3,0,2],orientation='horizontal', fraction=0.03, pad=0.04)\n",
    "cbar.ax.set_xticklabels([-3,0,2])\n",
    "\n",
    "ax = fig.add_subplot(1,3,2)\n",
    "cax = ax.imshow(cor, cmap = 'magma', vmin = 0, vmax = 1)\n",
    "ax.set_title(\"Coherence\")\n",
    "#ax.set_axis_off()\n",
    "cbar = fig.colorbar(cax, ticks=[0,.5,1], orientation='horizontal',fraction=0.03, pad=0.04)\n",
    "\n",
    "\n",
    "ax = fig.add_subplot(1,3,3)\n",
    "cax = ax.imshow(amp, cmap = 'Greys_r', vmin = -20, vmax = 0)\n",
    "ax.set_title(\"Amplitude (dB)\")\n",
    "#ax.set_axis_off()\n",
    "cbar = fig.colorbar(cax, ticks=[-20,-10,0], orientation='horizontal',fraction=0.03, pad=0.04)\n",
    "cbar.ax.set_xticklabels([-20,-10,0])\n",
    "\n",
    "ax = fig.add_subplot(2,3,1)\n",
    "cax = ax.imshow(inc, cmap = 'Spectral_r', vmin = 20, vmax = 90)\n",
    "ax.set_title(\"Incidence Angle (deg)\")\n",
    "#ax.set_axis_off()\n",
    "cbar = fig.colorbar(cax, ticks=[20,90], orientation='horizontal', pad=0.07)\n",
    "cbar.ax.set_xticklabels([20,90])\n",
    "\n",
    "ax = fig.add_subplot(2,3,2)\n",
    "cax = ax.imshow(dem, cmap = 'terrain', vmin = 1800, vmax = 2800)\n",
    "ax.set_title(\"Elevation (m)\")\n",
    "#ax.set_axis_off()\n",
    "cbar = fig.colorbar(cax, ticks=[1800,2800], orientation='horizontal', pad=0.07)\n",
    "cbar.ax.set_xticklabels([1800,2800])\n",
    "\n",
    "done = None"
   ]
  },
  {
   "cell_type": "code",
   "execution_count": null,
   "metadata": {},
   "outputs": [],
   "source": [
    "ep.plot_rgb(rgb.values,\n",
    "            figsize=(7, 7),\n",
    "            rgb = [0,1,2], # plot the red, green, and blue bands in that order\n",
    "            title = \"HLS Optical 2/18/2021\", \n",
    "            stretch=True)\n",
    "plt.show()"
   ]
  },
  {
   "cell_type": "markdown",
   "metadata": {},
   "source": [
    "## What are some notable similarities between images? Differences?\n",
    "\n",
    "In the next section we'll go into more detail about the features that impact coherence, phase, and how they're related"
   ]
  },
  {
   "cell_type": "markdown",
   "metadata": {},
   "source": [
    "## Sagehen Creek Example"
   ]
  },
  {
   "cell_type": "code",
   "execution_count": null,
   "metadata": {},
   "outputs": [],
   "source": [
    "donner_dir = join(data_dir, 'sage')\n",
    "# donner_dir = os.path.expanduser('~/Downloads/sage2')\n",
    "imgs ={}\n",
    "for fp in glob(join(donner_dir, '*.tif')):\n",
    "    name = basename(fp).split('.')[0]\n",
    "    imgs[name] = rxa.open_rasterio(fp, parse_coordinates=True, default_name = name)"
   ]
  },
  {
   "cell_type": "markdown",
   "metadata": {},
   "source": [
    "## What topographic features seem to impact coherence?\n",
    "\n",
    "Take a moment to chat with the people around you about this. Some features to get you thinking:\n",
    "\n",
    "- lakes\n",
    "- aspect (south vs north, east vs west)\n",
    "- elevation\n",
    "- trees\n",
    "- roads\n",
    "- others?"
   ]
  },
  {
   "cell_type": "code",
   "execution_count": null,
   "metadata": {},
   "outputs": [],
   "source": [
    "tiles = hv.element.tiles.EsriUSATopo().opts()\n",
    "cor = hv.Image(hv.Dataset(imgs['cor'], kdims=['x','y'])).opts(cmap = 'gray', colorbar=True, xaxis = None, yaxis = None, title = 'Coherence')\n",
    "hgt = hv.Image(hv.Dataset(imgs['hgt'], kdims=['x','y'])).opts(cmap = 'terrain', colorbar=True, xaxis = None, yaxis = None, title= 'DEM', alpha = 0.4)\n",
    "hgt_trans = hv.Image(hv.Dataset(imgs['hgt'][0,::100,::100], kdims=['x','y'])).opts(alpha = 0, xaxis = None, yaxis = None, title = 'Topo')\n",
    "cor_tile = tiles  * cor\n",
    "hgt_tile = tiles  * hgt\n",
    "imagery = hv.element.tiles.EsriImagery()  * hgt_trans\n",
    "\n",
    "hv.Layout([cor_tile, hgt_tile, imagery]).opts(width = 400, height = 900)"
   ]
  },
  {
   "cell_type": "code",
   "execution_count": null,
   "metadata": {},
   "outputs": [],
   "source": [
    "import seaborn as sns\n",
    "xna = imgs['hgt'].data.ravel()\n",
    "yna = imgs['cor'].data.ravel()\n",
    "x = xna[(~np.isnan(xna)) & (~np.isnan(yna))][::100]\n",
    "y = yna[(~np.isnan(xna)) & (~np.isnan(yna))][::100]\n",
    "\n",
    "df = pd.DataFrame(dict(x=x, y=y))\n",
    "df['x_cat'] = pd.qcut(df.x, q= 6, precision = 0)\n",
    "f, ax = plt.subplots(figsize = (12,8))\n",
    "sns.violinplot(y = df.y[::100], x = df.x_cat[::100], scale = 'count')\n",
    "plt.xlabel('Elevation Bands (m)')\n",
    "plt.ylabel('Coherence')"
   ]
  },
  {
   "cell_type": "markdown",
   "metadata": {},
   "source": [
    "## UNW vs. Coherence"
   ]
  },
  {
   "cell_type": "code",
   "execution_count": null,
   "metadata": {},
   "outputs": [],
   "source": [
    "tiles = hv.element.tiles.EsriUSATopo().opts()\n",
    "cor = hv.Image(hv.Dataset(imgs['cor'], kdims=['x','y'])).opts(cmap = 'gray', colorbar=True, xaxis = None, yaxis = None, title = 'Coherence')\n",
    "unw = hv.Image(hv.Dataset(imgs['unw'], kdims=['x','y'])).opts(cmap = 'magma', colorbar=True, xaxis = None, yaxis = None, title= 'Unwrapped Phase', clim = (0, 2*np.pi))\n",
    "cor_tile = tiles  * cor\n",
    "unw_tile = tiles  * unw\n",
    "\n",
    "hv.Layout([cor_tile, unw_tile]).opts(width = 400, height = 900)"
   ]
  }
 ],
 "metadata": {
  "kernelspec": {
   "display_name": "Python 3 (ipykernel)",
   "language": "python",
   "name": "python3"
  },
  "language_info": {
   "codemirror_mode": {
    "name": "ipython",
    "version": 3
   },
   "file_extension": ".py",
   "mimetype": "text/x-python",
   "name": "python",
   "nbconvert_exporter": "python",
   "pygments_lexer": "ipython3"
  },
  "vscode": {
   "interpreter": {
    "hash": "485426853efb45fbcac7604c62a774e4eca2d162588db5a3cdf8fcb52b528869"
   }
  }
 },
 "nbformat": 4,
 "nbformat_minor": 4
}
