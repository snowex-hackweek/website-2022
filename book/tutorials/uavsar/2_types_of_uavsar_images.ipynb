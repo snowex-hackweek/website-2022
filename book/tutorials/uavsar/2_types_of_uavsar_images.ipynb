{
 "cells": [
  {
   "cell_type": "markdown",
   "metadata": {},
   "source": [
    "# Uavsar Data Products\n",
    "\n",
    "Uavsar has a variety of different type of images:\n",
    "\n",
    "[Repeat Pass Interferometric](https://uavsar.jpl.nasa.gov/science/documents/rpi-format.html) images contain:\n",
    "```{admonition} InSAR Data Types\n",
    ":class: InSAR Data Types\n",
    "- ANN file (.ann): a text annotation file with metadata\n",
    "- AMP files (.amp1 and .amp2): amplitude products for flight 1 and flight 2\n",
    "- COR files (.cor): coherence a measure of the noise level of the phase\n",
    "- INT files (.int): wrapped phase difference between the two images\n",
    "- UNW files (.unw): unwrapped phase difference between the two images\n",
    "- INC files (.inc): incidence angle in radians\n",
    "- HGT file  (.hgt): the DEM that was used in the InSAR processing\n",
    "```\n",
    "\n",
    "Uavsar repeat pass interferometry uses two images of the same place but separated in time. It then uses the change in phase between the first image and the second to infer changes that occurred in that scene between the two image passes. These phase changes are due to either the wave traveling a longer distance (ground movement or refraction) or change wave speeds (atmospheric water vapor and snow).\n",
    "\n",
    "[Polarimetric PolSAR](https://uavsar.jpl.nasa.gov/science/documents/polsar-format.html) images contain:\n",
    "- ANN file (.ann): a text annotation file with metadata\n",
    "- Polsar file (_HHVV_.grd): all the rest of the files will be a pair of polarizations pushed together\n",
    "\n",
    "Polsar files have a pair of polarizations (VV, VH, HV, HH) combined in their file name. These files are the phase difference between polarization XX and polarization YY. For instance HHHV is the phase difference between HH and HV polarizations. HVVV is the phase difference between HV and VV and so one. There are 6 of these pairs since order is irrelevant. These 6 images are combined to calculate various metrics that tell you about the types of scattering occurring.\n",
    "\n",
    "\n",
    "[Polarimetric PolSAR](https://uavsar.jpl.nasa.gov/science/documents/polsar-format.html)\n",
    "- GRD files (.grd): products projected to the ground in geographic coordinates (latitude, longitude)\n",
    "Finally all images can be in radar slant range or projected into WGS84. Images that have already been projected to ground range will have the extension .grd appended to their file type extension. \n",
    "\n",
    "For instance a image of unwrapped phase that has not been georefenced would end with .unw, while one that was georeferenced would end with .unw.grd. You will generally want to use .grd files for most analysis.\n"
   ]
  },
  {
   "cell_type": "markdown",
   "metadata": {},
   "source": [
    "### Import Libraries"
   ]
  },
  {
   "cell_type": "code",
   "execution_count": null,
   "metadata": {},
   "outputs": [],
   "source": [
    "try:\n",
    "    from uavsar_pytools import UavsarScene\n",
    "except ModuleNotFoundError:\n",
    "    print('Install uavsar_pytools with `pip install uavsar_pytools`')\n",
    "\n",
    "from os.path import join, basename\n",
    "import matplotlib.pyplot as plt\n",
    "from glob import glob\n",
    "import numpy as np\n",
    "import pandas as pd\n",
    "import seaborn as sns\n",
    "import holoviews as hv\n",
    "import rioxarray as rxa\n",
    "from bokeh.plotting import show\n",
    "import datashader as ds\n",
    "from datashader.mpl_ext import dsshow\n",
    "hv.extension('bokeh', logo=False)"
   ]
  },
  {
   "cell_type": "markdown",
   "metadata": {},
   "source": [
    "## Interferometric Imagery\n",
    "\n",
    "explanation of insar data types"
   ]
  },
  {
   "cell_type": "code",
   "execution_count": null,
   "metadata": {},
   "outputs": [],
   "source": [
    "donner_url = 'https://datapool.asf.alaska.edu/INTERFEROMETRY_GRD/UA/donner_03904_20002-003_20009-026_0019d_s01_L090_01_int_grd.zip'\n",
    "work_dir = '/tmp/slurm_tutorial/'"
   ]
  },
  {
   "cell_type": "code",
   "execution_count": null,
   "metadata": {},
   "outputs": [],
   "source": [
    "scene = UavsarScene(work_dir=work_dir, url = donner_url)\n",
    "scene.url_to_tiffs()"
   ]
  },
  {
   "cell_type": "code",
   "execution_count": null,
   "metadata": {},
   "outputs": [],
   "source": [
    "imgs ={}\n",
    "for i, fp in enumerate(glob(join(work_dir, basename(donner_url).split('.')[0], '*.tiff'))):\n",
    "    name = fp.split('.')[-3]\n",
    "    imgs[name] = rxa.open_rasterio(fp, parse_coordinates=True, default_name = name).rio.reproject('EPSG:3857')"
   ]
  },
  {
   "cell_type": "markdown",
   "metadata": {},
   "source": [
    "## What topographic features seem to impact coherence?\n",
    "\n",
    "Investigate with partner:\n",
    "- lakes\n",
    "- aspect (south vs north, east vs west)\n",
    "- elevation\n",
    "- trees\n",
    "- roads\n",
    "- others?"
   ]
  },
  {
   "cell_type": "code",
   "execution_count": null,
   "metadata": {},
   "outputs": [],
   "source": [
    "tiles = hv.element.tiles.EsriUSATopo().opts()\n",
    "n = 5 # decimate by a factor of 5\n",
    "cor = hv.Image(hv.Dataset(imgs['cor'][0,::n,::n], kdims=['x','y'])).opts(cmap = 'gray', colorbar=True, xaxis = None, yaxis = None, title = 'Coherence')\n",
    "hgt = hv.Image(hv.Dataset(imgs['hgt'][0,::n,::n], kdims=['x','y'])).opts(cmap = 'terrain', colorbar=True, xaxis = None, yaxis = None, title= 'DEM', alpha = 0.4)\n",
    "hgt_trans = hv.Image(hv.Dataset(imgs['hgt'][0,::100,::100], kdims=['x','y'])).opts(alpha = 0, xaxis = None, yaxis = None, title = 'Topo')\n",
    "cor_tile = tiles  * cor\n",
    "hgt_tile = tiles  * hgt\n",
    "imagery = hv.element.tiles.EsriImagery()  * hgt_trans\n",
    "\n",
    "hv.Layout([cor_tile, hgt_tile, imagery]).opts(width = 400, height = 900)"
   ]
  },
  {
   "cell_type": "code",
   "execution_count": null,
   "metadata": {},
   "outputs": [],
   "source": [
    "import seaborn as sns\n",
    "xna = imgs['hgt'].data.ravel()\n",
    "yna = imgs['cor'].data.ravel()\n",
    "x = xna[(~np.isnan(xna)) & (~np.isnan(yna))][::100]\n",
    "y = yna[(~np.isnan(xna)) & (~np.isnan(yna))][::100]\n",
    "\n",
    "df = pd.DataFrame(dict(x=x, y=y))\n",
    "df['x_cat'] = pd.qcut(df.x, q= 6, precision = 0)\n",
    "f, ax = plt.subplots(figsize = (12,8))\n",
    "sns.violinplot(y = df.y[::100], x = df.x_cat[::100], scale = 'count')\n",
    "plt.xlabel('Elevation Bands (m)')\n",
    "plt.ylabel('Coherence')"
   ]
  },
  {
   "cell_type": "markdown",
   "metadata": {},
   "source": [
    "example of coherence imagery with visual to compare"
   ]
  },
  {
   "cell_type": "markdown",
   "metadata": {},
   "source": [
    "Here we will compare UAVSAR data prodcuts to optical Harmonized Landsat Sentinel-2 (HLS) data.....\n"
   ]
  },
  {
   "cell_type": "markdown",
   "metadata": {},
   "source": [
    "example of phase with coherence to see how low coherence effects unwrapping\n",
    "\n",
    "- roads\n",
    "- lakes\n",
    "- avalanche paths"
   ]
  },
  {
   "cell_type": "code",
   "execution_count": null,
   "metadata": {},
   "outputs": [],
   "source": [
    "tiles = hv.element.tiles.EsriUSATopo().opts()\n",
    "n = 5 # decimate by a factor of 5\n",
    "cor = hv.Image(hv.Dataset(imgs['cor'][0,::n,::n], kdims=['x','y'])).opts(cmap = 'gray', colorbar=True, xaxis = None, yaxis = None, title = 'Coherence')\n",
    "unw = hv.Image(hv.Dataset(imgs['unw'][0,::n,::n], kdims=['x','y'])).opts(cmap = 'magma', colorbar=True, xaxis = None, yaxis = None, title= 'Unwrapped Phase', clim = (0, 2*np.pi))\n",
    "cor_tile = tiles  * cor\n",
    "unw_tile = tiles  * unw\n",
    "\n",
    "hv.Layout([cor_tile, unw_tile]).opts(width = 400, height = 900)"
   ]
  },
  {
   "cell_type": "markdown",
   "metadata": {},
   "source": [
    "two complex images and plot phase and then do complex cross conjugate to see patterns appear"
   ]
  },
  {
   "cell_type": "markdown",
   "metadata": {},
   "source": [
    "## Polarimetric Imagery"
   ]
  },
  {
   "cell_type": "markdown",
   "metadata": {},
   "source": [
    "explanation of polarimetric imagery"
   ]
  },
  {
   "cell_type": "markdown",
   "metadata": {},
   "source": [
    "example of alpha angle and entropy with diagram"
   ]
  }
 ],
 "metadata": {
  "kernelspec": {
   "display_name": "Python 3.10.5 ('hackweek')",
   "language": "python",
   "name": "python3"
  },
  "language_info": {
   "codemirror_mode": {
    "name": "ipython",
    "version": 3
   },
   "file_extension": ".py",
   "mimetype": "text/x-python",
   "name": "python",
   "nbconvert_exporter": "python",
   "pygments_lexer": "ipython3",
   "version": "3.10.5"
  },
  "vscode": {
   "interpreter": {
    "hash": "485426853efb45fbcac7604c62a774e4eca2d162588db5a3cdf8fcb52b528869"
   }
  }
 },
 "nbformat": 4,
 "nbformat_minor": 2
}
