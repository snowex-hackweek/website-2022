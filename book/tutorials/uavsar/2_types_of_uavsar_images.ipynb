{
 "cells": [
  {
   "cell_type": "markdown",
   "metadata": {},
   "source": [
    "# Uavsar Data Products\n",
    "\n",
    "Uavsar has a variety of different type of images:\n",
    "\n",
    "[Repeat Pass Interferometric](https://uavsar.jpl.nasa.gov/science/documents/rpi-format.html) images contain:\n",
    "```{admonition} InSAR Data Types\n",
    ":class: InSAR Data Types\n",
    "- ANN file (.ann): a text annotation file with metadata\n",
    "- AMP files (.amp1 and .amp2): amplitude products for flight 1 and flight 2\n",
    "- COR files (.cor): coherence a measure of the noise level of the phase\n",
    "- INT files (.int): wrapped phase difference between the two images\n",
    "- UNW files (.unw): unwrapped phase difference between the two images\n",
    "- INC files (.inc): incidence angle in radians\n",
    "- HGT file  (.hgt): the DEM that was used in the InSAR processing\n",
    "```\n",
    "\n",
    "[Polarimetric PolSAR](https://uavsar.jpl.nasa.gov/science/documents/polsar-format.html) images contain:\n",
    "- ANN file (.ann): a text annotation file with metadata\n",
    "- The rest of files are all of the format XXYY, and are the phase difference between polarization XX and polarization YY. For instance HHHV is the phase difference between HH and HV polarizations.\n",
    "\n",
    "Finally all images can be in radar slant range or projected into WGS84. Images that have already been projected to ground range will have the extension .grd appended to their file type extension. \n",
    "\n",
    "For instance a image of unwrapped phase that has not been georefenced would end with .unw, while one that was georeferenced would end with .unw.grd. You will generally want to use .grd files.\n",
    "- GRD files (.grd): products projected to the ground in geographic coordinates (latitude, longitude)\n"
   ]
  },
  {
   "cell_type": "markdown",
   "metadata": {},
   "source": [
    "## Interferometric Imagery\n",
    "\n",
    "explanation of insar data types"
   ]
  },
  {
   "cell_type": "markdown",
   "metadata": {},
   "source": [
    "example of coherence imagery with visual to compare"
   ]
  },
  {
   "cell_type": "markdown",
   "metadata": {},
   "source": [
    "Here we will compare UAVSAR data prodcuts to optical Harmonized Landsat Sentinel-2 (HLS) data.....\n"
   ]
  },
  {
   "cell_type": "markdown",
   "metadata": {},
   "source": [
    "example of phase with coherence to see how low coherence effects unwrapping"
   ]
  },
  {
   "cell_type": "markdown",
   "metadata": {},
   "source": [
    "two complex images and plot phase and then do complex cross conjugate to see patterns appear"
   ]
  },
  {
   "cell_type": "markdown",
   "metadata": {},
   "source": [
    "## Polarimetric Imagery"
   ]
  },
  {
   "cell_type": "markdown",
   "metadata": {},
   "source": [
    "explanation of polarimetric imagery"
   ]
  },
  {
   "cell_type": "markdown",
   "metadata": {},
   "source": [
    "example of alpha angle and entropy with diagram"
   ]
  }
 ],
 "metadata": {
  "language_info": {
   "name": "python"
  }
 },
 "nbformat": 4,
 "nbformat_minor": 2
}
