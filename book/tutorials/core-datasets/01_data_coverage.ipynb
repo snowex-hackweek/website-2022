{
 "cells": [
  {
   "cell_type": "markdown",
   "id": "96eeebf3-7c10-40a3-96ae-9a456d26fc3c",
   "metadata": {},
   "source": [
    "<img src='content/01_banner.png'>"
   ]
  },
  {
   "cell_type": "markdown",
   "id": "625d1e46-0401-4aa7-8075-8491b1325a29",
   "metadata": {},
   "source": [
    "# SnowEx Field Campaigns Overview\n",
    "## Measurement Coverage\n",
    "brought to you by: \n",
    "* **Megan Mason** (NASA Goddard / SSAI) megan.a.mason@nasa.gov\n",
    "* **Carrie Vuyovich** (NASA Goddard) carrie.m.vuyovich@nasa.gov\n",
    "* **HP Marshall** (Boise State) hpmarshall@boisestate.edu"
   ]
  },
  {
   "cell_type": "markdown",
   "id": "c36f0da6-2a9c-49b2-b6f3-ec07031d30d6",
   "metadata": {},
   "source": [
    "<img src='content/01_teaser.png'>"
   ]
  },
  {
   "cell_type": "markdown",
   "id": "dea17f58-8f1c-4f4b-a448-fd99209eb011",
   "metadata": {},
   "source": [
    "Learning Objectives:\n",
    "* Visual overview of the NASA SnowEx field campaigns\n",
    "* Understand the structure of the different campaigns \n",
    "* Get a sense for the different campaign structures"
   ]
  },
  {
   "cell_type": "markdown",
   "id": "f8dfe136-f5b9-4c30-b272-7f222205f330",
   "metadata": {
    "tags": []
   },
   "source": [
    "### Where has SnowEx Been?\n",
    "Campaign efforts are focused on various snow climates in the Western United States. SnowEx partnerships and expertise are spread across the US and international.\n"
   ]
  },
  {
   "cell_type": "markdown",
   "id": "4961f594-ed9a-4394-8683-19c7f3ee27be",
   "metadata": {},
   "source": [
    "<img src='content/01_where-has-snowex-been.png'>"
   ]
  },
  {
   "cell_type": "markdown",
   "id": "4129c1af-dc53-4597-9015-ce2affc6b32a",
   "metadata": {},
   "source": [
    "### Temporal Extent\n",
    "[add more text here]\n",
    " \n",
    "<img src='content/01_iop-v-ts.png'>"
   ]
  },
  {
   "cell_type": "markdown",
   "id": "51b12aa9-6cc1-43d0-99a8-820ae721b5d7",
   "metadata": {},
   "source": [
    "### Focus on Different Snow Classes\n",
    "[statement here about collection data in a variety of climates]\n",
    " \n",
    "[insert image of snow-classification-with-ground-obs]"
   ]
  },
  {
   "cell_type": "markdown",
   "id": "08580264-ed3a-4343-9b40-58c3789b1e4e",
   "metadata": {
    "jp-MarkdownHeadingCollapsed": true,
    "tags": []
   },
   "source": [
    "### Recap\n",
    "* The participant-driven SnowEx effort is conducting a multi-year, multi-sensor seasonal snow campaigns, targeting different snow classes to collect a range of coincident in situ and remotely sensed observations.\n",
    "\n",
    "* The field and airborne campaigns are designed to directly respond to the current knowledge gaps in remote sensing of seasonal snow.  "
   ]
  },
  {
   "cell_type": "markdown",
   "id": "ac92ba71-2ac8-4435-b668-e40050ac9502",
   "metadata": {},
   "source": [
    "### References \n",
    "2020 Experimental plan\n",
    "\n",
    "THP Science Plan"
   ]
  }
 ],
 "metadata": {
  "kernelspec": {
   "display_name": "Python 3 (ipykernel)",
   "language": "python",
   "name": "python3"
  },
  "language_info": {
   "codemirror_mode": {
    "name": "ipython",
    "version": 3
   },
   "file_extension": ".py",
   "mimetype": "text/x-python",
   "name": "python",
   "nbconvert_exporter": "python",
   "pygments_lexer": "ipython3",
   "version": "3.10.5"
  }
 },
 "nbformat": 4,
 "nbformat_minor": 5
}
