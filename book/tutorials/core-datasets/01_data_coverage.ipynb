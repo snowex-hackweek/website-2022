{
 "cells": [
  {
   "cell_type": "markdown",
   "id": "96eeebf3-7c10-40a3-96ae-9a456d26fc3c",
   "metadata": {},
   "source": [
    "<img src='./content/01_banner.png'>"
   ]
  },
  {
   "cell_type": "markdown",
   "id": "625d1e46-0401-4aa7-8075-8491b1325a29",
   "metadata": {},
   "source": [
    "# SnowEx Field Campaigns Overview\n",
    "(5 minutes)\n",
    "\n",
    "brought to you by: \n",
    "* **Megan Mason** (NASA Goddard / SSAI) megan.a.mason@nasa.gov\n",
    "* **Carrie Vuyovich** (NASA Goddard) carrie.m.vuyovich@nasa.gov\n",
    "* **HP Marshall** (Boise State) hpmarshall@boisestate.edu"
   ]
  },
  {
   "cell_type": "markdown",
   "id": "c36f0da6-2a9c-49b2-b6f3-ec07031d30d6",
   "metadata": {},
   "source": [
    "<img src='./content/01_teaser.png'>"
   ]
  },
  {
   "cell_type": "markdown",
   "id": "dea17f58-8f1c-4f4b-a448-fd99209eb011",
   "metadata": {},
   "source": [
    "Learning Objectives:\n",
    "* Visual overview of the NASA SnowEx field campaigns\n",
    "* Understand the structure of the different campaign types \n",
    "* Get a sense for the extent of data coverage"
   ]
  },
  {
   "cell_type": "markdown",
   "id": "b4e8833b-6572-44c8-b841-aeee7aaa59ed",
   "metadata": {},
   "source": [
    "## Data Coverage\n",
    "### Campaign Summary Table\n",
    "Each year we build upon our efforts to further investigate the identitifed snow remote sensing science gaps. The summary table lists the focus for each campaign by year and type. "
   ]
  },
  {
   "cell_type": "markdown",
   "id": "83b82325-9f6c-4fb3-9947-d22c52a5306d",
   "metadata": {},
   "source": [
    "| **Year**     | **Type** | **Campaign Focus** |\n",
    "| :----------- | :--------- |:------------------- |\n",
    "| 2017  | IOP   | Colorado, focused on multiple instruments in a forest gradient.       |\n",
    "| 2020  | IOP, TS   | Western US, focused on Time Series of L-band InSAR, Active/passive microwave for SWE and Thermal IR for snow surface temp.|\n",
    "| 2021  | TS   | Western US, continued Time Series, L-band InSAR, also addressed Prairie & Albedo questions. |\n",
    "| 2023  | IOP   | Tundra & Boreal forest, focus plans to address SWE/snow depth and albedo objectives. |\n",
    "\n",
    "\n",
    "*IOP = Intensive Observation Period*; *TS = Time Series*"
   ]
  },
  {
   "cell_type": "markdown",
   "id": "f8dfe136-f5b9-4c30-b272-7f222205f330",
   "metadata": {
    "tags": []
   },
   "source": [
    "### Where has SnowEx Been?\n",
    "Campaign efforts are focused on various snow climates in the Western United States. SnowEx partnerships and expertise are spread across the US and international.\n",
    "\n",
    "<figure>\n",
    "<img src='./content/01_where-has-snowex-been.png'>\n",
    "<figcaption algin = \"left\"> <b>Figure 1.</b> (L) Map of SnowEx ground and UAVSAR airborne flight boxes. (R) Table of SnowEx regional locations for each campaign.    \n",
    "<figure>"
   ]
  },
  {
   "cell_type": "markdown",
   "id": "4129c1af-dc53-4597-9015-ce2affc6b32a",
   "metadata": {},
   "source": [
    "### What's with the IOP versus the TS?\n",
    "These are two different sampling strategies, but result in the same types of measurements and data set products. Depending on the  research application it may not matter at all which you choose to work with, or even combine! The important thing to grasp is the difference in spatial and temporal extent of the campaign periods. If the sampling protocols or data set products change over time, it is for the sake of improvement. When possible, we aim to keep things consistent to continue to build a legacy data set. \n",
    "\n",
    "<figure>\n",
    "<img src='./content/01_campaign_venn_diagram.jpg'>\n",
    "<figcaption algin = \"left\"> <b>Figure 2.</b> Diagram to differentiate the Intensive Observation Period (IOP) and Time Series (TS) campaign types. The center describes what components remain consistent amongst the different campaign types.    \n",
    "<figure>\n"
   ]
  },
  {
   "cell_type": "markdown",
   "id": "51b12aa9-6cc1-43d0-99a8-820ae721b5d7",
   "metadata": {},
   "source": [
    "### Snow Classification Coverage\n",
    "\n",
    "Thanks to Sturm and Liston 2021 (and 1995), we have a global seasonal snow classification system. This is a vital mission planning tool for remote sensing snow studies. Revised from inception, the snow classification system offers improved utility of the climatological snow classes due to improved (much higher) resolution (300 m over North America). This data set can be found at NSIDC and downloaded at multiple resolutions.\n",
    "\n",
    "[NSIDC Global Seasonal-Snow Classification, Version 1](https://nsidc.org/data/NSIDC-0768/versions/1) \n",
    "\n",
    "Check out [Sturm and Liston, 2021](https://journals.ametsoc.org/view/journals/hydr/22/11/JHM-D-21-0070.1.xml) to find out more \n",
    "\n",
    "<figure>\n",
    "<img src='./content/01_snow-classes-sturm.png'>\n",
    "<figcaption algin = \"left\"> <b>Figure 3.</b> Snow Classes across North America at 300 m (Sturm and Liston, 2021)    \n",
    "<figure>\n"
   ]
  },
  {
   "cell_type": "markdown",
   "id": "eb355d96-5f46-4380-a8b1-6c45cb644b7a",
   "metadata": {
    "jp-MarkdownHeadingCollapsed": true,
    "tags": []
   },
   "source": [
    "### Now we all must wonder - Which Snow Classes have been part of the SnowEx sampling?\n",
    "\n",
    "As part of the mission statement, SnowEx aims to quantify snow estimation uncertainty across a range of snow classes, terrain and vegetration types. This is important to determine what areas and time periods have high SWE uncertainty across the ensemble of instrument techniques. \n",
    "\n",
    "<figure>\n",
    "<img src='./content/01_snow-class-coverage.png'>\n",
    "<figcaption algin = \"left\"> <b>Figure 4.</b> Map of the averaged snow pits by site for the 2020 and 2021 Time Series Campaign. Note, some points are overlapping in the eastern Rocky Mountain region around Colorado. The total number of unique snow pit sites are listed in the legend.     \n",
    "<figure>\n"
   ]
  },
  {
   "cell_type": "markdown",
   "id": "08580264-ed3a-4343-9b40-58c3789b1e4e",
   "metadata": {
    "jp-MarkdownHeadingCollapsed": true,
    "tags": []
   },
   "source": [
    "### Recap\n",
    "* SnowEx campaigns are structured based on the objectives set out in the SnowEx Science Plan. Some of those objectives are meet by conducting an all hands-on, short and intenstive observation period (IOP), while others are addressed by studying the evolution of the snowpack over a much longer time series (TS) style campaign. \n",
    "\n",
    "* The coincident field and airborne campaigns are designed to directly respond to the current knowledge gaps in remote sensing of seasonal snow, thus the participant-driven SnowEx effort targets a range of snow classes, terrain and vegetation types.  "
   ]
  },
  {
   "cell_type": "markdown",
   "id": "ac92ba71-2ac8-4435-b668-e40050ac9502",
   "metadata": {},
   "source": [
    "### References \n",
    "[2020 Experimental plan](https://snow.nasa.gov/sites/default/files/NASA_SnowEx_Experiment_Plan_v15_draft.pdf)\n",
    "\n",
    "[SnowEx Science Plan](https://snow.nasa.gov/sites/default/files/SnowEx_Science_Plan_v1.6.pdf)\n",
    "\n",
    "[Sturm and Liston, 2021](https://journals.ametsoc.org/view/journals/hydr/22/11/JHM-D-21-0070.1.xml)"
   ]
  }
 ],
 "metadata": {
  "kernelspec": {
   "display_name": "Python 3 (ipykernel)",
   "language": "python",
   "name": "python3"
  },
  "language_info": {
   "codemirror_mode": {
    "name": "ipython",
    "version": 3
   },
   "file_extension": ".py",
   "mimetype": "text/x-python",
   "name": "python",
   "nbconvert_exporter": "python",
   "pygments_lexer": "ipython3",
   "version": "3.10.5"
  }
 },
 "nbformat": 4,
 "nbformat_minor": 5
}
