{
 "cells": [
  {
   "cell_type": "markdown",
   "id": "96eeebf3-7c10-40a3-96ae-9a456d26fc3c",
   "metadata": {},
   "source": [
    "<img src='content/01_banner.png'>"
   ]
  },
  {
   "cell_type": "markdown",
   "id": "625d1e46-0401-4aa7-8075-8491b1325a29",
   "metadata": {},
   "source": [
    "# SnowEx Field Campaigns Overview\n",
    "## Measurement Coverage\n",
    "brought to you by: \n",
    "* **Megan Mason** (NASA Goddard / SSAI) megan.a.mason@nasa.gov\n",
    "* **Carrie Vuyovich** (NASA Goddard) carrie.m.vuyovich@nasa.gov\n",
    "* **HP Marshall** (Boise State) hpmarshall@boisestate.edu"
   ]
  },
  {
   "cell_type": "markdown",
   "id": "c36f0da6-2a9c-49b2-b6f3-ec07031d30d6",
   "metadata": {},
   "source": [
    "<img src='content/01_teaser.png'>"
   ]
  },
  {
   "cell_type": "markdown",
   "id": "dea17f58-8f1c-4f4b-a448-fd99209eb011",
   "metadata": {},
   "source": [
    "Learning Objectives:\n",
    "* Visual overview of the NASA SnowEx field campaigns\n",
    "* Understand the structure of the different campaign types \n",
    "* Get a sense for the extent of data coverage"
   ]
  },
  {
   "cell_type": "markdown",
   "id": "b4e8833b-6572-44c8-b841-aeee7aaa59ed",
   "metadata": {},
   "source": [
    "### Campaigns Summary Table\n",
    "Each year we build upon our efforts to further investigate the identitifed snow remote sensing science gaps. The summary table lists the focus for each campaign by year. "
   ]
  },
  {
   "cell_type": "markdown",
   "id": "83b82325-9f6c-4fb3-9947-d22c52a5306d",
   "metadata": {},
   "source": [
    "| **Year**     | **Type** | **Campaign Focus** |\n",
    "| :----------- | :--------- |:------------------- |\n",
    "| 2017  | IOP   | Colorado, focused on multiple instruments in a forest gradient.       |\n",
    "| 2020  | IOP, TS   | Western US, focused on Time Series of L-band InSAR, Active/passive microwave for SWE and Thermal IR for snow surface temp.|\n",
    "| 2021  | TS   | Western US, continued Time Series, L-band InSAR, also addressed Prairie & Albedo questions. |\n",
    "| 2023  | IOP   | Tundra & Boreal forest, focus plans to address SWE/snow depth and albedo objectives. |\n",
    "\n",
    "\n",
    "*IOP = Intensive Observation Period*; *TS = Time Series*\n",
    "\n"
   ]
  },
  {
   "cell_type": "markdown",
   "id": "f8dfe136-f5b9-4c30-b272-7f222205f330",
   "metadata": {
    "tags": []
   },
   "source": [
    "### Where has SnowEx Been?\n",
    "Campaign efforts are focused on various snow climates in the Western United States. SnowEx partnerships and expertise are spread across the US and international.\n"
   ]
  },
  {
   "cell_type": "markdown",
   "id": "4961f594-ed9a-4394-8683-19c7f3ee27be",
   "metadata": {},
   "source": [
    "<img src='content/01_where-has-snowex-been.png'>"
   ]
  },
  {
   "cell_type": "markdown",
   "id": "4129c1af-dc53-4597-9015-ce2affc6b32a",
   "metadata": {},
   "source": [
    "### Temporal Extent\n",
    "For all campagins the ground observations overlap and sometimes even extend beyond the extent of airborne instruments.  \n",
    " \n",
    "<img src='content/01_iop-v-ts.png'>"
   ]
  },
  {
   "cell_type": "markdown",
   "id": "51b12aa9-6cc1-43d0-99a8-820ae721b5d7",
   "metadata": {},
   "source": [
    "### Snow Class Coverage\n",
    "[statement here about collection data in a variety of climates]\n",
    " \n",
    "[insert image of snow-classification-with-ground-obs]\n",
    "\n",
    "\n"
   ]
  },
  {
   "cell_type": "code",
   "execution_count": null,
   "id": "aee3c61a-4986-4e72-b162-20c78e0803b3",
   "metadata": {},
   "outputs": [],
   "source": [
    "# imports\n",
    "import geopandas as gpd\n",
    "import requests\n",
    "import ipyleaflet\n",
    "from ipyleaflet import Map, GeoData, Rectangle, basemaps, LayersControl, basemap_to_tiles, TileLayer, SplitMapControl, Polygon, Popup, Marker\n",
    "import ipywidgets\n",
    "from ipywidgets import HTML"
   ]
  },
  {
   "cell_type": "code",
   "execution_count": null,
   "id": "8420bea2-7a21-42ff-840e-604dc524e370",
   "metadata": {},
   "outputs": [],
   "source": [
    "bbox = [-125, 49, -102, 31]\n",
    "west, north, east, south = bbox\n",
    "bbox_ctr = [0.5*(north+south), 0.5*(west+east)]"
   ]
  },
  {
   "cell_type": "code",
   "execution_count": null,
   "id": "8f44e14d-f6a0-48d7-99f7-d7046015c71c",
   "metadata": {},
   "outputs": [],
   "source": [
    "m = Map(basemap=basemaps.CartoDB.Positron, center=bbox_ctr, zoom=4)\n",
    "rectangle = Rectangle(bounds=((south, west), (north, east))) #SW and NE corners of the rectangle (lat, lon)\n",
    "m.add_layer(rectangle)\n",
    "m"
   ]
  },
  {
   "cell_type": "code",
   "execution_count": null,
   "id": "f1679664-e95f-4585-b603-0799786fc6e7",
   "metadata": {},
   "outputs": [],
   "source": [
    "snowClass_dict = {\n",
    "1: \"Tundra\",\n",
    "2: \"Boreal Forest\",\n",
    "3: \"Maritime\",\n",
    "4: \"Ephemeral\",\n",
    "5: \"Prairie\",\n",
    "6: \"Montane Forest\",\n",
    "7: \"Ice\",\n",
    "8: \"Ocean\"\n",
    "}\n",
    "\n",
    "# from Liston et. al., 2021"
   ]
  },
  {
   "cell_type": "code",
   "execution_count": null,
   "id": "6f746085-834a-443f-a51c-a7939874d7cd",
   "metadata": {},
   "outputs": [],
   "source": [
    "# map contains\n",
    "# 2020 pits, transects, interval boards\n",
    "# 2021 pits, transects, interval boards\n",
    "m.clear_layers()\n",
    "# Publicaly available github gist geojson, url on Megan's github, gists\n",
    "url = \"https://gist.githubusercontent.com/meganmason/aceeb6128eb1fd607d48f7d00048dcdc/raw/314d912cb78da1301cd6d1b1f0df37264a4f09e4/2020-pits-avg.geojson\"\n",
    "\n",
    "# open as a geopandas dataframe\n",
    "gdf = gpd.read_file(url)\n",
    "\n",
    "# view the geopandas dataframe, first 5 lines with .head()\n",
    "# gdf.head()\n",
    "\n",
    "# set up geo_data layer for map\n",
    "# geo_data = GeoData(geo_dataframe = gdf,\n",
    "#     style={'color': 'black', 'radius':8, 'fillColor': '#3366cc', 'opacity':0.5, 'weight':1.9, 'dashArray':'2', 'fillOpacity':0.6},\n",
    "#     hover_style={'fillColor': 'red' , 'fillOpacity': 0.2},\n",
    "#     point_style={'radius': 5, 'color': 'red', 'fillOpacity': 0.8, 'fillColor': 'blue', 'weight': 3},\n",
    "#     name = '2020 TS pits')\n",
    "\n",
    "\n",
    "# for name, population, lon, lat in guj_districts_pop[[\"District\", \"Population in 2011\", \"Longitude\", \"Latitude\"]].values:\n",
    "#     message = HTML(value=\"%s : %d\"%(name, population))\n",
    "#     popup = Popup(location=(lat, lon), child=message, close_button=False, auto_close=False, close_on_escape_key=False)\n",
    "#     m.add_layer(popup)\n",
    "    \n",
    "for Site, Lon, Lat, pitCount, snowClass in gdf[[\"Site\", \"Longitude\", \"Latitude\", \"Pit Count\", \"snow-class\"]].values:\n",
    "    # print(Site)\n",
    "    message = HTML(value=\"%s: %s, %d\"%(Site, snowClass_dict[snowClass], pitCount))\n",
    "    # popup = Popup(location=(Lat, Lon), child=message, close_button=False, auto_close=False, close_on_escape_key=False)\n",
    "    marker = Marker(location=(Lat, Lon))\n",
    "    marker.popup = message\n",
    "\n",
    "    m.add_layer(marker)\n",
    "    \n",
    "    # m.add_layer(popup)\n",
    "\n",
    "# m.add_layer(geo_data) \n",
    "m.add_control(LayersControl())\n",
    "m"
   ]
  },
  {
   "cell_type": "code",
   "execution_count": null,
   "id": "4000d6d3-fe86-4b38-a6ab-3d02008f28ef",
   "metadata": {},
   "outputs": [],
   "source": [
    "gdf.columns"
   ]
  },
  {
   "cell_type": "markdown",
   "id": "08580264-ed3a-4343-9b40-58c3789b1e4e",
   "metadata": {
    "jp-MarkdownHeadingCollapsed": true,
    "tags": []
   },
   "source": [
    "### Recap\n",
    "* The participant-driven SnowEx effort is conducting a multi-year, multi-sensor seasonal snow campaigns, targeting different snow classes to collect a range of coincident in situ and remotely sensed observations.\n",
    "\n",
    "* The field and airborne campaigns are designed to directly respond to the current knowledge gaps in remote sensing of seasonal snow.  "
   ]
  },
  {
   "cell_type": "markdown",
   "id": "ac92ba71-2ac8-4435-b668-e40050ac9502",
   "metadata": {},
   "source": [
    "### References \n",
    "2020 Experimental plan\n",
    "\n",
    "THP Science Plan"
   ]
  }
 ],
 "metadata": {
  "kernelspec": {
   "display_name": "Python 3 (ipykernel)",
   "language": "python",
   "name": "python3"
  },
  "language_info": {
   "codemirror_mode": {
    "name": "ipython",
    "version": 3
   },
   "file_extension": ".py",
   "mimetype": "text/x-python",
   "name": "python",
   "nbconvert_exporter": "python",
   "pygments_lexer": "ipython3",
   "version": "3.10.5"
  }
 },
 "nbformat": 4,
 "nbformat_minor": 5
}
