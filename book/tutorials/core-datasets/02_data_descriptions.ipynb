{
 "cells": [
  {
   "cell_type": "markdown",
   "id": "53c656df-dc45-4239-92c0-e07e69cfccaa",
   "metadata": {},
   "source": [
    "# Ground-Based Measurements and Data Descriptions"
   ]
  },
  {
   "cell_type": "markdown",
   "id": "67c73199-dc97-425a-9c7c-ca61d97d3bcc",
   "metadata": {},
   "source": [
    "Learning Objectives: \n",
    "* Become familiar with which measurement types are central to each field campaign\n",
    "* Know the sampling strategy and naming conventions for each campaign"
   ]
  },
  {
   "cell_type": "markdown",
   "id": "d1b78de7-9973-4240-a730-0ee8de6d7523",
   "metadata": {},
   "source": [
    "## Share Your Thoughts\n",
    "\n",
    "1. Navigate to this **Google Slides** page\n",
    "2. Add your thought on data applications now that you know what measurements we have and roughly where they occur"
   ]
  },
  {
   "cell_type": "markdown",
   "id": "67a1c7cf-89e7-4615-98eb-7581c6f4b1e2",
   "metadata": {},
   "source": [
    "## Recap"
   ]
  },
  {
   "cell_type": "markdown",
   "id": "0efd0c03-e5ff-439f-af74-1604b6028008",
   "metadata": {},
   "source": [
    "## References"
   ]
  }
 ],
 "metadata": {
  "kernelspec": {
   "display_name": "Python 3 (ipykernel)",
   "language": "python",
   "name": "python3"
  },
  "language_info": {
   "codemirror_mode": {
    "name": "ipython",
    "version": 3
   },
   "file_extension": ".py",
   "mimetype": "text/x-python",
   "name": "python",
   "nbconvert_exporter": "python",
   "pygments_lexer": "ipython3",
   "version": "3.10.5"
  }
 },
 "nbformat": 4,
 "nbformat_minor": 5
}
