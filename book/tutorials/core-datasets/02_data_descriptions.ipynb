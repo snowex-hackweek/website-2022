{
 "cells": [
  {
   "cell_type": "markdown",
   "id": "53c656df-dc45-4239-92c0-e07e69cfccaa",
   "metadata": {},
   "source": [
    "# Ground-Based Measurements\n",
    "## Data Descriptions"
   ]
  },
  {
   "cell_type": "markdown",
   "id": "67c73199-dc97-425a-9c7c-ca61d97d3bcc",
   "metadata": {},
   "source": [
    "Learning Objectives: \n",
    "* Become familiar with which measurement types are central to each field campaign\n",
    "* Know the sampling strategy and naming conventions for each campaign"
   ]
  },
  {
   "cell_type": "markdown",
   "id": "1acffe28-6eff-4bd3-84e1-390780b5b075",
   "metadata": {},
   "source": [
    "## What are the core data sets for all field campagins? \n",
    "<img src='content/02_pits_and_depths.png'>"
   ]
  },
  {
   "cell_type": "markdown",
   "id": "29b548bb-a5af-49ab-99f8-a6de69d72f0e",
   "metadata": {},
   "source": [
    "### What is a **snow pit**? <span style=\"color:gray\">  ⇨ 'Layer data' & 'Site data' in the SnowEx database\n",
    "A snow pit is a vertical profile of snow from the snow surface to the ground.\n",
    "This is where we collect a suite of ground observations that aid instrument and model development."
   ]
  },
  {
   "cell_type": "markdown",
   "id": "0b459cf8-ea2d-4ded-8fa9-27ffa7b418d4",
   "metadata": {},
   "source": [
    "### What are **depth transects**? or simply **depths** <span style=\"color:gray\">  ⇨ 'Point data' in the SnowEx Database\n",
    "These are point meausurements that tell you how deep the snow is at georeferenced locations.\n",
    "There are several instruments available to capture snow depth, some of which are an avalanche probe, MagnaProbe, or Mesa2."
   ]
  },
  {
   "cell_type": "markdown",
   "id": "d6f9dedf-cb09-4afb-afed-d27a4a613b66",
   "metadata": {},
   "source": [
    "### What is an **interval board**? <span style=\"color:gray\">   ⇨ data not processed yet for database\n",
    "An interval board is a 2x2\" board with a vertical pole attached at the center.\n",
    "The board surface is our reference to track the amount of new snow that falls between field visits.\n",
    "The board remains fixed for the season, and gets cleared each visit."
   ]
  },
  {
   "cell_type": "code",
   "execution_count": null,
   "id": "a039521a-87fb-420d-ac8a-a0d058df1035",
   "metadata": {},
   "outputs": [],
   "source": []
  },
  {
   "cell_type": "markdown",
   "id": "d1b78de7-9973-4240-a730-0ee8de6d7523",
   "metadata": {},
   "source": [
    "## Share Your Thoughts\n",
    "\n",
    "1. Navigate to this **Google Slides** page\n",
    "2. Add your thought on data applications now that you know what measurements we have and roughly where they occur"
   ]
  },
  {
   "cell_type": "markdown",
   "id": "67a1c7cf-89e7-4615-98eb-7581c6f4b1e2",
   "metadata": {},
   "source": [
    "## Recap"
   ]
  },
  {
   "cell_type": "markdown",
   "id": "0efd0c03-e5ff-439f-af74-1604b6028008",
   "metadata": {},
   "source": [
    "## References"
   ]
  }
 ],
 "metadata": {
  "kernelspec": {
   "display_name": "Python 3 (ipykernel)",
   "language": "python",
   "name": "python3"
  },
  "language_info": {
   "codemirror_mode": {
    "name": "ipython",
    "version": 3
   },
   "file_extension": ".py",
   "mimetype": "text/x-python",
   "name": "python",
   "nbconvert_exporter": "python",
   "pygments_lexer": "ipython3",
   "version": "3.10.5"
  }
 },
 "nbformat": 4,
 "nbformat_minor": 5
}
