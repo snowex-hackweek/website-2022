{
 "cells": [
  {
   "cell_type": "markdown",
   "id": "53c656df-dc45-4239-92c0-e07e69cfccaa",
   "metadata": {},
   "source": [
    "# Ground-Based Measurements\n",
    "(10 minutes)"
   ]
  },
  {
   "cell_type": "markdown",
   "id": "67c73199-dc97-425a-9c7c-ca61d97d3bcc",
   "metadata": {},
   "source": [
    "Learning Objectives: \n",
    "* Become familiar with which measurements are core validation/calibration data sets\n",
    "* Know the sampling strategy and naming conventions for each campaign\n",
    "* Learn where to find and search for SnowEx data"
   ]
  },
  {
   "cell_type": "markdown",
   "id": "1acffe28-6eff-4bd3-84e1-390780b5b075",
   "metadata": {},
   "source": [
    "## Data Descriptions\n",
    "### What ground-based data sets are central for all field campagins? \n",
    "\n",
    "<figure>\n",
    "<img src='content/02_pits_and_depths.png'>\n",
    "<figcaption algin = \"left\"> <b>Figure 1.</b> Ground-based measurements central to the SnowEx campaigns. (L) Snow Pit: Observer measures the stratigraphy in the snow pit. (M) Depth Transects: Observer uses the MagnaProbe to measure snow depths. (R). Interval Boards: Observer stomps down the snow to place the interval board for another weekly long measurement cycle.     \n",
    "<figure>\n"
   ]
  },
  {
   "cell_type": "markdown",
   "id": "29b548bb-a5af-49ab-99f8-a6de69d72f0e",
   "metadata": {},
   "source": [
    "___\n",
    "### What is a **snow pit**? <span style=\"color:gray\">  ⇨ 'Layer data' & 'Site data' in the SnowEx database\n",
    "A snow pit is a vertical profile of snow from the snow surface to the ground.\n",
    "This is where we collect a suite of ground observations that aid instrument and model development."
   ]
  },
  {
   "cell_type": "markdown",
   "id": "0b459cf8-ea2d-4ded-8fa9-27ffa7b418d4",
   "metadata": {},
   "source": [
    "### What are **depth transects (spirals)**? or simply **depths** <span style=\"color:gray\">  ⇨ 'Point data' in the SnowEx database\n",
    "These are point meausurements that tell you how deep the snow is at georeferenced locations.\n",
    "There are several instruments available to capture snow depth, some of which are an avalanche probe, MagnaProbe, or Mesa2."
   ]
  },
  {
   "cell_type": "markdown",
   "id": "d6f9dedf-cb09-4afb-afed-d27a4a613b66",
   "metadata": {},
   "source": [
    "### What is an **interval board**? <span style=\"color:gray\">   ⇨ soon to be 'Point data' in the SnowEx database\n",
    "An interval board is a 2x2\" board with a vertical pole attached at the center.\n",
    "The board surface is our reference to track the amount of new snow that falls between field visits.\n",
    "The board remains fixed for the season, and gets cleared each visit.\n",
    "    \n",
    "___"
   ]
  },
  {
   "cell_type": "markdown",
   "id": "7b414aac-2932-4b9f-8c64-e1f4354b4b3c",
   "metadata": {},
   "source": [
    "### Additional detail on what's in a snow pit\n",
    "<figure>\n",
    "<img src='content/02_pit-measurements.png'>\n",
    "<figcaption algin = \"left\"> <b>Figure 2.</b> Description of parameters that come from a single snow pit visit. The colored ovals on the images correspond to the colored measurements on the left side.\n",
    "<figure>\n",
    "\n",
    "    \n",
    "Explore more detail in the [2020 Experimental Plan](https://snow.nasa.gov/sites/default/files/NASA_SnowEx_Experiment_Plan_v15_draft.pdf)"
   ]
  },
  {
   "cell_type": "markdown",
   "id": "5a3249d4-ea7f-4464-8231-a70fe98262e0",
   "metadata": {},
   "source": [
    "### Data Collection\n",
    "Field note photos from one pit visits. We call these __Pit Sheets__.\n",
    "\n",
    "<figure>\n",
    "<img src='content/02_SnowEx20_SnowPits_GMIOP_20200212_2C12_book1_v01.jpg'>\n",
    "    \n",
    "<img src='content/02_stratCodes.png'>\n",
    "    \n",
    "<img src='content/02_SnowEx20_SnowPits_GMIOP_20200212_2C12_book2_v01.jpg'>\n",
    "<figcaption algin = \"left\"> <b>Figure 3.</b> Front and back of Pit Sheets field forms. These have largely remained the same throughout the different campaigns. The middle image is a reference for the codes used in the Stratigraphy measurements. \n",
    "<figure>"
   ]
  },
  {
   "cell_type": "markdown",
   "id": "1b7317a5-262a-4ff0-a356-f21996be543c",
   "metadata": {},
   "source": [
    "### Why do we care about observations from snow pits and other measurements? \n",
    "* 90% because we need to validate what we see from airborne and satellite sensors!!\n",
    "* 10% because we are geoscientists that want to winter recreate!!\n",
    "\n",
    "(You can argue those percentages over our movement / coffee break)\n",
    "<figure>\n",
    "<img src='content/02_reasons-to-measure.png'>\n",
    "<figcaption algin = \"left\"> <b>Figure 4.</b> Examples of snow properties and features that are senstive to modeling and remote sensing signals. \n",
    "<figure>"
   ]
  },
  {
   "cell_type": "markdown",
   "id": "88df0137-1400-48ff-9184-938eb2b02036",
   "metadata": {},
   "source": [
    "### What are some other data sets?"
   ]
  },
  {
   "cell_type": "markdown",
   "id": "1b2c57c9-541e-4ae6-8b32-ad8c64c970f3",
   "metadata": {},
   "source": [
    "## Sampling Strategy and Naming Conventions\n",
    "### 2020 Grand Mesa IOP\n",
    "\n",
    "<figure>\n",
    "<img src='content/02_matrix.png'>\n",
    "<figcaption algin = \"left\"> <b>Figure 5.</b> Nine-member snow and vegetation matrix used to sample and name snow pits during the Grand Mesa IOP campaign \n",
    "<figure>\n",
    "    \n",
    "**Vegetation Classes**\n",
    "- 1-3 = treeless (0% tree cover)\n",
    "- 4-6 = sparse (1-30% tree cover)\n",
    "- 7-9 = dense (31-100% tree cover)\n",
    "\n",
    "**Snow Depth Classes**\n",
    "- 1, 4, 7 = shallow (<90cm)\n",
    "- 2, 5, 8 = medium (90-122cm)\n",
    "- 3, 6, 9 = deep (>122cm)\n",
    "\n",
    "**Flight Lines**\n",
    "- 'C' = Crossline\n",
    "- 'N' = North\n",
    "- 'S' = South\n",
    "    \n",
    "<figure>\n",
    "<img src='content/02_GMpitMap.jpg'>\n",
    "<figcaption algin = \"left\"> <b>Figure 6.</b> Grand Mesa IOP 2020 sampling design. The rectangles are the lidar, UAVSAR, SWESARR, Thermal IR, and Gamma flight lines. The point markers are the locations of snow pits. \n",
    "<figure>"
   ]
  },
  {
   "cell_type": "markdown",
   "id": "86033cd5-0ef9-4509-9974-59532c0247c7",
   "metadata": {},
   "source": [
    "### 2020 & 2021 Time Series \n",
    "\n",
    "- Location     ⇨ Regional Location with existing long-term monitoring infrastructure.\n",
    "- Site         ⇨ Averaged unique snow pit site to represent the progression of Time Series snow pits.\n",
    "- PitID        ⇨ 6-letter code unique to all snow pit sites; 2-letter state, 2-letter Location; 2-letter site name (e.g **Id**aho, **B**oise **R**iver, **B**ogus **U**pper = IDBRBU\n",
    "- Unique PitID ⇨ 6-letter site code and timestamp (e.g. format: XXXXXX_yyyymmdd_hhmm, example: IDBRBU_20200116_1345)\n",
    "\n",
    "**Table 1. (Preliminary) Comprehensive Site Summary for 2020 and 2021 Time Series Campaign**\n",
    "|State|Location                  |Site              |PitID |Latitude|Longitude |Pit Count|Snow Class|\n",
    "|-----|--------------------------|------------------|------|--------|----------|---------|----------|\n",
    "|CA   |American River Basin      |Caples Lake       |CAAMCL|38.71029|-120.04186|7        |3         |\n",
    "|CA   |Mammoth Lakes             |CUES              |CAMLCP|37.64324|-119.02906|9        |5         |\n",
    "|CA   |Mammoth Lakes             |Panorama Dome     |CAMLPD|37.61964|-119.00029|6        |6         |\n",
    "|CA   |Sagehen Creek             |Forest            |CASHFO|39.42956|-120.24211|7        |6         |\n",
    "|CA   |Sagehen Creek             |Open              |CASHOP|39.43037|-120.23982|7        |6         |\n",
    "|CA   |Sagehen Creek             |Tower 4           |CASHT4|39.42216|-120.29898|6        |3         |\n",
    "|CO   |Cameron Pass              |Cameron Peak      |COCPCP|40.56381|-105.86761|16       |6         |\n",
    "|CO   |Cameron Pass              |Joe Wright        |COCPJW|40.52406|-105.89345|8        |2         |\n",
    "|CO   |Cameron Pass              |Michigan River    |COCPMR|40.51864|-105.89193|22       |2         |\n",
    "|CO   |East River                |Aspen             |COERAP|38.92529|-106.97109|9        |6         |\n",
    "|CO   |East River                |Forest 12         |COER12|38.92973|-106.97824|12       |2         |\n",
    "|CO   |East River                |Forest 13         |COER13|38.92943|-106.97777|9        |6         |\n",
    "|CO   |East River                |Forest 14         |COER14|38.92894|-106.97757|12       |6         |\n",
    "|CO   |East River                |Gothic            |COERGT|38.95925|-106.99053|9        |6         |\n",
    "|CO   |East River                |Irwin Barn        |COERIB|38.88812|-107.10796|13       |2         |\n",
    "|CO   |East River                |Open 2            |COERO2|38.92661|-106.97848|9        |2         |\n",
    "|CO   |East River                |Open 4            |COERO4|38.92627|-106.97907|12       |2         |\n",
    "|CO   |East River                |Open 6            |COERO6|38.92669|-106.97988|9        |2         |\n",
    "|CO   |East River                |Trench 13         |COERTR|38.92920|-106.97770|5        |6         |\n",
    "|CO   |East River                |Upper             |COERUP|38.93331|-106.98994|12       |2         |\n",
    "|CO   |Fraser Experimental Forest|JPL 1             |COFEJ1|39.90556|-105.88282|35       |6         |\n",
    "|CO   |Fraser Experimental Forest|JPL 2             |COFEJ2|39.90612|-105.88255|26       |6         |\n",
    "|CO   |Fraser Experimental Forest|SNB 1             |COFEB1|39.90699|-105.87786|23       |6         |\n",
    "|CO   |Fraser Experimental Forest|SNB 2             |COFEB2|39.90703|-105.87904|18       |6         |\n",
    "|CO   |Grand Mesa                |County Line Open  |COGMCO|39.03053|-108.03220|12       |2         |\n",
    "|CO   |Grand Mesa                |County Line Tree  |COGMCT|39.03223|-108.03438|10       |2         |\n",
    "|CO   |Grand Mesa                |Mesa West Open    |COGMWO|39.03399|-108.21390|10       |2         |\n",
    "|CO   |Grand Mesa                |Mesa West Trees   |COGMWT|39.03282|-108.21291|7        |2         |\n",
    "|CO   |Grand Mesa                |Skyway Open       |COGMSO|39.04511|-108.06209|21       |2         |\n",
    "|CO   |Grand Mesa                |Skyway Tree       |COGMST|39.04565|-108.06333|18       |2         |\n",
    "|CO   |Niwot Ridge               |C1                |CONWC1|40.03317|-105.54616|9        |6         |\n",
    "|CO   |Niwot Ridge               |Forest Flat       |CONWFF|40.03186|-105.54667|12       |6         |\n",
    "|CO   |Niwot Ridge               |Forest North      |CONWFN|40.03337|-105.55380|11       |2         |\n",
    "|CO   |Niwot Ridge               |Forest South      |CONWFS|40.04021|-105.55701|13       |2         |\n",
    "|CO   |Niwot Ridge               |Open Flat         |CONWOF|40.03579|-105.55205|15       |6         |\n",
    "|CO   |Niwot Ridge               |Saddle            |CONWSA|40.05497|-105.59065|7        |1         |\n",
    "|CO   |Senator Beck              |Senator Beck      |COSBSB|37.90705|-107.72626|5        |1         |\n",
    "|CO   |Senator Beck              |Swamp Angel       |COSBSA|37.90714|-107.71121|19       |2         |\n",
    "|ID   |Boise River Basin         |Banner Open       |IDBRBO|44.30456|-115.23601|11       |6         |\n",
    "|ID   |Boise River Basin         |Banner Snotel     |IDBRBS|44.30362|-115.23457|23       |6         |\n",
    "|ID   |Boise River Basin         |Bogus Lower       |IDBRBL|43.76434|-116.10660|17       |6         |\n",
    "|ID   |Boise River Basin         |Bogus Lower Trees |IDBRBT|43.76057|-116.08979|13       |6         |\n",
    "|ID   |Boise River Basin         |Bogus Upper       |IDBRBU|43.75881|-116.09019|11       |6         |\n",
    "|ID   |Boise River Basin         |LDP Open          |IDBRLO|43.73707|-116.12179|19       |6         |\n",
    "|ID   |Boise River Basin         |LDP Tree          |IDBRLT|43.73634|-116.12053|17       |6         |\n",
    "|ID   |Boise River Basin         |Mores Creek Summit|IDBRMC|43.94735|-115.67666|3        |6         |\n",
    "|MT   |Central Ag Research Center|SnowEx-1          |MTCASX|47.05836|-109.95688|4        |5         |\n",
    "|MT   |Central Ag Research Center|Wheat             |MTCAWH|47.05942|-109.95176|1        |5         |\n",
    "|MT   |Central Ag Research Center|Wx                |MTCAWX|47.06062|-109.95693|4        |5         |\n",
    "|NM   |Jemez River               |BA Flux Tower     |NMJRBA|35.88859|-106.53184|8        |5         |\n",
    "|NM   |Jemez River               |HQ Met Station    |NMJRHQ|35.85791|-106.52137|8        |5         |\n",
    "|UT   |Little Cottonwood Canyon  |Alta Collins      |UTLCAC|40.57210|-111.62997|17       |2         |\n",
    "|UT   |Little Cottonwood Canyon  |Atwater           |UTLCAW|40.59125|-111.63759|20       |5         |\n",
    "\n",
    "Note - This table is a preliminary comprehensive site summary of the 2020 and 2021 Time Series campaigns. If a site was repeated (e.g. Cameron Pass, Michigan River) then the Pit Count column is a sum of the two years). This is preliminary because we are still adjusting and correcting some of the spatial data after confirming locations and sampling designs with site leads. The Snow Class column was extracted from the 300 m Snow Classification data set (Liston, 2021 and can be accessed [here](https://nsidc.org/data/NSIDC-0768/versions/1) at NSIDC). See the previous notebook to characterize the Snow Classes. This table does not include about ~50 snow pits that were part of the 2021 TS campaign from the Fraser Experiemental Forest becuase of the modified spatial sampling design, but will be included in the published data set, and the table will be updated to reflect those additional snow pits. \n",
    "\n",
    "This table can be accessed as a geojson from [Megan's github gists](https://gist.github.com/meganmason/dde13c46a90875e364b1c25a31bff1d8) \n",
    "\n",
    "To use this as a geojson in your project:\n",
    "1. Navigate to the link above\n",
    "2. Check out the map of data (zoom in, zoom out, etc.)\n",
    "3. Select the 'Raw' button from the top right corner\n",
    "4. Copy/Paste the URL (it's longer now)\n",
    "5. Use the code block below to import"
   ]
  },
  {
   "cell_type": "code",
   "execution_count": null,
   "id": "1ba768f2-167e-4e06-a171-3c3982b2fcfc",
   "metadata": {},
   "outputs": [],
   "source": [
    "import geopandas as gpd\n",
    "import requests\n",
    "url = \"https://gist.githubusercontent.com/meganmason/dde13c46a90875e364b1c25a31bff1d8/raw/d361e1a56eeb867bd89c87b4dc13ed431ffff6f6/SNEX_TS_SP_avg_prelim_Hackweek.geojson\"\n",
    "gdf = gpd.read_file(url)\n",
    "gdf.head()"
   ]
  },
  {
   "cell_type": "markdown",
   "id": "3894a62e-f27e-43e3-8d3a-63393b1d7c60",
   "metadata": {},
   "source": [
    "### Where can I find data?\n",
    "\n",
    "#### 1. SnowEx data sets are stored and archived at the National Snow and Ice Data Center (NSIDC) in Boulder, Colorado. \n",
    "\n",
    "**Table 2. Summary of Core Data Sets with DOI links for applicable data sets**\n",
    "<table id=\"t01\">\n",
    "<tbody>\n",
    "<tr>\n",
    "<th>Core Data Sets</th>\n",
    "<th>Parameters Available</th>\n",
    "<th>Instruments</th>\n",
    "<th>NSIDC DOI</th>\n",
    "<hr>\n",
    "</tr>\n",
    "<tr>\n",
    "<td>Snow Pits</td>\n",
    "<td>Depth, Density, Temp., LWC, Stratigraphy,<br>Grain Size, Wetness, Hand Hardness,<br>Qualitative Environment, SWE</td>\n",
    "<td>Standard pit kit</td>\n",
    "<td><a href='https://nsidc.org/data/SNEX17_SnowPits/versions/1'>SNEX17_SnowPits_GMIOP</a> \n",
    "<br>\n",
    "<a href='https://nsidc.org/data/SNEX20_GM_SP/versions/1'>SNEX20_SnowPits_GMIOP</a>\n",
    "<br>\n",
    "SNEX20_TS_SP (in review)\n",
    "<br>\n",
    "SNEX21_TS_SP (future pub.)<td>\n",
    "</tr>\n",
    "<tr>\n",
    "<td>Depth Transects</td>\n",
    "<td>Snow Depth - various sampling designs</td>\n",
    "<td>MagnaProbe, Mesa2, Pit Ruler</td>\n",
    "<td><a href='https://nsidc.org/data/SNEX17_SD/versions/1'>SNEX17_SD</a> \n",
    "<br>\n",
    "<a href='https://nsidc.org/data/SNEX20_SD/versions/1'>SNEX20_SD</a>\n",
    "<br>\n",
    "SNEX20_TS_SD (future pub.)\n",
    "<br>\n",
    "SNEX21_TS_SD (future pub.)<td>\n",
    "</tr>\n",
    "<tr>\n",
    "<td>Interval Boards</td>\n",
    "<td>New snow, SWE, density</td>\n",
    "<td>Ruler and spring scale</td>\n",
    "<td>SNEX20_TS_IB (in prep.)\n",
    "<br>\n",
    "SNEX21_TS_IB (future pub.)<td></td>\n",
    "</tr>\n",
    "<tr>\n",
    "</tr>\n",
    "<tbody>\n",
    "<table> \n",
    "<hr>\n",
    "\n",
    "_Visit [NSIDC's SnowEx Overview page](https://nsidc.org/data/snowex) to see a full table of all available [2017](https://nsidc.org/data/snowex/data_summaries), [2020](https://nsidc.org/data/snowex/data_summaries), and [2021](https://nsidc.org/data/snowex/data_summaries) products._\n",
    "    \n",
    " <figure>\n",
    "<img src='content/02_data-package.png'>\n",
    "<figcaption algin = \"left\"> <b>Figure 7.</b> Representative snow pit data package for an individual pit visit.  \n",
    "<figure>"
   ]
  },
  {
   "cell_type": "markdown",
   "id": "0dbbbd58-e7a8-4c38-a27a-ba46b6f147c6",
   "metadata": {},
   "source": [
    "#### 2. SnowEx SQL Database (preview in next tutorial!)"
   ]
  },
  {
   "cell_type": "markdown",
   "id": "67a1c7cf-89e7-4615-98eb-7581c6f4b1e2",
   "metadata": {},
   "source": [
    "## Recap\n",
    "\n",
    "* You know which measurements we have a LOT of and are consistant between multiple field campaigns\n",
    "* You are aware of the basic sampling strategy for the two main campaign types\n",
    "* You have a few tools at your finger tips to access and learn more about the data"
   ]
  },
  {
   "cell_type": "markdown",
   "id": "d1b78de7-9973-4240-a730-0ee8de6d7523",
   "metadata": {},
   "source": [
    "## Share Your Thoughts\n",
    "### Group Mind Map Activity \n",
    "\n",
    "1. Navigate to this [Google Slides](https://docs.google.com/presentation/d/1Vht7MCePDKQsts_baUAvtQZBkRsldtMzeOmztkiNAKA/edit#slide=id.g13bf53aeb4c_0_0) page to complete the Mind Map activity\n",
    "2. Wait to be assigned a table number\n",
    "3. Add your thoughts on data applications and research topics now that you know what measurements we have and roughly where they occur.\n"
   ]
  }
 ],
 "metadata": {
  "kernelspec": {
   "display_name": "Python 3 (ipykernel)",
   "language": "python",
   "name": "python3"
  },
  "language_info": {
   "codemirror_mode": {
    "name": "ipython",
    "version": 3
   },
   "file_extension": ".py",
   "mimetype": "text/x-python",
   "name": "python",
   "nbconvert_exporter": "python",
   "pygments_lexer": "ipython3",
   "version": "3.10.5"
  }
 },
 "nbformat": 4,
 "nbformat_minor": 5
}
